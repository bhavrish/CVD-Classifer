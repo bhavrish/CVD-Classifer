{
 "cells": [
  {
   "cell_type": "code",
   "execution_count": 2,
   "metadata": {},
   "outputs": [],
   "source": [
    "import pandas as pd\n",
    "import matplotlib.pyplot as plt\n",
    "from sklearn.cluster import KMeans\n",
    "import csv"
   ]
  },
  {
   "cell_type": "code",
   "execution_count": 5,
   "metadata": {},
   "outputs": [
    {
     "name": "stdout",
     "output_type": "stream",
     "text": [
      "   id    age  gender  height  weight  ap_hi  ap_lo  cholesterol  gluc  smoke  \\\n",
      "0   0  18393       2     168    62.0    110     80            1     1      0   \n",
      "1   1  20228       1     156    85.0    140     90            3     1      0   \n",
      "2   2  18857       1     165    64.0    130     70            3     1      0   \n",
      "3   3  17623       2     169    82.0    150    100            1     1      0   \n",
      "4   4  17474       1     156    56.0    100     60            1     1      0   \n",
      "\n",
      "   alco  active  cardio  \n",
      "0     0       1       0  \n",
      "1     0       1       1  \n",
      "2     0       0       1  \n",
      "3     0       1       1  \n",
      "4     0       0       0  \n"
     ]
    }
   ],
   "source": [
    "# read in data\n",
    "df = pd.read_csv('./cardio_train.csv', delimiter=';')\n",
    "print(df.head())"
   ]
  },
  {
   "cell_type": "code",
   "execution_count": 6,
   "metadata": {},
   "outputs": [
    {
     "data": {
      "text/html": [
       "<div>\n",
       "<style scoped>\n",
       "    .dataframe tbody tr th:only-of-type {\n",
       "        vertical-align: middle;\n",
       "    }\n",
       "\n",
       "    .dataframe tbody tr th {\n",
       "        vertical-align: top;\n",
       "    }\n",
       "\n",
       "    .dataframe thead th {\n",
       "        text-align: right;\n",
       "    }\n",
       "</style>\n",
       "<table border=\"1\" class=\"dataframe\">\n",
       "  <thead>\n",
       "    <tr style=\"text-align: right;\">\n",
       "      <th></th>\n",
       "      <th>age</th>\n",
       "      <th>gender</th>\n",
       "      <th>height</th>\n",
       "      <th>weight</th>\n",
       "      <th>ap_hi</th>\n",
       "      <th>ap_lo</th>\n",
       "      <th>cholesterol</th>\n",
       "      <th>gluc</th>\n",
       "      <th>smoke</th>\n",
       "      <th>alco</th>\n",
       "      <th>active</th>\n",
       "    </tr>\n",
       "  </thead>\n",
       "  <tbody>\n",
       "    <tr>\n",
       "      <th>0</th>\n",
       "      <td>18393</td>\n",
       "      <td>2</td>\n",
       "      <td>168</td>\n",
       "      <td>62.0</td>\n",
       "      <td>110</td>\n",
       "      <td>80</td>\n",
       "      <td>1</td>\n",
       "      <td>1</td>\n",
       "      <td>0</td>\n",
       "      <td>0</td>\n",
       "      <td>1</td>\n",
       "    </tr>\n",
       "    <tr>\n",
       "      <th>1</th>\n",
       "      <td>20228</td>\n",
       "      <td>1</td>\n",
       "      <td>156</td>\n",
       "      <td>85.0</td>\n",
       "      <td>140</td>\n",
       "      <td>90</td>\n",
       "      <td>3</td>\n",
       "      <td>1</td>\n",
       "      <td>0</td>\n",
       "      <td>0</td>\n",
       "      <td>1</td>\n",
       "    </tr>\n",
       "    <tr>\n",
       "      <th>2</th>\n",
       "      <td>18857</td>\n",
       "      <td>1</td>\n",
       "      <td>165</td>\n",
       "      <td>64.0</td>\n",
       "      <td>130</td>\n",
       "      <td>70</td>\n",
       "      <td>3</td>\n",
       "      <td>1</td>\n",
       "      <td>0</td>\n",
       "      <td>0</td>\n",
       "      <td>0</td>\n",
       "    </tr>\n",
       "    <tr>\n",
       "      <th>3</th>\n",
       "      <td>17623</td>\n",
       "      <td>2</td>\n",
       "      <td>169</td>\n",
       "      <td>82.0</td>\n",
       "      <td>150</td>\n",
       "      <td>100</td>\n",
       "      <td>1</td>\n",
       "      <td>1</td>\n",
       "      <td>0</td>\n",
       "      <td>0</td>\n",
       "      <td>1</td>\n",
       "    </tr>\n",
       "    <tr>\n",
       "      <th>4</th>\n",
       "      <td>17474</td>\n",
       "      <td>1</td>\n",
       "      <td>156</td>\n",
       "      <td>56.0</td>\n",
       "      <td>100</td>\n",
       "      <td>60</td>\n",
       "      <td>1</td>\n",
       "      <td>1</td>\n",
       "      <td>0</td>\n",
       "      <td>0</td>\n",
       "      <td>0</td>\n",
       "    </tr>\n",
       "  </tbody>\n",
       "</table>\n",
       "</div>"
      ],
      "text/plain": [
       "     age  gender  height  weight  ap_hi  ap_lo  cholesterol  gluc  smoke  \\\n",
       "0  18393       2     168    62.0    110     80            1     1      0   \n",
       "1  20228       1     156    85.0    140     90            3     1      0   \n",
       "2  18857       1     165    64.0    130     70            3     1      0   \n",
       "3  17623       2     169    82.0    150    100            1     1      0   \n",
       "4  17474       1     156    56.0    100     60            1     1      0   \n",
       "\n",
       "   alco  active  \n",
       "0     0       1  \n",
       "1     0       1  \n",
       "2     0       0  \n",
       "3     0       1  \n",
       "4     0       0  "
      ]
     },
     "execution_count": 6,
     "metadata": {},
     "output_type": "execute_result"
    }
   ],
   "source": [
    "df_feat = df.iloc[:,1:-1] # eventhing but last column\n",
    "target = df.iloc[:,-1] #last column\n",
    "\n",
    "df_feat.head() # age in days"
   ]
  },
  {
   "cell_type": "code",
   "execution_count": 7,
   "metadata": {},
   "outputs": [
    {
     "name": "stdout",
     "output_type": "stream",
     "text": [
      "[[-0.43606151  1.36405487  0.44345206 ... -0.31087913 -0.23838436\n",
      "   0.49416711]\n",
      " [ 0.30768633 -0.73310834 -1.01816804 ... -0.31087913 -0.23838436\n",
      "   0.49416711]\n",
      " [-0.24799666 -0.73310834  0.07804703 ... -0.31087913 -0.23838436\n",
      "  -2.02360695]\n",
      " ...\n",
      " [-0.16328642  1.36405487  2.27047718 ... -0.31087913  4.19490608\n",
      "  -2.02360695]\n",
      " [ 1.20058905 -0.73310834 -0.16555632 ... -0.31087913 -0.23838436\n",
      "  -2.02360695]\n",
      " [ 0.43414373 -0.73310834  0.68705541 ... -0.31087913 -0.23838436\n",
      "   0.49416711]]\n"
     ]
    }
   ],
   "source": [
    "from sklearn.preprocessing import StandardScaler\n",
    "# standardize: mean = 0, std = 1\n",
    "scaler = StandardScaler()\n",
    "scaled_features = scaler.fit_transform(df_feat)\n",
    "scaled_features.shape # np array\n",
    "print(scaled_features)\n",
    "\n",
    "# citation: https://realpython.com/k-means-clustering-python/"
   ]
  },
  {
   "cell_type": "code",
   "execution_count": 12,
   "metadata": {},
   "outputs": [],
   "source": [
    "# let N = number of clusters\n",
    "max_clusters = 40\n",
    "# store centers\n",
    "centers = [] # num_features by max_clusters\n",
    "errors = [] #sse\n",
    "\n",
    "# store errors\n",
    "\n",
    "kmeans_kwargs = {\n",
    "    \"init\": \"random\",\n",
    "    \"n_init\": 10,\n",
    "    \"max_iter\": 300,\n",
    "    \"random_state\": 42,\n",
    "}\n",
    "\n",
    "for i in range(1,max_clusters+1):\n",
    "    kmeans = KMeans(n_clusters=i, **kmeans_kwargs)  \n",
    "    kmeans.fit(scaled_features)\n",
    "    centers.append(kmeans.cluster_centers_) # centers\n",
    "    errors.append(kmeans.inertia_) # errors\n",
    "    #print(kmeans.inertia_)\n",
    "\n",
    " "
   ]
  },
  {
   "cell_type": "code",
   "execution_count": 13,
   "metadata": {},
   "outputs": [
    {
     "data": {
      "image/png": "[encoded data removed]",
      "text/plain": [
       "<Figure size 216x216 with 1 Axes>"
      ]
     },
     "metadata": {},
     "output_type": "display_data"
    }
   ],
   "source": [
    "# plot results (N on error)\n",
    "plt.style.use(\"fivethirtyeight\")\n",
    "plt.figure(figsize=(3, 3))\n",
    "plt.plot(range(1, max_clusters+1), errors)\n",
    "plt.xticks(range(1, max_clusters+1))\n",
    "plt.xlabel(\"Number of Clusters\")\n",
    "plt.ylabel(\"Error (SSE)\")\n",
    "plt.show()"
   ]
  },
  {
   "cell_type": "code",
   "execution_count": 15,
   "metadata": {},
   "outputs": [
    {
     "data": {
      "text/plain": [
       "9"
      ]
     },
     "execution_count": 15,
     "metadata": {},
     "output_type": "execute_result"
    }
   ],
   "source": [
    "from kneed import KneeLocator\n",
    "# find optimal number of clusters\n",
    "kl = KneeLocator(\n",
    "    range(1, max_clusters+1), errors, curve=\"convex\", direction=\"decreasing\"\n",
    ")\n",
    "\n",
    "opt_n = kl.elbow # 9 \n"
   ]
  },
  {
   "cell_type": "code",
   "execution_count": 12,
   "metadata": {},
   "outputs": [],
   "source": [
    "opt_n = 9\n",
    "# for optimal number of clusters opt_n = 9\n",
    "kmeans = KMeans(\n",
    "    init=\"random\",\n",
    "    n_clusters=opt_n,\n",
    "    n_init=10,\n",
    "    max_iter=300,\n",
    "    random_state=42\n",
    ")\n",
    "kmeans.fit(scaled_features)\n",
    "error = kmeans.inertia_\n",
    "labels = kmeans.labels_[:] # get labels # (70000,)\n",
    "# sum counts 1 to opt_n --> size of clusters"
   ]
  },
  {
   "cell_type": "code",
   "execution_count": 13,
   "metadata": {},
   "outputs": [
    {
     "name": "stdout",
     "output_type": "stream",
     "text": [
      "[10790.  3691.  6970.   928. 14787.  5040.  4084. 12158. 11552.]\n"
     ]
    }
   ],
   "source": [
    "import numpy as np\n",
    "# check size of clusters \n",
    "\n",
    "cluster_sizes = np.zeros(opt_n)\n",
    "for label in labels:\n",
    "    cluster_sizes[label]+=1\n",
    "\n",
    "print(cluster_sizes) # size of clusters decreasing [4,7,8,0]\n",
    "\n",
    "# FUNCTION: cluster_id by size (decreasing) [TODO]"
   ]
  },
  {
   "cell_type": "markdown",
   "metadata": {},
   "source": [
    "Feature selection: ANOVA F-test\n",
    "\n",
    "Some ideas:\n",
    "- Establish a baseline performance with all features\n",
    "- Try separate feature selection method for each input type\n",
    "- Try wrapper method (e.g. RFE) agnostic to input type"
   ]
  },
  {
   "cell_type": "code",
   "execution_count": null,
   "metadata": {},
   "outputs": [],
   "source": [
    "# visualize \n",
    "# FIND two dimensions (features) to visualize [TODO]\n",
    "# **most distinct/different between clusters (scientific way)\n",
    "\n",
    "# PLOT [TODO]\n",
    "\n",
    "# test: age on ap_lo (blood pressure)"
   ]
  },
  {
   "cell_type": "code",
   "execution_count": 2,
   "metadata": {},
   "outputs": [],
   "source": [
    "# pick three largest clusters (most data points) out of optimal sorting to train models on + general model\n",
    "# Note: may only be working on subset of data\n",
    "\n",
    "# separate top clusters into separate data frames [TODO]\n",
    "# interpret clusters [TODO]"
   ]
  },
  {
   "cell_type": "markdown",
   "metadata": {},
   "source": [
    "Models to try for binary classification\n",
    "- penalized logistic regression\n",
    "    - L1-norm (\"lasso\"), L2-norm (\"ridge\"), a combination of the two (\"elastic\"), or a penalty associated to groups of variables (\"group lasso\").\n",
    "- random forest"
   ]
  }
 ],
 "metadata": {
  "interpreter": {
   "hash": "2647ea34e536f865ab67ff9ddee7fd78773d956cec0cab53c79b32cd10da5d83"
  },
  "kernelspec": {
   "display_name": "Python 3.9.6 64-bit",
   "name": "python3"
  },
  "language_info": {
   "codemirror_mode": {
    "name": "ipython",
    "version": 3
   },
   "file_extension": ".py",
   "mimetype": "text/x-python",
   "name": "python",
   "nbconvert_exporter": "python",
   "pygments_lexer": "ipython3",
   "version": "3.9.6"
  },
  "orig_nbformat": 4
 },
 "nbformat": 4,
 "nbformat_minor": 2
}
