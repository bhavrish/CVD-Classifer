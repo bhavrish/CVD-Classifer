{
  "nbformat": 4,
  "nbformat_minor": 0,
  "metadata": {
    "interpreter": {
      "hash": "2647ea34e536f865ab67ff9ddee7fd78773d956cec0cab53c79b32cd10da5d83"
    },
    "kernelspec": {
      "display_name": "Python 3.9.6 64-bit",
      "name": "python3"
    },
    "language_info": {
      "codemirror_mode": {
        "name": "ipython",
        "version": 3
      },
      "file_extension": ".py",
      "mimetype": "text/x-python",
      "name": "python",
      "nbconvert_exporter": "python",
      "pygments_lexer": "ipython3",
      "version": "3.9.6"
    },
    "orig_nbformat": 4,
    "colab": {
      "name": "kmeans.ipynb",
      "provenance": []
    }
  },
  "cells": [
    {
      "cell_type": "code",
      "metadata": {
        "id": "6Zd0n-CNbOq-"
      },
      "source": [
        "import pandas as pd\n",
        "import matplotlib.pyplot as plt\n",
        "from sklearn.cluster import KMeans\n",
        "import csv"
      ],
      "execution_count": 1,
      "outputs": []
    },
    {
      "cell_type": "code",
      "metadata": {
        "id": "wU-RYpvobOrA",
        "outputId": "4c31680f-a197-4364-c018-2ec7ef261563",
        "colab": {
          "base_uri": "https://localhost:8080/"
        }
      },
      "source": [
        "# read in data\n",
        "df = pd.read_csv('./cardio_train.csv', delimiter=';')\n",
        "print(df.head())"
      ],
      "execution_count": 42,
      "outputs": [
        {
          "output_type": "stream",
          "name": "stdout",
          "text": [
            "   id    age  gender  height  weight  ...  gluc  smoke  alco  active  cardio\n",
            "0   0  18393       2     168    62.0  ...     1      0     0       1       0\n",
            "1   1  20228       1     156    85.0  ...     1      0     0       1       1\n",
            "2   2  18857       1     165    64.0  ...     1      0     0       0       1\n",
            "3   3  17623       2     169    82.0  ...     1      0     0       1       1\n",
            "4   4  17474       1     156    56.0  ...     1      0     0       0       0\n",
            "\n",
            "[5 rows x 13 columns]\n"
          ]
        }
      ]
    },
    {
      "cell_type": "code",
      "metadata": {
        "id": "WCa79g8kbOrB",
        "outputId": "1ace11e7-ed56-43d2-d169-a7ded12a5fe0",
        "colab": {
          "base_uri": "https://localhost:8080/",
          "height": 206
        }
      },
      "source": [
        "df_feat = df.iloc[:,1:-1] # eventhing but last column\n",
        "target = df.iloc[:,-1] #last column\n",
        "\n",
        "df_feat.head() # age in days"
      ],
      "execution_count": 43,
      "outputs": [
        {
          "output_type": "execute_result",
          "data": {
            "text/html": [
              "<div>\n",
              "<style scoped>\n",
              "    .dataframe tbody tr th:only-of-type {\n",
              "        vertical-align: middle;\n",
              "    }\n",
              "\n",
              "    .dataframe tbody tr th {\n",
              "        vertical-align: top;\n",
              "    }\n",
              "\n",
              "    .dataframe thead th {\n",
              "        text-align: right;\n",
              "    }\n",
              "</style>\n",
              "<table border=\"1\" class=\"dataframe\">\n",
              "  <thead>\n",
              "    <tr style=\"text-align: right;\">\n",
              "      <th></th>\n",
              "      <th>age</th>\n",
              "      <th>gender</th>\n",
              "      <th>height</th>\n",
              "      <th>weight</th>\n",
              "      <th>ap_hi</th>\n",
              "      <th>ap_lo</th>\n",
              "      <th>cholesterol</th>\n",
              "      <th>gluc</th>\n",
              "      <th>smoke</th>\n",
              "      <th>alco</th>\n",
              "      <th>active</th>\n",
              "    </tr>\n",
              "  </thead>\n",
              "  <tbody>\n",
              "    <tr>\n",
              "      <th>0</th>\n",
              "      <td>18393</td>\n",
              "      <td>2</td>\n",
              "      <td>168</td>\n",
              "      <td>62.0</td>\n",
              "      <td>110</td>\n",
              "      <td>80</td>\n",
              "      <td>1</td>\n",
              "      <td>1</td>\n",
              "      <td>0</td>\n",
              "      <td>0</td>\n",
              "      <td>1</td>\n",
              "    </tr>\n",
              "    <tr>\n",
              "      <th>1</th>\n",
              "      <td>20228</td>\n",
              "      <td>1</td>\n",
              "      <td>156</td>\n",
              "      <td>85.0</td>\n",
              "      <td>140</td>\n",
              "      <td>90</td>\n",
              "      <td>3</td>\n",
              "      <td>1</td>\n",
              "      <td>0</td>\n",
              "      <td>0</td>\n",
              "      <td>1</td>\n",
              "    </tr>\n",
              "    <tr>\n",
              "      <th>2</th>\n",
              "      <td>18857</td>\n",
              "      <td>1</td>\n",
              "      <td>165</td>\n",
              "      <td>64.0</td>\n",
              "      <td>130</td>\n",
              "      <td>70</td>\n",
              "      <td>3</td>\n",
              "      <td>1</td>\n",
              "      <td>0</td>\n",
              "      <td>0</td>\n",
              "      <td>0</td>\n",
              "    </tr>\n",
              "    <tr>\n",
              "      <th>3</th>\n",
              "      <td>17623</td>\n",
              "      <td>2</td>\n",
              "      <td>169</td>\n",
              "      <td>82.0</td>\n",
              "      <td>150</td>\n",
              "      <td>100</td>\n",
              "      <td>1</td>\n",
              "      <td>1</td>\n",
              "      <td>0</td>\n",
              "      <td>0</td>\n",
              "      <td>1</td>\n",
              "    </tr>\n",
              "    <tr>\n",
              "      <th>4</th>\n",
              "      <td>17474</td>\n",
              "      <td>1</td>\n",
              "      <td>156</td>\n",
              "      <td>56.0</td>\n",
              "      <td>100</td>\n",
              "      <td>60</td>\n",
              "      <td>1</td>\n",
              "      <td>1</td>\n",
              "      <td>0</td>\n",
              "      <td>0</td>\n",
              "      <td>0</td>\n",
              "    </tr>\n",
              "  </tbody>\n",
              "</table>\n",
              "</div>"
            ],
            "text/plain": [
              "     age  gender  height  weight  ap_hi  ...  cholesterol  gluc  smoke  alco  active\n",
              "0  18393       2     168    62.0    110  ...            1     1      0     0       1\n",
              "1  20228       1     156    85.0    140  ...            3     1      0     0       1\n",
              "2  18857       1     165    64.0    130  ...            3     1      0     0       0\n",
              "3  17623       2     169    82.0    150  ...            1     1      0     0       1\n",
              "4  17474       1     156    56.0    100  ...            1     1      0     0       0\n",
              "\n",
              "[5 rows x 11 columns]"
            ]
          },
          "metadata": {},
          "execution_count": 43
        }
      ]
    },
    {
      "cell_type": "code",
      "metadata": {
        "id": "0ddYqVUXbOrB",
        "outputId": "d4e49a60-12ad-4051-8a34-873b48496536",
        "colab": {
          "base_uri": "https://localhost:8080/"
        }
      },
      "source": [
        "from sklearn.preprocessing import StandardScaler\n",
        "# standardize: mean = 0, std = 1\n",
        "scaler = StandardScaler()\n",
        "scaled_features = scaler.fit_transform(df_feat)\n",
        "scaled_features.shape # np array\n",
        "print(scaled_features)\n",
        "\n",
        "# citation: https://realpython.com/k-means-clustering-python/"
      ],
      "execution_count": 4,
      "outputs": [
        {
          "output_type": "stream",
          "name": "stdout",
          "text": [
            "[[-0.43606151  1.36405487  0.44345206 ... -0.31087913 -0.23838436\n",
            "   0.49416711]\n",
            " [ 0.30768633 -0.73310834 -1.01816804 ... -0.31087913 -0.23838436\n",
            "   0.49416711]\n",
            " [-0.24799666 -0.73310834  0.07804703 ... -0.31087913 -0.23838436\n",
            "  -2.02360695]\n",
            " ...\n",
            " [-0.16328642  1.36405487  2.27047718 ... -0.31087913  4.19490608\n",
            "  -2.02360695]\n",
            " [ 1.20058905 -0.73310834 -0.16555632 ... -0.31087913 -0.23838436\n",
            "  -2.02360695]\n",
            " [ 0.43414373 -0.73310834  0.68705541 ... -0.31087913 -0.23838436\n",
            "   0.49416711]]\n"
          ]
        }
      ]
    },
    {
      "cell_type": "code",
      "metadata": {
        "id": "2UOi1HT6bOrC"
      },
      "source": [
        "# let N = number of clusters\n",
        "max_clusters = 40\n",
        "# store centers\n",
        "centers = [] # num_features by max_clusters\n",
        "errors = [] #sse\n",
        "\n",
        "# store errors\n",
        "\n",
        "kmeans_kwargs = {\n",
        "    \"init\": \"random\",\n",
        "    \"n_init\": 10,\n",
        "    \"max_iter\": 300,\n",
        "    \"random_state\": 42,\n",
        "}\n",
        "\n",
        "for i in range(1,max_clusters+1):\n",
        "    kmeans = KMeans(n_clusters=i, **kmeans_kwargs)  \n",
        "    kmeans.fit(scaled_features)\n",
        "    centers.append(kmeans.cluster_centers_) # centers\n",
        "    errors.append(kmeans.inertia_) # errors\n",
        "    #print(kmeans.inertia_)\n",
        "\n",
        " "
      ],
      "execution_count": 5,
      "outputs": []
    },
    {
      "cell_type": "code",
      "metadata": {
        "id": "2lXMhINpbOrC",
        "outputId": "f44705aa-343f-43b3-d423-a1f852bd93d7",
        "colab": {
          "base_uri": "https://localhost:8080/",
          "height": 251
        }
      },
      "source": [
        "# plot results (N on error)\n",
        "plt.style.use(\"fivethirtyeight\")\n",
        "plt.figure(figsize=(3, 3))\n",
        "plt.plot(range(1, max_clusters+1), errors)\n",
        "plt.xticks(range(1, max_clusters+1))\n",
        "plt.xlabel(\"Number of Clusters\")\n",
        "plt.ylabel(\"Error (SSE)\")\n",
        "plt.show()"
      ],
      "execution_count": 6,
      "outputs": [
        {
          "output_type": "display_data",
          "data": {
            "image/png": "[encoded data removed]",
            "text/plain": [
              "<Figure size 216x216 with 1 Axes>"
            ]
          },
          "metadata": {}
        }
      ]
    },
    {
      "cell_type": "code",
      "metadata": {
        "id": "Lh_gEyFrbOrD"
      },
      "source": [
        "from kneed import KneeLocator\n",
        "# find optimal number of clusters\n",
        "kl = KneeLocator(\n",
        "    range(1, max_clusters+1), errors, curve=\"convex\", direction=\"decreasing\"\n",
        ")\n",
        "\n",
        "opt_n = kl.elbow # 9 \n"
      ],
      "execution_count": 10,
      "outputs": []
    },
    {
      "cell_type": "code",
      "metadata": {
        "id": "gM4_rtlbbOrD",
        "outputId": "27760021-040f-4b22-c8ee-0c0eb1530eef",
        "colab": {
          "base_uri": "https://localhost:8080/"
        }
      },
      "source": [
        "opt_n = 9\n",
        "# for optimal number of clusters opt_n = 9\n",
        "kmeans = KMeans(\n",
        "    init=\"random\",\n",
        "    n_clusters=opt_n,\n",
        "    n_init=10,\n",
        "    max_iter=300,\n",
        "    random_state=42\n",
        ")\n",
        "kmeans.fit(scaled_features)\n",
        "error = kmeans.inertia_\n",
        "labels = kmeans.labels_[:] # get labels # (70000,)\n",
        "# sum counts 1 to opt_n --> size of clusters"
      ],
      "execution_count": 13,
      "outputs": [
        {
          "output_type": "execute_result",
          "data": {
            "text/plain": [
              "array([6, 0, 0, ..., 5, 7, 0], dtype=int32)"
            ]
          },
          "metadata": {},
          "execution_count": 13
        }
      ]
    },
    {
      "cell_type": "code",
      "metadata": {
        "id": "EeRXRVWIgex7",
        "outputId": "d8d4b694-54f6-4927-e3d5-d30a46fff4ab",
        "colab": {
          "base_uri": "https://localhost:8080/",
          "height": 206
        }
      },
      "source": [
        "df['label'] = labels\n",
        "df.head()"
      ],
      "execution_count": 52,
      "outputs": [
        {
          "output_type": "execute_result",
          "data": {
            "text/html": [
              "<div>\n",
              "<style scoped>\n",
              "    .dataframe tbody tr th:only-of-type {\n",
              "        vertical-align: middle;\n",
              "    }\n",
              "\n",
              "    .dataframe tbody tr th {\n",
              "        vertical-align: top;\n",
              "    }\n",
              "\n",
              "    .dataframe thead th {\n",
              "        text-align: right;\n",
              "    }\n",
              "</style>\n",
              "<table border=\"1\" class=\"dataframe\">\n",
              "  <thead>\n",
              "    <tr style=\"text-align: right;\">\n",
              "      <th></th>\n",
              "      <th>id</th>\n",
              "      <th>age</th>\n",
              "      <th>gender</th>\n",
              "      <th>height</th>\n",
              "      <th>weight</th>\n",
              "      <th>ap_hi</th>\n",
              "      <th>ap_lo</th>\n",
              "      <th>cholesterol</th>\n",
              "      <th>gluc</th>\n",
              "      <th>smoke</th>\n",
              "      <th>alco</th>\n",
              "      <th>active</th>\n",
              "      <th>cardio</th>\n",
              "      <th>label</th>\n",
              "    </tr>\n",
              "  </thead>\n",
              "  <tbody>\n",
              "    <tr>\n",
              "      <th>0</th>\n",
              "      <td>0</td>\n",
              "      <td>18393</td>\n",
              "      <td>2</td>\n",
              "      <td>168</td>\n",
              "      <td>62.0</td>\n",
              "      <td>110</td>\n",
              "      <td>80</td>\n",
              "      <td>1</td>\n",
              "      <td>1</td>\n",
              "      <td>0</td>\n",
              "      <td>0</td>\n",
              "      <td>1</td>\n",
              "      <td>0</td>\n",
              "      <td>6</td>\n",
              "    </tr>\n",
              "    <tr>\n",
              "      <th>1</th>\n",
              "      <td>1</td>\n",
              "      <td>20228</td>\n",
              "      <td>1</td>\n",
              "      <td>156</td>\n",
              "      <td>85.0</td>\n",
              "      <td>140</td>\n",
              "      <td>90</td>\n",
              "      <td>3</td>\n",
              "      <td>1</td>\n",
              "      <td>0</td>\n",
              "      <td>0</td>\n",
              "      <td>1</td>\n",
              "      <td>1</td>\n",
              "      <td>0</td>\n",
              "    </tr>\n",
              "    <tr>\n",
              "      <th>2</th>\n",
              "      <td>2</td>\n",
              "      <td>18857</td>\n",
              "      <td>1</td>\n",
              "      <td>165</td>\n",
              "      <td>64.0</td>\n",
              "      <td>130</td>\n",
              "      <td>70</td>\n",
              "      <td>3</td>\n",
              "      <td>1</td>\n",
              "      <td>0</td>\n",
              "      <td>0</td>\n",
              "      <td>0</td>\n",
              "      <td>1</td>\n",
              "      <td>0</td>\n",
              "    </tr>\n",
              "    <tr>\n",
              "      <th>3</th>\n",
              "      <td>3</td>\n",
              "      <td>17623</td>\n",
              "      <td>2</td>\n",
              "      <td>169</td>\n",
              "      <td>82.0</td>\n",
              "      <td>150</td>\n",
              "      <td>100</td>\n",
              "      <td>1</td>\n",
              "      <td>1</td>\n",
              "      <td>0</td>\n",
              "      <td>0</td>\n",
              "      <td>1</td>\n",
              "      <td>1</td>\n",
              "      <td>6</td>\n",
              "    </tr>\n",
              "    <tr>\n",
              "      <th>4</th>\n",
              "      <td>4</td>\n",
              "      <td>17474</td>\n",
              "      <td>1</td>\n",
              "      <td>156</td>\n",
              "      <td>56.0</td>\n",
              "      <td>100</td>\n",
              "      <td>60</td>\n",
              "      <td>1</td>\n",
              "      <td>1</td>\n",
              "      <td>0</td>\n",
              "      <td>0</td>\n",
              "      <td>0</td>\n",
              "      <td>0</td>\n",
              "      <td>7</td>\n",
              "    </tr>\n",
              "  </tbody>\n",
              "</table>\n",
              "</div>"
            ],
            "text/plain": [
              "   id    age  gender  height  weight  ...  smoke  alco  active  cardio  label\n",
              "0   0  18393       2     168    62.0  ...      0     0       1       0      6\n",
              "1   1  20228       1     156    85.0  ...      0     0       1       1      0\n",
              "2   2  18857       1     165    64.0  ...      0     0       0       1      0\n",
              "3   3  17623       2     169    82.0  ...      0     0       1       1      6\n",
              "4   4  17474       1     156    56.0  ...      0     0       0       0      7\n",
              "\n",
              "[5 rows x 14 columns]"
            ]
          },
          "metadata": {},
          "execution_count": 52
        }
      ]
    },
    {
      "cell_type": "code",
      "metadata": {
        "id": "41LiMXZ-jLbr",
        "outputId": "0767a1a1-410c-4471-f644-9620a7223594",
        "colab": {
          "base_uri": "https://localhost:8080/"
        }
      },
      "source": [
        "csv_name = \"group\" + str(i)\n",
        "\n",
        "for i in range(9):\n",
        "  csv_name = \"Cluster\" + str(i)\n",
        "  dfx = df[df['label'] == i]\n",
        "  dfx.drop(labels = \"label\", axis = 1).to_csv(csv_name)\n",
        "  print(dfx.head())"
      ],
      "execution_count": 56,
      "outputs": [
        {
          "output_type": "stream",
          "name": "stdout",
          "text": [
            "    id    age  gender  height  weight  ...  smoke  alco  active  cardio  label\n",
            "1    1  20228       1     156    85.0  ...      0     0       1       1      0\n",
            "2    2  18857       1     165    64.0  ...      0     0       0       1      0\n",
            "6    9  22113       1     157    93.0  ...      0     0       1       0      0\n",
            "22  32  23046       1     158    90.0  ...      0     0       1       1      0\n",
            "24  35  16608       1     170    68.0  ...      0     0       1       1      0\n",
            "\n",
            "[5 rows x 14 columns]\n",
            "    id    age  gender  height  weight  ...  smoke  alco  active  cardio  label\n",
            "8   13  17668       1     158    71.0  ...      0     0       1       0      1\n",
            "25  36  14453       1     153    65.0  ...      0     0       1       0      1\n",
            "27  38  18085       1     159    78.0  ...      0     0       1       0      1\n",
            "32  44  14605       1     159    60.0  ...      0     0       1       0      1\n",
            "37  51  17976       1     164    70.0  ...      0     0       1       0      1\n",
            "\n",
            "[5 rows x 14 columns]\n",
            "    id    age  gender  height  weight  ...  smoke  alco  active  cardio  label\n",
            "19  29  21755       2     162    56.0  ...      1     0       1       0      2\n",
            "38  52  23388       2     162    72.0  ...      1     0       1       1      2\n",
            "58  73  15901       2     172    84.0  ...      1     0       1       1      2\n",
            "59  74  20431       1     164    64.0  ...      1     0       1       1      2\n",
            "67  90  22099       2     171    97.0  ...      1     0       1       1      2\n",
            "\n",
            "[5 rows x 14 columns]\n",
            "     id    age  gender  height  weight  ...  smoke  alco  active  cardio  label\n",
            "7    12  22584       2     178    95.0  ...      0     0       1       1      3\n",
            "17   27  16747       1     158    52.0  ...      0     0       1       0      3\n",
            "29   40  21057       2     169    74.0  ...      0     0       0       0      3\n",
            "53   68  14507       1     165    77.0  ...      0     0       1       1      3\n",
            "87  119  19663       2     166    94.0  ...      0     0       1       1      3\n",
            "\n",
            "[5 rows x 14 columns]\n",
            "      id    age  gender  height  weight  ...  smoke  alco  active  cardio  label\n",
            "228  314  17489       2     183    98.0  ...      1     0       1       1      4\n",
            "241  334  21932       2     157    60.0  ...      0     0       0       1      4\n",
            "260  357  18217       1     150    83.0  ...      0     0       1       1      4\n",
            "329  458  23407       1     176    63.0  ...      0     0       0       1      4\n",
            "345  482  18704       1     154    81.0  ...      0     0       1       1      4\n",
            "\n",
            "[5 rows x 14 columns]\n",
            "      id    age  gender  height  weight  ...  smoke  alco  active  cardio  label\n",
            "14    23  14532       2     181    95.0  ...      1     1       1       0      5\n",
            "62    81  20330       2     187   115.0  ...      0     1       1       0      5\n",
            "99   134  17363       1     167    71.0  ...      0     1       1       1      5\n",
            "101  136  18718       1     167    80.0  ...      0     1       0       0      5\n",
            "107  142  14499       2     164    48.0  ...      1     1       1       1      5\n",
            "\n",
            "[5 rows x 14 columns]\n",
            "    id    age  gender  height  weight  ...  smoke  alco  active  cardio  label\n",
            "0    0  18393       2     168    62.0  ...      0     0       1       0      6\n",
            "3    3  17623       2     169    82.0  ...      0     0       1       1      6\n",
            "11  16  18815       2     173    60.0  ...      0     0       1       0      6\n",
            "20  30  19778       2     163    83.0  ...      0     0       1       0      6\n",
            "28  39  14574       2     166    66.0  ...      0     0       1       0      6\n",
            "\n",
            "[5 rows x 14 columns]\n",
            "    id    age  gender  height  weight  ...  smoke  alco  active  cardio  label\n",
            "4    4  17474       1     156    56.0  ...      0     0       0       0      7\n",
            "5    8  21914       1     151    67.0  ...      0     0       0       0      7\n",
            "9   14  19834       1     164    68.0  ...      0     0       0       0      7\n",
            "12  18  14791       2     165    60.0  ...      0     0       0       0      7\n",
            "15  24  16782       2     172   112.0  ...      0     0       0       1      7\n",
            "\n",
            "[5 rows x 14 columns]\n",
            "    id    age  gender  height  weight  ...  smoke  alco  active  cardio  label\n",
            "10  15  22530       1     169    80.0  ...      0     0       1       0      8\n",
            "13  21  19809       1     158    78.0  ...      0     0       1       0      8\n",
            "21  31  21413       1     157    69.0  ...      0     0       1       0      8\n",
            "23  33  23376       2     156    45.0  ...      0     0       1       0      8\n",
            "26  37  19559       1     156    59.0  ...      0     0       1       0      8\n",
            "\n",
            "[5 rows x 14 columns]\n"
          ]
        }
      ]
    },
    {
      "cell_type": "code",
      "metadata": {
        "id": "MBv-OdXobOrE",
        "outputId": "6e8a4b46-050d-4942-eb1a-2555fbdbded8",
        "colab": {
          "base_uri": "https://localhost:8080/"
        }
      },
      "source": [
        "import numpy as np\n",
        "# check size of clusters \n",
        "\n",
        "cluster_sizes = np.zeros(opt_n)\n",
        "for label in labels:\n",
        "    cluster_sizes[label]+=1\n",
        "\n",
        "print(cluster_sizes) # size of clusters decreasing [4,7,8,0]\n",
        "\n",
        "# FUNCTION: cluster_id by size (decreasing) [TODO]"
      ],
      "execution_count": 12,
      "outputs": [
        {
          "output_type": "stream",
          "name": "stdout",
          "text": [
            "[ 6968. 11549.  4084.  5043.   928.  3691. 12159. 10791. 14787.]\n"
          ]
        }
      ]
    },
    {
      "cell_type": "markdown",
      "metadata": {
        "id": "d9K_XTW1bOrE"
      },
      "source": [
        "Feature selection: ANOVA F-test\n",
        "\n",
        "Some ideas:\n",
        "- Establish a baseline performance with all features\n",
        "- Try separate feature selection method for each input type\n",
        "- Try wrapper method (e.g. RFE) agnostic to input type"
      ]
    },
    {
      "cell_type": "code",
      "metadata": {
        "id": "S0q3cTSWbOrF"
      },
      "source": [
        "# visualize \n",
        "# FIND two dimensions (features) to visualize [TODO]\n",
        "# **most distinct/different between clusters (scientific way)\n",
        "\n",
        "# PLOT [TODO]\n",
        "\n",
        "# test: age on ap_lo (blood pressure)"
      ],
      "execution_count": null,
      "outputs": []
    },
    {
      "cell_type": "code",
      "metadata": {
        "id": "UFj-sEpPbOrF"
      },
      "source": [
        "# pick three largest clusters (most data points) out of optimal sorting to train models on + general model\n",
        "# Note: may only be working on subset of data\n",
        "\n",
        "# separate top clusters into separate data frames [TODO]\n",
        "# interpret clusters [TODO]"
      ],
      "execution_count": null,
      "outputs": []
    },
    {
      "cell_type": "markdown",
      "metadata": {
        "id": "TBzblGSXbOrG"
      },
      "source": [
        "Models to try for binary classification\n",
        "- penalized logistic regression\n",
        "    - L1-norm (\"lasso\"), L2-norm (\"ridge\"), a combination of the two (\"elastic\"), or a penalty associated to groups of variables (\"group lasso\").\n",
        "- random forest"
      ]
    }
  ]
}