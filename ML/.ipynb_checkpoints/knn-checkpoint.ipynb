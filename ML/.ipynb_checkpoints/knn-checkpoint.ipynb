{
 "cells": [
  {
   "cell_type": "markdown",
   "metadata": {
    "colab_type": "text",
    "id": "view-in-github"
   },
   "source": [
    "<a href=\"https://colab.research.google.com/github/bhavrish/CVD-Classifer/blob/main/knn.ipynb\" target=\"_parent\"><img src=\"https://colab.research.google.com/assets/colab-badge.svg\" alt=\"Open In Colab\"/></a>"
   ]
  },
  {
   "cell_type": "code",
   "execution_count": 1,
   "metadata": {
    "id": "VTIOYj8OCjWT"
   },
   "outputs": [],
   "source": [
    "from sklearn.neighbors import NearestNeighbors\n",
    "from sklearn.model_selection import train_test_split\n",
    "from sklearn.neighbors import KNeighborsClassifier\n",
    "import pandas as pd\n",
    "import matplotlib.pyplot as plt\n",
    "import math\n",
    "from sklearn.metrics import classification_report\n",
    "from sklearn import metrics\n",
    "from sklearn.model_selection import cross_validate"
   ]
  },
  {
   "cell_type": "code",
   "execution_count": 2,
   "metadata": {
    "colab": {
     "base_uri": "https://localhost:8080/",
     "height": 204
    },
    "id": "ISB7tGxYCsm8",
    "outputId": "69895965-79c5-465d-d1c9-c864dc832c0f"
   },
   "outputs": [
    {
     "data": {
      "text/html": [
       "<div>\n",
       "<style scoped>\n",
       "    .dataframe tbody tr th:only-of-type {\n",
       "        vertical-align: middle;\n",
       "    }\n",
       "\n",
       "    .dataframe tbody tr th {\n",
       "        vertical-align: top;\n",
       "    }\n",
       "\n",
       "    .dataframe thead th {\n",
       "        text-align: right;\n",
       "    }\n",
       "</style>\n",
       "<table border=\"1\" class=\"dataframe\">\n",
       "  <thead>\n",
       "    <tr style=\"text-align: right;\">\n",
       "      <th></th>\n",
       "      <th>Unnamed: 0</th>\n",
       "      <th>id</th>\n",
       "      <th>age</th>\n",
       "      <th>gender</th>\n",
       "      <th>height</th>\n",
       "      <th>weight</th>\n",
       "      <th>ap_hi</th>\n",
       "      <th>ap_lo</th>\n",
       "      <th>cholesterol</th>\n",
       "      <th>gluc</th>\n",
       "      <th>smoke</th>\n",
       "      <th>alco</th>\n",
       "      <th>active</th>\n",
       "      <th>cardio</th>\n",
       "    </tr>\n",
       "  </thead>\n",
       "  <tbody>\n",
       "    <tr>\n",
       "      <th>0</th>\n",
       "      <td>1</td>\n",
       "      <td>1</td>\n",
       "      <td>20228</td>\n",
       "      <td>1</td>\n",
       "      <td>156</td>\n",
       "      <td>85.0</td>\n",
       "      <td>140</td>\n",
       "      <td>90</td>\n",
       "      <td>3</td>\n",
       "      <td>1</td>\n",
       "      <td>0</td>\n",
       "      <td>0</td>\n",
       "      <td>1</td>\n",
       "      <td>1</td>\n",
       "    </tr>\n",
       "    <tr>\n",
       "      <th>1</th>\n",
       "      <td>2</td>\n",
       "      <td>2</td>\n",
       "      <td>18857</td>\n",
       "      <td>1</td>\n",
       "      <td>165</td>\n",
       "      <td>64.0</td>\n",
       "      <td>130</td>\n",
       "      <td>70</td>\n",
       "      <td>3</td>\n",
       "      <td>1</td>\n",
       "      <td>0</td>\n",
       "      <td>0</td>\n",
       "      <td>0</td>\n",
       "      <td>1</td>\n",
       "    </tr>\n",
       "    <tr>\n",
       "      <th>2</th>\n",
       "      <td>6</td>\n",
       "      <td>9</td>\n",
       "      <td>22113</td>\n",
       "      <td>1</td>\n",
       "      <td>157</td>\n",
       "      <td>93.0</td>\n",
       "      <td>130</td>\n",
       "      <td>80</td>\n",
       "      <td>3</td>\n",
       "      <td>1</td>\n",
       "      <td>0</td>\n",
       "      <td>0</td>\n",
       "      <td>1</td>\n",
       "      <td>0</td>\n",
       "    </tr>\n",
       "    <tr>\n",
       "      <th>3</th>\n",
       "      <td>22</td>\n",
       "      <td>32</td>\n",
       "      <td>23046</td>\n",
       "      <td>1</td>\n",
       "      <td>158</td>\n",
       "      <td>90.0</td>\n",
       "      <td>145</td>\n",
       "      <td>85</td>\n",
       "      <td>2</td>\n",
       "      <td>2</td>\n",
       "      <td>0</td>\n",
       "      <td>0</td>\n",
       "      <td>1</td>\n",
       "      <td>1</td>\n",
       "    </tr>\n",
       "    <tr>\n",
       "      <th>4</th>\n",
       "      <td>24</td>\n",
       "      <td>35</td>\n",
       "      <td>16608</td>\n",
       "      <td>1</td>\n",
       "      <td>170</td>\n",
       "      <td>68.0</td>\n",
       "      <td>150</td>\n",
       "      <td>90</td>\n",
       "      <td>3</td>\n",
       "      <td>1</td>\n",
       "      <td>0</td>\n",
       "      <td>0</td>\n",
       "      <td>1</td>\n",
       "      <td>1</td>\n",
       "    </tr>\n",
       "  </tbody>\n",
       "</table>\n",
       "</div>"
      ],
      "text/plain": [
       "   Unnamed: 0  id    age  gender  height  weight  ap_hi  ap_lo  cholesterol  \\\n",
       "0           1   1  20228       1     156    85.0    140     90            3   \n",
       "1           2   2  18857       1     165    64.0    130     70            3   \n",
       "2           6   9  22113       1     157    93.0    130     80            3   \n",
       "3          22  32  23046       1     158    90.0    145     85            2   \n",
       "4          24  35  16608       1     170    68.0    150     90            3   \n",
       "\n",
       "   gluc  smoke  alco  active  cardio  \n",
       "0     1      0     0       1       1  \n",
       "1     1      0     0       0       1  \n",
       "2     1      0     0       1       0  \n",
       "3     2      0     0       1       1  \n",
       "4     1      0     0       1       1  "
      ]
     },
     "execution_count": 2,
     "metadata": {},
     "output_type": "execute_result"
    }
   ],
   "source": [
    "df = pd.read_csv('../Data/Cluster0')\n",
    "df.head()"
   ]
  },
  {
   "cell_type": "markdown",
   "metadata": {
    "id": "kV_wYQdUOcRv"
   },
   "source": [
    "Lets Do Some Feature Engineering: blood_pressure = ap_hi / ap_lo https://www.mayoclinic.org/diseases-conditions/high-blood-pressure/expert-answers/pulse-pressure/faq-20058189"
   ]
  },
  {
   "cell_type": "code",
   "execution_count": 3,
   "metadata": {
    "colab": {
     "base_uri": "https://localhost:8080/",
     "height": 419
    },
    "id": "svRctgCsPRSn",
    "outputId": "3b4bb797-0168-4e77-f95d-7735e9a08145"
   },
   "outputs": [],
   "source": [
    "df['blood_pressure'] = df[\"ap_hi\"] / df[\"ap_lo\"]\n",
    "df.drop([\"ap_hi\", \"ap_lo\"], axis= 1)\n",
    "df = df[df['blood_pressure'] != math.inf]"
   ]
  },
  {
   "cell_type": "code",
   "execution_count": 4,
   "metadata": {
    "colab": {
     "base_uri": "https://localhost:8080/"
    },
    "id": "LnXCBN0sOAFP",
    "outputId": "89001fed-be85-45cf-8103-ebd9170de9ee"
   },
   "outputs": [
    {
     "name": "stdout",
     "output_type": "stream",
     "text": [
      "[[-0.23543807 -0.64091245  0.53476609 ...  0.          1.\n",
      "   1.        ]\n",
      " [-0.9646783   0.6225903  -0.84239725 ...  0.          0.\n",
      "   1.        ]\n",
      " [ 0.76720076 -0.50052326  1.05939974 ...  0.          1.\n",
      "   0.        ]\n",
      " ...\n",
      " [-0.03278269 -0.21974487 -0.3177636  ...  0.          1.\n",
      "   0.        ]\n",
      " [ 1.02676985 -0.36013406  3.22351354 ...  0.          1.\n",
      "   1.        ]\n",
      " [-0.06948406  1.32453628 -0.3177636  ...  0.          1.\n",
      "   0.        ]]\n"
     ]
    }
   ],
   "source": [
    "from sklearn.compose import ColumnTransformer\n",
    "from sklearn.preprocessing import StandardScaler\n",
    "\n",
    "ct = ColumnTransformer([\n",
    "    ('nonBinaryTransformer', StandardScaler(), ['age', 'height', 'weight', \"blood_pressure\", 'cholesterol', 'gluc'])\n",
    "], remainder='passthrough')\n",
    "\n",
    "scaled_features = ct.fit_transform(df)\n",
    "print(scaled_features)"
   ]
  },
  {
   "cell_type": "code",
   "execution_count": 5,
   "metadata": {
    "id": "ZfLdVg-AD5pK"
   },
   "outputs": [],
   "source": [
    "df_feat = df.drop(\"cardio\", axis = 1)"
   ]
  },
  {
   "cell_type": "code",
   "execution_count": 6,
   "metadata": {
    "colab": {
     "base_uri": "https://localhost:8080/",
     "height": 204
    },
    "id": "l88-EerITxdX",
    "outputId": "e71c3b67-fb6b-4f99-d9bb-0dac20d0351a"
   },
   "outputs": [
    {
     "data": {
      "text/html": [
       "<div>\n",
       "<style scoped>\n",
       "    .dataframe tbody tr th:only-of-type {\n",
       "        vertical-align: middle;\n",
       "    }\n",
       "\n",
       "    .dataframe tbody tr th {\n",
       "        vertical-align: top;\n",
       "    }\n",
       "\n",
       "    .dataframe thead th {\n",
       "        text-align: right;\n",
       "    }\n",
       "</style>\n",
       "<table border=\"1\" class=\"dataframe\">\n",
       "  <thead>\n",
       "    <tr style=\"text-align: right;\">\n",
       "      <th></th>\n",
       "      <th>Unnamed: 0</th>\n",
       "      <th>id</th>\n",
       "      <th>age</th>\n",
       "      <th>gender</th>\n",
       "      <th>height</th>\n",
       "      <th>weight</th>\n",
       "      <th>ap_hi</th>\n",
       "      <th>ap_lo</th>\n",
       "      <th>cholesterol</th>\n",
       "      <th>gluc</th>\n",
       "      <th>smoke</th>\n",
       "      <th>alco</th>\n",
       "      <th>active</th>\n",
       "      <th>blood_pressure</th>\n",
       "    </tr>\n",
       "  </thead>\n",
       "  <tbody>\n",
       "    <tr>\n",
       "      <th>0</th>\n",
       "      <td>1</td>\n",
       "      <td>1</td>\n",
       "      <td>20228</td>\n",
       "      <td>1</td>\n",
       "      <td>156</td>\n",
       "      <td>85.0</td>\n",
       "      <td>140</td>\n",
       "      <td>90</td>\n",
       "      <td>3</td>\n",
       "      <td>1</td>\n",
       "      <td>0</td>\n",
       "      <td>0</td>\n",
       "      <td>1</td>\n",
       "      <td>1.555556</td>\n",
       "    </tr>\n",
       "    <tr>\n",
       "      <th>1</th>\n",
       "      <td>2</td>\n",
       "      <td>2</td>\n",
       "      <td>18857</td>\n",
       "      <td>1</td>\n",
       "      <td>165</td>\n",
       "      <td>64.0</td>\n",
       "      <td>130</td>\n",
       "      <td>70</td>\n",
       "      <td>3</td>\n",
       "      <td>1</td>\n",
       "      <td>0</td>\n",
       "      <td>0</td>\n",
       "      <td>0</td>\n",
       "      <td>1.857143</td>\n",
       "    </tr>\n",
       "    <tr>\n",
       "      <th>2</th>\n",
       "      <td>6</td>\n",
       "      <td>9</td>\n",
       "      <td>22113</td>\n",
       "      <td>1</td>\n",
       "      <td>157</td>\n",
       "      <td>93.0</td>\n",
       "      <td>130</td>\n",
       "      <td>80</td>\n",
       "      <td>3</td>\n",
       "      <td>1</td>\n",
       "      <td>0</td>\n",
       "      <td>0</td>\n",
       "      <td>1</td>\n",
       "      <td>1.625000</td>\n",
       "    </tr>\n",
       "    <tr>\n",
       "      <th>3</th>\n",
       "      <td>22</td>\n",
       "      <td>32</td>\n",
       "      <td>23046</td>\n",
       "      <td>1</td>\n",
       "      <td>158</td>\n",
       "      <td>90.0</td>\n",
       "      <td>145</td>\n",
       "      <td>85</td>\n",
       "      <td>2</td>\n",
       "      <td>2</td>\n",
       "      <td>0</td>\n",
       "      <td>0</td>\n",
       "      <td>1</td>\n",
       "      <td>1.705882</td>\n",
       "    </tr>\n",
       "    <tr>\n",
       "      <th>4</th>\n",
       "      <td>24</td>\n",
       "      <td>35</td>\n",
       "      <td>16608</td>\n",
       "      <td>1</td>\n",
       "      <td>170</td>\n",
       "      <td>68.0</td>\n",
       "      <td>150</td>\n",
       "      <td>90</td>\n",
       "      <td>3</td>\n",
       "      <td>1</td>\n",
       "      <td>0</td>\n",
       "      <td>0</td>\n",
       "      <td>1</td>\n",
       "      <td>1.666667</td>\n",
       "    </tr>\n",
       "  </tbody>\n",
       "</table>\n",
       "</div>"
      ],
      "text/plain": [
       "   Unnamed: 0  id    age  gender  height  weight  ap_hi  ap_lo  cholesterol  \\\n",
       "0           1   1  20228       1     156    85.0    140     90            3   \n",
       "1           2   2  18857       1     165    64.0    130     70            3   \n",
       "2           6   9  22113       1     157    93.0    130     80            3   \n",
       "3          22  32  23046       1     158    90.0    145     85            2   \n",
       "4          24  35  16608       1     170    68.0    150     90            3   \n",
       "\n",
       "   gluc  smoke  alco  active  blood_pressure  \n",
       "0     1      0     0       1        1.555556  \n",
       "1     1      0     0       0        1.857143  \n",
       "2     1      0     0       1        1.625000  \n",
       "3     2      0     0       1        1.705882  \n",
       "4     1      0     0       1        1.666667  "
      ]
     },
     "execution_count": 6,
     "metadata": {},
     "output_type": "execute_result"
    }
   ],
   "source": [
    "df_feat.head()"
   ]
  },
  {
   "cell_type": "code",
   "execution_count": 7,
   "metadata": {
    "colab": {
     "base_uri": "https://localhost:8080/"
    },
    "id": "nB9g2eOOEKbc",
    "outputId": "6fd0bcd1-3610-49d0-a528-b9e99aeccf62"
   },
   "outputs": [
    {
     "data": {
      "text/plain": [
       "0       1\n",
       "1       1\n",
       "2       0\n",
       "3       1\n",
       "4       1\n",
       "       ..\n",
       "6963    0\n",
       "6964    1\n",
       "6965    0\n",
       "6966    1\n",
       "6967    0\n",
       "Name: cardio, Length: 6965, dtype: int64"
      ]
     },
     "execution_count": 7,
     "metadata": {},
     "output_type": "execute_result"
    }
   ],
   "source": [
    "df_targ = df.loc[:, \"cardio\"]\n",
    "df_targ"
   ]
  },
  {
   "cell_type": "code",
   "execution_count": 8,
   "metadata": {
    "id": "vEtz6n9JERbV"
   },
   "outputs": [],
   "source": [
    "X_train, X_test, y_train, y_test = train_test_split(df_feat, df_targ, test_size = .33, random_state = 0)"
   ]
  },
  {
   "cell_type": "code",
   "execution_count": 9,
   "metadata": {
    "colab": {
     "base_uri": "https://localhost:8080/"
    },
    "id": "DfotllmtEtjQ",
    "outputId": "0c13aad7-6bd9-4992-8d4e-71d45d8d9827"
   },
   "outputs": [
    {
     "name": "stdout",
     "output_type": "stream",
     "text": [
      "      Unnamed: 0     id    age  gender  height  weight  ap_hi  ap_lo  \\\n",
      "1067       10391  14832  20323       1     154    83.0    150     80   \n",
      "6816       68462  97786  23392       1     170    70.0    160    100   \n",
      "3873       39107  55844  19405       2     158    85.0    110     50   \n",
      "556         5407   7688  19531       1     156    90.0    110     80   \n",
      "6232       62730  89578  19599       1     154    71.0    130     90   \n",
      "...          ...    ...    ...     ...     ...     ...    ...    ...   \n",
      "4934       49847  71163  16828       1     150    87.0    110     80   \n",
      "3266       33029  47189  23637       1     156    69.0    140     90   \n",
      "1654       16567  23677  18211       1     161    77.0    120     80   \n",
      "2609       26274  37525  16907       1     156    84.0    120     80   \n",
      "2734       27545  39380  20974       1     158    62.0    130     60   \n",
      "\n",
      "      cholesterol  gluc  smoke  alco  active  blood_pressure  \n",
      "1067            2     1      0     0       1        1.875000  \n",
      "6816            2     1      0     0       1        1.600000  \n",
      "3873            3     2      0     0       1        2.200000  \n",
      "556             2     1      0     0       1        1.375000  \n",
      "6232            2     2      0     0       1        1.444444  \n",
      "...           ...   ...    ...   ...     ...             ...  \n",
      "4934            3     1      0     0       1        1.375000  \n",
      "3266            2     1      0     0       1        1.555556  \n",
      "1654            2     1      0     0       1        1.500000  \n",
      "2609            3     1      0     0       1        1.500000  \n",
      "2734            3     1      0     0       1        2.166667  \n",
      "\n",
      "[4666 rows x 14 columns] 1067    1\n",
      "6816    1\n",
      "3873    1\n",
      "556     0\n",
      "6232    0\n",
      "       ..\n",
      "4934    1\n",
      "3266    1\n",
      "1654    0\n",
      "2609    1\n",
      "2734    1\n",
      "Name: cardio, Length: 4666, dtype: int64\n"
     ]
    }
   ],
   "source": [
    "print(X_train, y_train)"
   ]
  },
  {
   "cell_type": "code",
   "execution_count": 10,
   "metadata": {
    "colab": {
     "base_uri": "https://localhost:8080/"
    },
    "id": "5fcYCbZ0E4Yu",
    "outputId": "a8a522c3-deaf-49b8-d55b-24954525a487"
   },
   "outputs": [
    {
     "name": "stdout",
     "output_type": "stream",
     "text": [
      "0.6098303610265333\n",
      "0.6528925619834711\n",
      "0.6589821661591997\n",
      "0.6794258373205742\n",
      "0.6903001304915181\n",
      "0.6942148760330579\n",
      "0.6959547629404089\n",
      "0.6989995650282732\n",
      "0.7020443671161375\n",
      "0.7081339712918661\n",
      "0.7076989995650282\n",
      "0.7094388864723793\n",
      "0.7111787733797303\n",
      "0.7072640278381905\n",
      "0.7107438016528925\n",
      "0.7137886037407568\n"
     ]
    }
   ],
   "source": [
    "group = [1, 3, 5, 7, 9, 11, 13, 15, 17,19,21, 23, 25, 27, 29, 31]\n",
    "accuracies = []\n",
    "\n",
    "for i in group:\n",
    "    neigh = KNeighborsClassifier(n_neighbors = i, metric= \"manhattan\", weights= \"uniform\")\n",
    "    neigh.fit(X_train, y_train)  \n",
    "    print(neigh.score(X_test, y_test))\n",
    "    accuracies.append(neigh.score(X_test, y_test))\n",
    "  "
   ]
  },
  {
   "cell_type": "code",
   "execution_count": 11,
   "metadata": {
    "colab": {
     "base_uri": "https://localhost:8080/",
     "height": 285
    },
    "id": "gxpqD1drHDnZ",
    "outputId": "35a67335-0461-47a3-f6fa-48b104cfb674"
   },
   "outputs": [
    {
     "data": {
      "text/plain": [
       "[<matplotlib.lines.Line2D at 0x7fb598103190>]"
      ]
     },
     "execution_count": 11,
     "metadata": {},
     "output_type": "execute_result"
    },
    {
     "data": {
      "image/png": "[encoded data removed]",
      "text/plain": [
       "<Figure size 432x288 with 1 Axes>"
      ]
     },
     "metadata": {
      "needs_background": "light"
     },
     "output_type": "display_data"
    }
   ],
   "source": [
    "plt.plot(group, accuracies)"
   ]
  },
  {
   "cell_type": "code",
   "execution_count": 12,
   "metadata": {
    "id": "yZ-GyJ2oUvbc"
   },
   "outputs": [],
   "source": [
    "from sklearn.model_selection import GridSearchCV\n",
    "grid_params = {\n",
    "    \"n_neighbors\" : [1, 3, 5, 7, 9, 11, 13, 15, 17,19,21, 23, 25, 27, 29, 31],\n",
    "    \"metric\" : [\"euclidean\", \"manhattan\"]\n",
    "}\n"
   ]
  },
  {
   "cell_type": "code",
   "execution_count": 13,
   "metadata": {
    "id": "k9RVSoLiVK4G"
   },
   "outputs": [],
   "source": [
    "gs = GridSearchCV(KNeighborsClassifier(), grid_params, verbose= 1, cv =3, n_jobs= -1)\n"
   ]
  },
  {
   "cell_type": "code",
   "execution_count": 14,
   "metadata": {
    "colab": {
     "base_uri": "https://localhost:8080/"
    },
    "id": "9axu0yTtWA3t",
    "outputId": "c72b04b6-68b3-4ccb-8c78-9afc337cebc2"
   },
   "outputs": [
    {
     "name": "stdout",
     "output_type": "stream",
     "text": [
      "Fitting 3 folds for each of 32 candidates, totalling 96 fits\n"
     ]
    }
   ],
   "source": [
    "gs_results = gs.fit(X_train, y_train)\n",
    "predict = gs.predict(X_test)"
   ]
  },
  {
   "cell_type": "code",
   "execution_count": 15,
   "metadata": {
    "id": "Dz-ycNgKXVdN"
   },
   "outputs": [],
   "source": [
    "predict = gs.predict(X_test)"
   ]
  },
  {
   "cell_type": "code",
   "execution_count": 16,
   "metadata": {
    "colab": {
     "base_uri": "https://localhost:8080/"
    },
    "id": "TZfZMf3-Wfv0",
    "outputId": "43f787e4-6838-4208-a750-b047473f3dd2"
   },
   "outputs": [
    {
     "data": {
      "text/plain": [
       "{'metric': 'euclidean', 'n_neighbors': 31}"
      ]
     },
     "execution_count": 16,
     "metadata": {},
     "output_type": "execute_result"
    }
   ],
   "source": [
    "gs.best_params_"
   ]
  },
  {
   "cell_type": "code",
   "execution_count": 17,
   "metadata": {
    "colab": {
     "base_uri": "https://localhost:8080/"
    },
    "id": "FayT6e7vXJSP",
    "outputId": "bf7a6f6c-6afa-43a8-e612-b278173e4fde"
   },
   "outputs": [
    {
     "name": "stdout",
     "output_type": "stream",
     "text": [
      "Accuracy: 0.7081339712918661\n"
     ]
    }
   ],
   "source": [
    "print(\"Accuracy:\", metrics.accuracy_score(y_test, predict))\n",
    "#print(classification_report(y_test, grid_predictions))"
   ]
  },
  {
   "cell_type": "markdown",
   "metadata": {
    "id": "5vgsX6CE2sf7"
   },
   "source": [
    "Try cross validation!"
   ]
  },
  {
   "cell_type": "code",
   "execution_count": 18,
   "metadata": {
    "colab": {
     "base_uri": "https://localhost:8080/"
    },
    "id": "zNu5WCCv2dgY",
    "outputId": "705b1be7-ac85-40cf-ad5b-b7c9a93b1deb"
   },
   "outputs": [
    {
     "data": {
      "text/plain": [
       "{'fit_time': array([0.06442809, 0.03141689, 0.03077602, 0.03080606, 0.03089976]),\n",
       " 'score_time': array([0.03476667, 0.02952528, 0.0304029 , 0.03081107, 0.02997708]),\n",
       " 'estimator': [KNeighborsClassifier(metric='manhattan', n_neighbors=29),\n",
       "  KNeighborsClassifier(metric='manhattan', n_neighbors=29),\n",
       "  KNeighborsClassifier(metric='manhattan', n_neighbors=29),\n",
       "  KNeighborsClassifier(metric='manhattan', n_neighbors=29),\n",
       "  KNeighborsClassifier(metric='manhattan', n_neighbors=29)],\n",
       " 'test_score': array([0.30007179, 0.71356784, 0.71356784, 0.68485284, 0.66475233]),\n",
       " 'train_score': array([0.71823403, 0.71482412, 0.71500359, 0.71392678, 0.71500359])}"
      ]
     },
     "execution_count": 18,
     "metadata": {},
     "output_type": "execute_result"
    }
   ],
   "source": [
    "kn = KNeighborsClassifier(n_neighbors=29, metric= \"manhattan\")\n",
    "scores = cross_validate(kn, df_feat, df_targ, cv = 5, return_train_score= True, return_estimator= True)\n",
    "scores"
   ]
  },
  {
   "cell_type": "markdown",
   "metadata": {
    "id": "YYUS9NsS6hvB"
   },
   "source": [
    "Cross Validation on another cluster"
   ]
  },
  {
   "cell_type": "code",
   "execution_count": 19,
   "metadata": {
    "colab": {
     "base_uri": "https://localhost:8080/",
     "height": 204
    },
    "id": "zi2Ibig_4qqh",
    "outputId": "c71e20e6-1253-4f37-d352-844b84272d05"
   },
   "outputs": [
    {
     "data": {
      "text/html": [
       "<div>\n",
       "<style scoped>\n",
       "    .dataframe tbody tr th:only-of-type {\n",
       "        vertical-align: middle;\n",
       "    }\n",
       "\n",
       "    .dataframe tbody tr th {\n",
       "        vertical-align: top;\n",
       "    }\n",
       "\n",
       "    .dataframe thead th {\n",
       "        text-align: right;\n",
       "    }\n",
       "</style>\n",
       "<table border=\"1\" class=\"dataframe\">\n",
       "  <thead>\n",
       "    <tr style=\"text-align: right;\">\n",
       "      <th></th>\n",
       "      <th>Unnamed: 0</th>\n",
       "      <th>id</th>\n",
       "      <th>age</th>\n",
       "      <th>gender</th>\n",
       "      <th>height</th>\n",
       "      <th>weight</th>\n",
       "      <th>ap_hi</th>\n",
       "      <th>ap_lo</th>\n",
       "      <th>cholesterol</th>\n",
       "      <th>gluc</th>\n",
       "      <th>smoke</th>\n",
       "      <th>alco</th>\n",
       "      <th>active</th>\n",
       "      <th>cardio</th>\n",
       "    </tr>\n",
       "  </thead>\n",
       "  <tbody>\n",
       "    <tr>\n",
       "      <th>0</th>\n",
       "      <td>8</td>\n",
       "      <td>13</td>\n",
       "      <td>17668</td>\n",
       "      <td>1</td>\n",
       "      <td>158</td>\n",
       "      <td>71.0</td>\n",
       "      <td>110</td>\n",
       "      <td>70</td>\n",
       "      <td>1</td>\n",
       "      <td>1</td>\n",
       "      <td>0</td>\n",
       "      <td>0</td>\n",
       "      <td>1</td>\n",
       "      <td>0</td>\n",
       "    </tr>\n",
       "    <tr>\n",
       "      <th>1</th>\n",
       "      <td>25</td>\n",
       "      <td>36</td>\n",
       "      <td>14453</td>\n",
       "      <td>1</td>\n",
       "      <td>153</td>\n",
       "      <td>65.0</td>\n",
       "      <td>130</td>\n",
       "      <td>100</td>\n",
       "      <td>2</td>\n",
       "      <td>1</td>\n",
       "      <td>0</td>\n",
       "      <td>0</td>\n",
       "      <td>1</td>\n",
       "      <td>0</td>\n",
       "    </tr>\n",
       "    <tr>\n",
       "      <th>2</th>\n",
       "      <td>27</td>\n",
       "      <td>38</td>\n",
       "      <td>18085</td>\n",
       "      <td>1</td>\n",
       "      <td>159</td>\n",
       "      <td>78.0</td>\n",
       "      <td>120</td>\n",
       "      <td>80</td>\n",
       "      <td>1</td>\n",
       "      <td>1</td>\n",
       "      <td>0</td>\n",
       "      <td>0</td>\n",
       "      <td>1</td>\n",
       "      <td>0</td>\n",
       "    </tr>\n",
       "    <tr>\n",
       "      <th>3</th>\n",
       "      <td>32</td>\n",
       "      <td>44</td>\n",
       "      <td>14605</td>\n",
       "      <td>1</td>\n",
       "      <td>159</td>\n",
       "      <td>60.0</td>\n",
       "      <td>110</td>\n",
       "      <td>70</td>\n",
       "      <td>1</td>\n",
       "      <td>1</td>\n",
       "      <td>0</td>\n",
       "      <td>0</td>\n",
       "      <td>1</td>\n",
       "      <td>0</td>\n",
       "    </tr>\n",
       "    <tr>\n",
       "      <th>4</th>\n",
       "      <td>37</td>\n",
       "      <td>51</td>\n",
       "      <td>17976</td>\n",
       "      <td>1</td>\n",
       "      <td>164</td>\n",
       "      <td>70.0</td>\n",
       "      <td>130</td>\n",
       "      <td>90</td>\n",
       "      <td>1</td>\n",
       "      <td>1</td>\n",
       "      <td>0</td>\n",
       "      <td>0</td>\n",
       "      <td>1</td>\n",
       "      <td>0</td>\n",
       "    </tr>\n",
       "  </tbody>\n",
       "</table>\n",
       "</div>"
      ],
      "text/plain": [
       "   Unnamed: 0  id    age  gender  height  weight  ap_hi  ap_lo  cholesterol  \\\n",
       "0           8  13  17668       1     158    71.0    110     70            1   \n",
       "1          25  36  14453       1     153    65.0    130    100            2   \n",
       "2          27  38  18085       1     159    78.0    120     80            1   \n",
       "3          32  44  14605       1     159    60.0    110     70            1   \n",
       "4          37  51  17976       1     164    70.0    130     90            1   \n",
       "\n",
       "   gluc  smoke  alco  active  cardio  \n",
       "0     1      0     0       1       0  \n",
       "1     1      0     0       1       0  \n",
       "2     1      0     0       1       0  \n",
       "3     1      0     0       1       0  \n",
       "4     1      0     0       1       0  "
      ]
     },
     "execution_count": 19,
     "metadata": {},
     "output_type": "execute_result"
    }
   ],
   "source": [
    "df1 = pd.read_csv(\"../Data/Cluster1\")\n",
    "df1.head()"
   ]
  },
  {
   "cell_type": "code",
   "execution_count": 20,
   "metadata": {
    "colab": {
     "base_uri": "https://localhost:8080/",
     "height": 204
    },
    "id": "51gIcLYc4_S_",
    "outputId": "35c8f659-4486-4b7e-fe39-1af3fab79ec4"
   },
   "outputs": [
    {
     "data": {
      "text/html": [
       "<div>\n",
       "<style scoped>\n",
       "    .dataframe tbody tr th:only-of-type {\n",
       "        vertical-align: middle;\n",
       "    }\n",
       "\n",
       "    .dataframe tbody tr th {\n",
       "        vertical-align: top;\n",
       "    }\n",
       "\n",
       "    .dataframe thead th {\n",
       "        text-align: right;\n",
       "    }\n",
       "</style>\n",
       "<table border=\"1\" class=\"dataframe\">\n",
       "  <thead>\n",
       "    <tr style=\"text-align: right;\">\n",
       "      <th></th>\n",
       "      <th>Unnamed: 0</th>\n",
       "      <th>id</th>\n",
       "      <th>age</th>\n",
       "      <th>gender</th>\n",
       "      <th>height</th>\n",
       "      <th>weight</th>\n",
       "      <th>ap_hi</th>\n",
       "      <th>ap_lo</th>\n",
       "      <th>cholesterol</th>\n",
       "      <th>gluc</th>\n",
       "      <th>smoke</th>\n",
       "      <th>alco</th>\n",
       "      <th>active</th>\n",
       "      <th>cardio</th>\n",
       "      <th>blood_pressure</th>\n",
       "    </tr>\n",
       "  </thead>\n",
       "  <tbody>\n",
       "    <tr>\n",
       "      <th>0</th>\n",
       "      <td>8</td>\n",
       "      <td>13</td>\n",
       "      <td>17668</td>\n",
       "      <td>1</td>\n",
       "      <td>158</td>\n",
       "      <td>71.0</td>\n",
       "      <td>110</td>\n",
       "      <td>70</td>\n",
       "      <td>1</td>\n",
       "      <td>1</td>\n",
       "      <td>0</td>\n",
       "      <td>0</td>\n",
       "      <td>1</td>\n",
       "      <td>0</td>\n",
       "      <td>1.571429</td>\n",
       "    </tr>\n",
       "    <tr>\n",
       "      <th>1</th>\n",
       "      <td>25</td>\n",
       "      <td>36</td>\n",
       "      <td>14453</td>\n",
       "      <td>1</td>\n",
       "      <td>153</td>\n",
       "      <td>65.0</td>\n",
       "      <td>130</td>\n",
       "      <td>100</td>\n",
       "      <td>2</td>\n",
       "      <td>1</td>\n",
       "      <td>0</td>\n",
       "      <td>0</td>\n",
       "      <td>1</td>\n",
       "      <td>0</td>\n",
       "      <td>1.300000</td>\n",
       "    </tr>\n",
       "    <tr>\n",
       "      <th>2</th>\n",
       "      <td>27</td>\n",
       "      <td>38</td>\n",
       "      <td>18085</td>\n",
       "      <td>1</td>\n",
       "      <td>159</td>\n",
       "      <td>78.0</td>\n",
       "      <td>120</td>\n",
       "      <td>80</td>\n",
       "      <td>1</td>\n",
       "      <td>1</td>\n",
       "      <td>0</td>\n",
       "      <td>0</td>\n",
       "      <td>1</td>\n",
       "      <td>0</td>\n",
       "      <td>1.500000</td>\n",
       "    </tr>\n",
       "    <tr>\n",
       "      <th>3</th>\n",
       "      <td>32</td>\n",
       "      <td>44</td>\n",
       "      <td>14605</td>\n",
       "      <td>1</td>\n",
       "      <td>159</td>\n",
       "      <td>60.0</td>\n",
       "      <td>110</td>\n",
       "      <td>70</td>\n",
       "      <td>1</td>\n",
       "      <td>1</td>\n",
       "      <td>0</td>\n",
       "      <td>0</td>\n",
       "      <td>1</td>\n",
       "      <td>0</td>\n",
       "      <td>1.571429</td>\n",
       "    </tr>\n",
       "    <tr>\n",
       "      <th>4</th>\n",
       "      <td>37</td>\n",
       "      <td>51</td>\n",
       "      <td>17976</td>\n",
       "      <td>1</td>\n",
       "      <td>164</td>\n",
       "      <td>70.0</td>\n",
       "      <td>130</td>\n",
       "      <td>90</td>\n",
       "      <td>1</td>\n",
       "      <td>1</td>\n",
       "      <td>0</td>\n",
       "      <td>0</td>\n",
       "      <td>1</td>\n",
       "      <td>0</td>\n",
       "      <td>1.444444</td>\n",
       "    </tr>\n",
       "  </tbody>\n",
       "</table>\n",
       "</div>"
      ],
      "text/plain": [
       "   Unnamed: 0  id    age  gender  height  weight  ap_hi  ap_lo  cholesterol  \\\n",
       "0           8  13  17668       1     158    71.0    110     70            1   \n",
       "1          25  36  14453       1     153    65.0    130    100            2   \n",
       "2          27  38  18085       1     159    78.0    120     80            1   \n",
       "3          32  44  14605       1     159    60.0    110     70            1   \n",
       "4          37  51  17976       1     164    70.0    130     90            1   \n",
       "\n",
       "   gluc  smoke  alco  active  cardio  blood_pressure  \n",
       "0     1      0     0       1       0        1.571429  \n",
       "1     1      0     0       1       0        1.300000  \n",
       "2     1      0     0       1       0        1.500000  \n",
       "3     1      0     0       1       0        1.571429  \n",
       "4     1      0     0       1       0        1.444444  "
      ]
     },
     "execution_count": 20,
     "metadata": {},
     "output_type": "execute_result"
    }
   ],
   "source": [
    "df1['blood_pressure'] = df1[\"ap_hi\"] / df1[\"ap_lo\"]\n",
    "df1.drop([\"ap_hi\", \"ap_lo\"], axis= 1)\n",
    "df1 = df1[df1['blood_pressure'] != math.inf]\n",
    "df1.head()"
   ]
  },
  {
   "cell_type": "code",
   "execution_count": 21,
   "metadata": {
    "colab": {
     "base_uri": "https://localhost:8080/"
    },
    "id": "XX_S5Nc_5NSd",
    "outputId": "f571d853-6448-4e7f-d84f-a8fe896db4a2"
   },
   "outputs": [
    {
     "data": {
      "text/plain": [
       "0    0\n",
       "1    0\n",
       "2    0\n",
       "3    0\n",
       "4    0\n",
       "Name: cardio, dtype: int64"
      ]
     },
     "execution_count": 21,
     "metadata": {},
     "output_type": "execute_result"
    }
   ],
   "source": [
    "df1_targ = df1.loc[:, \"cardio\"]\n",
    "df1_targ.head()"
   ]
  },
  {
   "cell_type": "code",
   "execution_count": 22,
   "metadata": {
    "colab": {
     "base_uri": "https://localhost:8080/",
     "height": 204
    },
    "id": "zs3-DjM_44rJ",
    "outputId": "37bee0fd-d81d-4879-ad66-23c603d1b457"
   },
   "outputs": [
    {
     "data": {
      "text/html": [
       "<div>\n",
       "<style scoped>\n",
       "    .dataframe tbody tr th:only-of-type {\n",
       "        vertical-align: middle;\n",
       "    }\n",
       "\n",
       "    .dataframe tbody tr th {\n",
       "        vertical-align: top;\n",
       "    }\n",
       "\n",
       "    .dataframe thead th {\n",
       "        text-align: right;\n",
       "    }\n",
       "</style>\n",
       "<table border=\"1\" class=\"dataframe\">\n",
       "  <thead>\n",
       "    <tr style=\"text-align: right;\">\n",
       "      <th></th>\n",
       "      <th>Unnamed: 0</th>\n",
       "      <th>id</th>\n",
       "      <th>age</th>\n",
       "      <th>gender</th>\n",
       "      <th>height</th>\n",
       "      <th>weight</th>\n",
       "      <th>ap_hi</th>\n",
       "      <th>ap_lo</th>\n",
       "      <th>cholesterol</th>\n",
       "      <th>gluc</th>\n",
       "      <th>smoke</th>\n",
       "      <th>alco</th>\n",
       "      <th>active</th>\n",
       "      <th>blood_pressure</th>\n",
       "    </tr>\n",
       "  </thead>\n",
       "  <tbody>\n",
       "    <tr>\n",
       "      <th>0</th>\n",
       "      <td>8</td>\n",
       "      <td>13</td>\n",
       "      <td>17668</td>\n",
       "      <td>1</td>\n",
       "      <td>158</td>\n",
       "      <td>71.0</td>\n",
       "      <td>110</td>\n",
       "      <td>70</td>\n",
       "      <td>1</td>\n",
       "      <td>1</td>\n",
       "      <td>0</td>\n",
       "      <td>0</td>\n",
       "      <td>1</td>\n",
       "      <td>1.571429</td>\n",
       "    </tr>\n",
       "    <tr>\n",
       "      <th>1</th>\n",
       "      <td>25</td>\n",
       "      <td>36</td>\n",
       "      <td>14453</td>\n",
       "      <td>1</td>\n",
       "      <td>153</td>\n",
       "      <td>65.0</td>\n",
       "      <td>130</td>\n",
       "      <td>100</td>\n",
       "      <td>2</td>\n",
       "      <td>1</td>\n",
       "      <td>0</td>\n",
       "      <td>0</td>\n",
       "      <td>1</td>\n",
       "      <td>1.300000</td>\n",
       "    </tr>\n",
       "    <tr>\n",
       "      <th>2</th>\n",
       "      <td>27</td>\n",
       "      <td>38</td>\n",
       "      <td>18085</td>\n",
       "      <td>1</td>\n",
       "      <td>159</td>\n",
       "      <td>78.0</td>\n",
       "      <td>120</td>\n",
       "      <td>80</td>\n",
       "      <td>1</td>\n",
       "      <td>1</td>\n",
       "      <td>0</td>\n",
       "      <td>0</td>\n",
       "      <td>1</td>\n",
       "      <td>1.500000</td>\n",
       "    </tr>\n",
       "    <tr>\n",
       "      <th>3</th>\n",
       "      <td>32</td>\n",
       "      <td>44</td>\n",
       "      <td>14605</td>\n",
       "      <td>1</td>\n",
       "      <td>159</td>\n",
       "      <td>60.0</td>\n",
       "      <td>110</td>\n",
       "      <td>70</td>\n",
       "      <td>1</td>\n",
       "      <td>1</td>\n",
       "      <td>0</td>\n",
       "      <td>0</td>\n",
       "      <td>1</td>\n",
       "      <td>1.571429</td>\n",
       "    </tr>\n",
       "    <tr>\n",
       "      <th>4</th>\n",
       "      <td>37</td>\n",
       "      <td>51</td>\n",
       "      <td>17976</td>\n",
       "      <td>1</td>\n",
       "      <td>164</td>\n",
       "      <td>70.0</td>\n",
       "      <td>130</td>\n",
       "      <td>90</td>\n",
       "      <td>1</td>\n",
       "      <td>1</td>\n",
       "      <td>0</td>\n",
       "      <td>0</td>\n",
       "      <td>1</td>\n",
       "      <td>1.444444</td>\n",
       "    </tr>\n",
       "  </tbody>\n",
       "</table>\n",
       "</div>"
      ],
      "text/plain": [
       "   Unnamed: 0  id    age  gender  height  weight  ap_hi  ap_lo  cholesterol  \\\n",
       "0           8  13  17668       1     158    71.0    110     70            1   \n",
       "1          25  36  14453       1     153    65.0    130    100            2   \n",
       "2          27  38  18085       1     159    78.0    120     80            1   \n",
       "3          32  44  14605       1     159    60.0    110     70            1   \n",
       "4          37  51  17976       1     164    70.0    130     90            1   \n",
       "\n",
       "   gluc  smoke  alco  active  blood_pressure  \n",
       "0     1      0     0       1        1.571429  \n",
       "1     1      0     0       1        1.300000  \n",
       "2     1      0     0       1        1.500000  \n",
       "3     1      0     0       1        1.571429  \n",
       "4     1      0     0       1        1.444444  "
      ]
     },
     "execution_count": 22,
     "metadata": {},
     "output_type": "execute_result"
    }
   ],
   "source": [
    "df1_feat = df1.drop(\"cardio\", axis = 1)\n",
    "df1_feat.head()"
   ]
  },
  {
   "cell_type": "code",
   "execution_count": 23,
   "metadata": {
    "colab": {
     "base_uri": "https://localhost:8080/"
    },
    "id": "Pjc_Lrrc9DCz",
    "outputId": "0f7aa31c-5cb4-4126-a10f-a012eee8c83d"
   },
   "outputs": [
    {
     "data": {
      "text/plain": [
       "{'fit_time': array([0.11666608, 0.081707  , 0.08333802, 0.08276391, 0.08088088]),\n",
       " 'score_time': array([0.0490849 , 0.05190301, 0.05319095, 0.05310202, 0.04992414]),\n",
       " 'estimator': [KNeighborsClassifier(metric='manhattan', n_neighbors=29),\n",
       "  KNeighborsClassifier(metric='manhattan', n_neighbors=29),\n",
       "  KNeighborsClassifier(metric='manhattan', n_neighbors=29),\n",
       "  KNeighborsClassifier(metric='manhattan', n_neighbors=29),\n",
       "  KNeighborsClassifier(metric='manhattan', n_neighbors=29)],\n",
       " 'test_score': array([0.30662625, 0.58510178, 0.48679082, 0.52576873, 0.69584055]),\n",
       " 'train_score': array([0.70200325, 0.70070384, 0.70124526, 0.70059556, 0.69965353])}"
      ]
     },
     "execution_count": 23,
     "metadata": {},
     "output_type": "execute_result"
    }
   ],
   "source": [
    "kn = KNeighborsClassifier(n_neighbors=29, metric= \"manhattan\")\n",
    "scores = cross_validate(kn, df1_feat, df1_targ, cv = 5, return_train_score= True, return_estimator= True)\n",
    "scores"
   ]
  },
  {
   "cell_type": "code",
   "execution_count": 24,
   "metadata": {
    "colab": {
     "base_uri": "https://localhost:8080/"
    },
    "id": "YCFlpJ3g5Yux",
    "outputId": "dc585bab-e93b-49ab-93e1-edbfcefb6477"
   },
   "outputs": [
    {
     "data": {
      "text/plain": [
       "{'fit_time': array([0.11939096, 0.08116579, 0.08054304, 0.08101201, 0.08045816]),\n",
       " 'score_time': array([0.0485661 , 0.05138206, 0.05048895, 0.05149508, 0.04893613]),\n",
       " 'estimator': [KNeighborsClassifier(metric='manhattan', n_neighbors=29),\n",
       "  KNeighborsClassifier(metric='manhattan', n_neighbors=29),\n",
       "  KNeighborsClassifier(metric='manhattan', n_neighbors=29),\n",
       "  KNeighborsClassifier(metric='manhattan', n_neighbors=29),\n",
       "  KNeighborsClassifier(metric='manhattan', n_neighbors=29)],\n",
       " 'test_score': array([0.4672213 , 0.36048064, 0.35702659, 0.35091879, 0.        ]),\n",
       " 'train_score': array([0.07959866, 0.08111702, 0.07571189, 0.07245891, 0.07471648])}"
      ]
     },
     "execution_count": 24,
     "metadata": {},
     "output_type": "execute_result"
    }
   ],
   "source": [
    "kn = KNeighborsClassifier(n_neighbors=29, metric= \"manhattan\")\n",
    "scores = cross_validate(kn, df1_feat, df1_targ, cv = 5, scoring = \"f1\", return_train_score= True, return_estimator= True)\n",
    "scores"
   ]
  },
  {
   "cell_type": "markdown",
   "metadata": {
    "id": "AcTK32zaAFuJ"
   },
   "source": [
    "Find Accuracy for all clusters"
   ]
  },
  {
   "cell_type": "code",
   "execution_count": 25,
   "metadata": {
    "colab": {
     "base_uri": "https://localhost:8080/"
    },
    "id": "hziThlprDwNy",
    "outputId": "1100d85c-5c81-4f3f-c6a7-fd4b90d191ae"
   },
   "outputs": [
    {
     "data": {
      "text/plain": [
       "{'n_neighbors': [1, 3, 5, 7, 9, 11, 13, 15, 17, 19, 21, 23, 25, 27, 29, 31],\n",
       " 'metric': ['euclidean', 'manhattan']}"
      ]
     },
     "execution_count": 25,
     "metadata": {},
     "output_type": "execute_result"
    }
   ],
   "source": [
    "grid_params"
   ]
  },
  {
   "cell_type": "code",
   "execution_count": 28,
   "metadata": {
    "colab": {
     "base_uri": "https://localhost:8080/",
     "height": 180
    },
    "id": "_cZuHpckDALT",
    "outputId": "1e338374-6111-42fe-c82c-ab27ad2571c8"
   },
   "outputs": [
    {
     "name": "stdout",
     "output_type": "stream",
     "text": [
      "Fitting 3 folds for each of 32 candidates, totalling 96 fits\n"
     ]
    },
    {
     "data": {
      "text/plain": [
       "{'metric': 'euclidean', 'n_neighbors': 31}"
      ]
     },
     "execution_count": 28,
     "metadata": {},
     "output_type": "execute_result"
    }
   ],
   "source": [
    "gs = GridSearchCV(KNeighborsClassifier(), grid_params, verbose= 1, cv =3, n_jobs= -1)\n",
    "gs.fit(X_train, y_train)\n",
    "gs.best_params_"
   ]
  },
  {
   "cell_type": "code",
   "execution_count": 29,
   "metadata": {
    "colab": {
     "base_uri": "https://localhost:8080/"
    },
    "id": "AcXPG2Nd-4N-",
    "outputId": "650914af-cb19-49e0-dde5-8fafb54e59e4"
   },
   "outputs": [
    {
     "ename": "FileNotFoundError",
     "evalue": "[Errno 2] No such file or directory: 'Cluster0'",
     "output_type": "error",
     "traceback": [
      "\u001b[0;31m---------------------------------------------------------------------------\u001b[0m",
      "\u001b[0;31mFileNotFoundError\u001b[0m                         Traceback (most recent call last)",
      "\u001b[0;32m<ipython-input-29-20f663966325>\u001b[0m in \u001b[0;36m<module>\u001b[0;34m\u001b[0m\n\u001b[1;32m      6\u001b[0m \u001b[0;32mfor\u001b[0m \u001b[0mclust\u001b[0m \u001b[0;32min\u001b[0m \u001b[0mClusters\u001b[0m\u001b[0;34m:\u001b[0m\u001b[0;34m\u001b[0m\u001b[0;34m\u001b[0m\u001b[0m\n\u001b[1;32m      7\u001b[0m     \u001b[0;31m# Preprocessing\u001b[0m\u001b[0;34m\u001b[0m\u001b[0;34m\u001b[0m\u001b[0;34m\u001b[0m\u001b[0m\n\u001b[0;32m----> 8\u001b[0;31m     \u001b[0mdf\u001b[0m \u001b[0;34m=\u001b[0m \u001b[0mpd\u001b[0m\u001b[0;34m.\u001b[0m\u001b[0mread_csv\u001b[0m\u001b[0;34m(\u001b[0m\u001b[0mclust\u001b[0m\u001b[0;34m)\u001b[0m\u001b[0;34m\u001b[0m\u001b[0;34m\u001b[0m\u001b[0m\n\u001b[0m\u001b[1;32m      9\u001b[0m     \u001b[0mdf\u001b[0m\u001b[0;34m[\u001b[0m\u001b[0;34m'blood_pressure'\u001b[0m\u001b[0;34m]\u001b[0m \u001b[0;34m=\u001b[0m \u001b[0mdf\u001b[0m\u001b[0;34m[\u001b[0m\u001b[0;34m\"ap_hi\"\u001b[0m\u001b[0;34m]\u001b[0m \u001b[0;34m/\u001b[0m \u001b[0mdf\u001b[0m\u001b[0;34m[\u001b[0m\u001b[0;34m\"ap_lo\"\u001b[0m\u001b[0;34m]\u001b[0m\u001b[0;34m\u001b[0m\u001b[0;34m\u001b[0m\u001b[0m\n\u001b[1;32m     10\u001b[0m     \u001b[0mdf\u001b[0m\u001b[0;34m.\u001b[0m\u001b[0mdrop\u001b[0m\u001b[0;34m(\u001b[0m\u001b[0;34m[\u001b[0m\u001b[0;34m\"ap_hi\"\u001b[0m\u001b[0;34m,\u001b[0m \u001b[0;34m\"ap_lo\"\u001b[0m\u001b[0;34m]\u001b[0m\u001b[0;34m,\u001b[0m \u001b[0maxis\u001b[0m\u001b[0;34m=\u001b[0m \u001b[0;36m1\u001b[0m\u001b[0;34m)\u001b[0m\u001b[0;34m\u001b[0m\u001b[0;34m\u001b[0m\u001b[0m\n",
      "\u001b[0;32m~/opt/anaconda3/lib/python3.8/site-packages/pandas/io/parsers.py\u001b[0m in \u001b[0;36mread_csv\u001b[0;34m(filepath_or_buffer, sep, delimiter, header, names, index_col, usecols, squeeze, prefix, mangle_dupe_cols, dtype, engine, converters, true_values, false_values, skipinitialspace, skiprows, skipfooter, nrows, na_values, keep_default_na, na_filter, verbose, skip_blank_lines, parse_dates, infer_datetime_format, keep_date_col, date_parser, dayfirst, cache_dates, iterator, chunksize, compression, thousands, decimal, lineterminator, quotechar, quoting, doublequote, escapechar, comment, encoding, dialect, error_bad_lines, warn_bad_lines, delim_whitespace, low_memory, memory_map, float_precision, storage_options)\u001b[0m\n\u001b[1;32m    608\u001b[0m     \u001b[0mkwds\u001b[0m\u001b[0;34m.\u001b[0m\u001b[0mupdate\u001b[0m\u001b[0;34m(\u001b[0m\u001b[0mkwds_defaults\u001b[0m\u001b[0;34m)\u001b[0m\u001b[0;34m\u001b[0m\u001b[0;34m\u001b[0m\u001b[0m\n\u001b[1;32m    609\u001b[0m \u001b[0;34m\u001b[0m\u001b[0m\n\u001b[0;32m--> 610\u001b[0;31m     \u001b[0;32mreturn\u001b[0m \u001b[0m_read\u001b[0m\u001b[0;34m(\u001b[0m\u001b[0mfilepath_or_buffer\u001b[0m\u001b[0;34m,\u001b[0m \u001b[0mkwds\u001b[0m\u001b[0;34m)\u001b[0m\u001b[0;34m\u001b[0m\u001b[0;34m\u001b[0m\u001b[0m\n\u001b[0m\u001b[1;32m    611\u001b[0m \u001b[0;34m\u001b[0m\u001b[0m\n\u001b[1;32m    612\u001b[0m \u001b[0;34m\u001b[0m\u001b[0m\n",
      "\u001b[0;32m~/opt/anaconda3/lib/python3.8/site-packages/pandas/io/parsers.py\u001b[0m in \u001b[0;36m_read\u001b[0;34m(filepath_or_buffer, kwds)\u001b[0m\n\u001b[1;32m    460\u001b[0m \u001b[0;34m\u001b[0m\u001b[0m\n\u001b[1;32m    461\u001b[0m     \u001b[0;31m# Create the parser.\u001b[0m\u001b[0;34m\u001b[0m\u001b[0;34m\u001b[0m\u001b[0;34m\u001b[0m\u001b[0m\n\u001b[0;32m--> 462\u001b[0;31m     \u001b[0mparser\u001b[0m \u001b[0;34m=\u001b[0m \u001b[0mTextFileReader\u001b[0m\u001b[0;34m(\u001b[0m\u001b[0mfilepath_or_buffer\u001b[0m\u001b[0;34m,\u001b[0m \u001b[0;34m**\u001b[0m\u001b[0mkwds\u001b[0m\u001b[0;34m)\u001b[0m\u001b[0;34m\u001b[0m\u001b[0;34m\u001b[0m\u001b[0m\n\u001b[0m\u001b[1;32m    463\u001b[0m \u001b[0;34m\u001b[0m\u001b[0m\n\u001b[1;32m    464\u001b[0m     \u001b[0;32mif\u001b[0m \u001b[0mchunksize\u001b[0m \u001b[0;32mor\u001b[0m \u001b[0miterator\u001b[0m\u001b[0;34m:\u001b[0m\u001b[0;34m\u001b[0m\u001b[0;34m\u001b[0m\u001b[0m\n",
      "\u001b[0;32m~/opt/anaconda3/lib/python3.8/site-packages/pandas/io/parsers.py\u001b[0m in \u001b[0;36m__init__\u001b[0;34m(self, f, engine, **kwds)\u001b[0m\n\u001b[1;32m    817\u001b[0m             \u001b[0mself\u001b[0m\u001b[0;34m.\u001b[0m\u001b[0moptions\u001b[0m\u001b[0;34m[\u001b[0m\u001b[0;34m\"has_index_names\"\u001b[0m\u001b[0;34m]\u001b[0m \u001b[0;34m=\u001b[0m \u001b[0mkwds\u001b[0m\u001b[0;34m[\u001b[0m\u001b[0;34m\"has_index_names\"\u001b[0m\u001b[0;34m]\u001b[0m\u001b[0;34m\u001b[0m\u001b[0;34m\u001b[0m\u001b[0m\n\u001b[1;32m    818\u001b[0m \u001b[0;34m\u001b[0m\u001b[0m\n\u001b[0;32m--> 819\u001b[0;31m         \u001b[0mself\u001b[0m\u001b[0;34m.\u001b[0m\u001b[0m_engine\u001b[0m \u001b[0;34m=\u001b[0m \u001b[0mself\u001b[0m\u001b[0;34m.\u001b[0m\u001b[0m_make_engine\u001b[0m\u001b[0;34m(\u001b[0m\u001b[0mself\u001b[0m\u001b[0;34m.\u001b[0m\u001b[0mengine\u001b[0m\u001b[0;34m)\u001b[0m\u001b[0;34m\u001b[0m\u001b[0;34m\u001b[0m\u001b[0m\n\u001b[0m\u001b[1;32m    820\u001b[0m \u001b[0;34m\u001b[0m\u001b[0m\n\u001b[1;32m    821\u001b[0m     \u001b[0;32mdef\u001b[0m \u001b[0mclose\u001b[0m\u001b[0;34m(\u001b[0m\u001b[0mself\u001b[0m\u001b[0;34m)\u001b[0m\u001b[0;34m:\u001b[0m\u001b[0;34m\u001b[0m\u001b[0;34m\u001b[0m\u001b[0m\n",
      "\u001b[0;32m~/opt/anaconda3/lib/python3.8/site-packages/pandas/io/parsers.py\u001b[0m in \u001b[0;36m_make_engine\u001b[0;34m(self, engine)\u001b[0m\n\u001b[1;32m   1048\u001b[0m             )\n\u001b[1;32m   1049\u001b[0m         \u001b[0;31m# error: Too many arguments for \"ParserBase\"\u001b[0m\u001b[0;34m\u001b[0m\u001b[0;34m\u001b[0m\u001b[0;34m\u001b[0m\u001b[0m\n\u001b[0;32m-> 1050\u001b[0;31m         \u001b[0;32mreturn\u001b[0m \u001b[0mmapping\u001b[0m\u001b[0;34m[\u001b[0m\u001b[0mengine\u001b[0m\u001b[0;34m]\u001b[0m\u001b[0;34m(\u001b[0m\u001b[0mself\u001b[0m\u001b[0;34m.\u001b[0m\u001b[0mf\u001b[0m\u001b[0;34m,\u001b[0m \u001b[0;34m**\u001b[0m\u001b[0mself\u001b[0m\u001b[0;34m.\u001b[0m\u001b[0moptions\u001b[0m\u001b[0;34m)\u001b[0m  \u001b[0;31m# type: ignore[call-arg]\u001b[0m\u001b[0;34m\u001b[0m\u001b[0;34m\u001b[0m\u001b[0m\n\u001b[0m\u001b[1;32m   1051\u001b[0m \u001b[0;34m\u001b[0m\u001b[0m\n\u001b[1;32m   1052\u001b[0m     \u001b[0;32mdef\u001b[0m \u001b[0m_failover_to_python\u001b[0m\u001b[0;34m(\u001b[0m\u001b[0mself\u001b[0m\u001b[0;34m)\u001b[0m\u001b[0;34m:\u001b[0m\u001b[0;34m\u001b[0m\u001b[0;34m\u001b[0m\u001b[0m\n",
      "\u001b[0;32m~/opt/anaconda3/lib/python3.8/site-packages/pandas/io/parsers.py\u001b[0m in \u001b[0;36m__init__\u001b[0;34m(self, src, **kwds)\u001b[0m\n\u001b[1;32m   1865\u001b[0m \u001b[0;34m\u001b[0m\u001b[0m\n\u001b[1;32m   1866\u001b[0m         \u001b[0;31m# open handles\u001b[0m\u001b[0;34m\u001b[0m\u001b[0;34m\u001b[0m\u001b[0;34m\u001b[0m\u001b[0m\n\u001b[0;32m-> 1867\u001b[0;31m         \u001b[0mself\u001b[0m\u001b[0;34m.\u001b[0m\u001b[0m_open_handles\u001b[0m\u001b[0;34m(\u001b[0m\u001b[0msrc\u001b[0m\u001b[0;34m,\u001b[0m \u001b[0mkwds\u001b[0m\u001b[0;34m)\u001b[0m\u001b[0;34m\u001b[0m\u001b[0;34m\u001b[0m\u001b[0m\n\u001b[0m\u001b[1;32m   1868\u001b[0m         \u001b[0;32massert\u001b[0m \u001b[0mself\u001b[0m\u001b[0;34m.\u001b[0m\u001b[0mhandles\u001b[0m \u001b[0;32mis\u001b[0m \u001b[0;32mnot\u001b[0m \u001b[0;32mNone\u001b[0m\u001b[0;34m\u001b[0m\u001b[0;34m\u001b[0m\u001b[0m\n\u001b[1;32m   1869\u001b[0m         \u001b[0;32mfor\u001b[0m \u001b[0mkey\u001b[0m \u001b[0;32min\u001b[0m \u001b[0;34m(\u001b[0m\u001b[0;34m\"storage_options\"\u001b[0m\u001b[0;34m,\u001b[0m \u001b[0;34m\"encoding\"\u001b[0m\u001b[0;34m,\u001b[0m \u001b[0;34m\"memory_map\"\u001b[0m\u001b[0;34m,\u001b[0m \u001b[0;34m\"compression\"\u001b[0m\u001b[0;34m)\u001b[0m\u001b[0;34m:\u001b[0m\u001b[0;34m\u001b[0m\u001b[0;34m\u001b[0m\u001b[0m\n",
      "\u001b[0;32m~/opt/anaconda3/lib/python3.8/site-packages/pandas/io/parsers.py\u001b[0m in \u001b[0;36m_open_handles\u001b[0;34m(self, src, kwds)\u001b[0m\n\u001b[1;32m   1360\u001b[0m         \u001b[0mLet\u001b[0m \u001b[0mthe\u001b[0m \u001b[0mreaders\u001b[0m \u001b[0mopen\u001b[0m \u001b[0mIOHanldes\u001b[0m \u001b[0mafter\u001b[0m \u001b[0mthey\u001b[0m \u001b[0mare\u001b[0m \u001b[0mdone\u001b[0m \u001b[0;32mwith\u001b[0m \u001b[0mtheir\u001b[0m \u001b[0mpotential\u001b[0m \u001b[0mraises\u001b[0m\u001b[0;34m.\u001b[0m\u001b[0;34m\u001b[0m\u001b[0;34m\u001b[0m\u001b[0m\n\u001b[1;32m   1361\u001b[0m         \"\"\"\n\u001b[0;32m-> 1362\u001b[0;31m         self.handles = get_handle(\n\u001b[0m\u001b[1;32m   1363\u001b[0m             \u001b[0msrc\u001b[0m\u001b[0;34m,\u001b[0m\u001b[0;34m\u001b[0m\u001b[0;34m\u001b[0m\u001b[0m\n\u001b[1;32m   1364\u001b[0m             \u001b[0;34m\"r\"\u001b[0m\u001b[0;34m,\u001b[0m\u001b[0;34m\u001b[0m\u001b[0;34m\u001b[0m\u001b[0m\n",
      "\u001b[0;32m~/opt/anaconda3/lib/python3.8/site-packages/pandas/io/common.py\u001b[0m in \u001b[0;36mget_handle\u001b[0;34m(path_or_buf, mode, encoding, compression, memory_map, is_text, errors, storage_options)\u001b[0m\n\u001b[1;32m    640\u001b[0m                 \u001b[0merrors\u001b[0m \u001b[0;34m=\u001b[0m \u001b[0;34m\"replace\"\u001b[0m\u001b[0;34m\u001b[0m\u001b[0;34m\u001b[0m\u001b[0m\n\u001b[1;32m    641\u001b[0m             \u001b[0;31m# Encoding\u001b[0m\u001b[0;34m\u001b[0m\u001b[0;34m\u001b[0m\u001b[0;34m\u001b[0m\u001b[0m\n\u001b[0;32m--> 642\u001b[0;31m             handle = open(\n\u001b[0m\u001b[1;32m    643\u001b[0m                 \u001b[0mhandle\u001b[0m\u001b[0;34m,\u001b[0m\u001b[0;34m\u001b[0m\u001b[0;34m\u001b[0m\u001b[0m\n\u001b[1;32m    644\u001b[0m                 \u001b[0mioargs\u001b[0m\u001b[0;34m.\u001b[0m\u001b[0mmode\u001b[0m\u001b[0;34m,\u001b[0m\u001b[0;34m\u001b[0m\u001b[0;34m\u001b[0m\u001b[0m\n",
      "\u001b[0;31mFileNotFoundError\u001b[0m: [Errno 2] No such file or directory: 'Cluster0'"
     ]
    }
   ],
   "source": [
    "Clusters = [\"Cluster0\", \"Cluster1\", \"Cluster2\", \"Cluster3\", \"Cluster4\", \"Cluster5\", \"Cluster6\", \"Cluster7\", 'Cluster8']\n",
    "knx = KNeighborsClassifier(n_neighbors=29, metric= \"manhattan\")\n",
    "accuracyDict = {}\n",
    "numEstimatorsDict = {}\n",
    "\n",
    "for clust in Clusters:\n",
    "    # Preprocessing\n",
    "    path_k = \"../Data/\" + clust\n",
    "    df = pd.read_csv(path_k, delimiter=',')\n",
    "    df['blood_pressure'] = df[\"ap_hi\"] / df[\"ap_lo\"]\n",
    "    df.drop([\"ap_hi\", \"ap_lo\"], axis= 1)\n",
    "    df = df[df['blood_pressure'] != math.inf]\n",
    "    df_targ = df.loc[:, \"cardio\"]\n",
    "    df_feat = df.drop(\"cardio\", axis = 1)\n",
    "    \n",
    "    # Train model\n",
    "    X_train, X_test, y_train, y_test = train_test_split(df_feat, df_targ, test_size = .33, random_state = 0)\n",
    "    gs = GridSearchCV(knx, grid_params, verbose= 1, cv =3, n_jobs= -1)\n",
    "    gs.fit(X_train, y_train)\n",
    "    knx = KNeighborsClassifier(n_neighbors= gs.best_params_['n_neighbors'], metric= gs.best_params_['metric'])\n",
    "    knx.fit(X_train, y_train)\n",
    "    \n",
    "    # Store accuracies\n",
    "    y_pred = knx.predict(X_test)\n",
    "    accuracyDict[clust] = metrics.accuracy_score(y_test, y_pred)\n",
    "\n",
    "    # Store best # of estimtators\n",
    "    numEstimatorsDict[clust] = gs.best_params_"
   ]
  },
  {
   "cell_type": "code",
   "execution_count": 72,
   "metadata": {
    "colab": {
     "base_uri": "https://localhost:8080/"
    },
    "id": "FFfhGBY1AhCw",
    "outputId": "5d65c229-869a-4bfd-9b40-26bf77e4c300"
   },
   "outputs": [
    {
     "data": {
      "text/plain": [
       "{'Cluster0': 0.7133536320139191,\n",
       " 'Cluster1': 0.699475065616798,\n",
       " 'Cluster2': 0.5563798219584569,\n",
       " 'Cluster3': 0.6213942307692307,\n",
       " 'Cluster4': 0.8534201954397395,\n",
       " 'Cluster5': 0.5615763546798029,\n",
       " 'Cluster6': 0.5529793069060085,\n",
       " 'Cluster7': 0.5812973883740522,\n",
       " 'Cluster8': 0.5367903258864521}"
      ]
     },
     "execution_count": 72,
     "metadata": {},
     "output_type": "execute_result"
    }
   ],
   "source": [
    "print(accuracyDict)\n",
    "print(numEstimatorsDict)"
   ]
  }
 ],
 "metadata": {
  "colab": {
   "authorship_tag": "ABX9TyN8yfisAoJWFFEHrfu0eExT",
   "include_colab_link": true,
   "name": "knn.ipynb",
   "provenance": []
  },
  "kernelspec": {
   "display_name": "Python 3",
   "language": "python",
   "name": "python3"
  },
  "language_info": {
   "codemirror_mode": {
    "name": "ipython",
    "version": 3
   },
   "file_extension": ".py",
   "mimetype": "text/x-python",
   "name": "python",
   "nbconvert_exporter": "python",
   "pygments_lexer": "ipython3",
   "version": "3.8.8"
  }
 },
 "nbformat": 4,
 "nbformat_minor": 1
}
