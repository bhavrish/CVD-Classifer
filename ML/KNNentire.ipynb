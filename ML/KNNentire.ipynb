{
  "nbformat": 4,
  "nbformat_minor": 0,
  "metadata": {
    "colab": {
      "name": "KNNentire.ipynb",
      "provenance": [],
      "authorship_tag": "ABX9TyMz/cZegWfmcNPEDdovVOd2",
      "include_colab_link": true
    },
    "kernelspec": {
      "name": "python3",
      "display_name": "Python 3"
    },
    "language_info": {
      "name": "python"
    }
  },
  "cells": [
    {
      "cell_type": "markdown",
      "metadata": {
        "id": "view-in-github",
        "colab_type": "text"
      },
      "source": [
        "<a href=\"https://colab.research.google.com/github/bhavrish/CVD-Classifer/blob/main/KNNentire.ipynb\" target=\"_parent\"><img src=\"https://colab.research.google.com/assets/colab-badge.svg\" alt=\"Open In Colab\"/></a>"
      ]
    },
    {
      "cell_type": "code",
      "metadata": {
        "id": "VTIOYj8OCjWT"
      },
      "source": [
        "from sklearn.neighbors import NearestNeighbors\n",
        "from sklearn.model_selection import train_test_split\n",
        "from sklearn.neighbors import KNeighborsClassifier\n",
        "import pandas as pd\n",
        "import matplotlib.pyplot as plt\n"
      ],
      "execution_count": 4,
      "outputs": []
    },
    {
      "cell_type": "code",
      "metadata": {
        "colab": {
          "base_uri": "https://localhost:8080/",
          "height": 203
        },
        "id": "ISB7tGxYCsm8",
        "outputId": "6a781161-a8b8-4397-ce65-f5902b9d313e"
      },
      "source": [
        "df = pd.read_csv('cardio_train.csv',  delimiter= \";\")\n",
        "df.head()"
      ],
      "execution_count": 11,
      "outputs": [
        {
          "output_type": "execute_result",
          "data": {
            "text/html": [
              "<div>\n",
              "<style scoped>\n",
              "    .dataframe tbody tr th:only-of-type {\n",
              "        vertical-align: middle;\n",
              "    }\n",
              "\n",
              "    .dataframe tbody tr th {\n",
              "        vertical-align: top;\n",
              "    }\n",
              "\n",
              "    .dataframe thead th {\n",
              "        text-align: right;\n",
              "    }\n",
              "</style>\n",
              "<table border=\"1\" class=\"dataframe\">\n",
              "  <thead>\n",
              "    <tr style=\"text-align: right;\">\n",
              "      <th></th>\n",
              "      <th>id</th>\n",
              "      <th>age</th>\n",
              "      <th>gender</th>\n",
              "      <th>height</th>\n",
              "      <th>weight</th>\n",
              "      <th>ap_hi</th>\n",
              "      <th>ap_lo</th>\n",
              "      <th>cholesterol</th>\n",
              "      <th>gluc</th>\n",
              "      <th>smoke</th>\n",
              "      <th>alco</th>\n",
              "      <th>active</th>\n",
              "      <th>cardio</th>\n",
              "    </tr>\n",
              "  </thead>\n",
              "  <tbody>\n",
              "    <tr>\n",
              "      <th>0</th>\n",
              "      <td>0</td>\n",
              "      <td>18393</td>\n",
              "      <td>2</td>\n",
              "      <td>168</td>\n",
              "      <td>62.0</td>\n",
              "      <td>110</td>\n",
              "      <td>80</td>\n",
              "      <td>1</td>\n",
              "      <td>1</td>\n",
              "      <td>0</td>\n",
              "      <td>0</td>\n",
              "      <td>1</td>\n",
              "      <td>0</td>\n",
              "    </tr>\n",
              "    <tr>\n",
              "      <th>1</th>\n",
              "      <td>1</td>\n",
              "      <td>20228</td>\n",
              "      <td>1</td>\n",
              "      <td>156</td>\n",
              "      <td>85.0</td>\n",
              "      <td>140</td>\n",
              "      <td>90</td>\n",
              "      <td>3</td>\n",
              "      <td>1</td>\n",
              "      <td>0</td>\n",
              "      <td>0</td>\n",
              "      <td>1</td>\n",
              "      <td>1</td>\n",
              "    </tr>\n",
              "    <tr>\n",
              "      <th>2</th>\n",
              "      <td>2</td>\n",
              "      <td>18857</td>\n",
              "      <td>1</td>\n",
              "      <td>165</td>\n",
              "      <td>64.0</td>\n",
              "      <td>130</td>\n",
              "      <td>70</td>\n",
              "      <td>3</td>\n",
              "      <td>1</td>\n",
              "      <td>0</td>\n",
              "      <td>0</td>\n",
              "      <td>0</td>\n",
              "      <td>1</td>\n",
              "    </tr>\n",
              "    <tr>\n",
              "      <th>3</th>\n",
              "      <td>3</td>\n",
              "      <td>17623</td>\n",
              "      <td>2</td>\n",
              "      <td>169</td>\n",
              "      <td>82.0</td>\n",
              "      <td>150</td>\n",
              "      <td>100</td>\n",
              "      <td>1</td>\n",
              "      <td>1</td>\n",
              "      <td>0</td>\n",
              "      <td>0</td>\n",
              "      <td>1</td>\n",
              "      <td>1</td>\n",
              "    </tr>\n",
              "    <tr>\n",
              "      <th>4</th>\n",
              "      <td>4</td>\n",
              "      <td>17474</td>\n",
              "      <td>1</td>\n",
              "      <td>156</td>\n",
              "      <td>56.0</td>\n",
              "      <td>100</td>\n",
              "      <td>60</td>\n",
              "      <td>1</td>\n",
              "      <td>1</td>\n",
              "      <td>0</td>\n",
              "      <td>0</td>\n",
              "      <td>0</td>\n",
              "      <td>0</td>\n",
              "    </tr>\n",
              "  </tbody>\n",
              "</table>\n",
              "</div>"
            ],
            "text/plain": [
              "   id    age  gender  height  weight  ...  gluc  smoke  alco  active  cardio\n",
              "0   0  18393       2     168    62.0  ...     1      0     0       1       0\n",
              "1   1  20228       1     156    85.0  ...     1      0     0       1       1\n",
              "2   2  18857       1     165    64.0  ...     1      0     0       0       1\n",
              "3   3  17623       2     169    82.0  ...     1      0     0       1       1\n",
              "4   4  17474       1     156    56.0  ...     1      0     0       0       0\n",
              "\n",
              "[5 rows x 13 columns]"
            ]
          },
          "metadata": {},
          "execution_count": 11
        }
      ]
    },
    {
      "cell_type": "code",
      "metadata": {
        "id": "ZfLdVg-AD5pK"
      },
      "source": [
        "df_feat = df.iloc[:,0:-1]"
      ],
      "execution_count": 12,
      "outputs": []
    },
    {
      "cell_type": "code",
      "metadata": {
        "id": "nB9g2eOOEKbc"
      },
      "source": [
        "df_targ = df.iloc[:, -1]"
      ],
      "execution_count": 13,
      "outputs": []
    },
    {
      "cell_type": "code",
      "metadata": {
        "id": "vEtz6n9JERbV"
      },
      "source": [
        "X_train, X_test, y_train, y_test = train_test_split(df_feat, df_targ, test_size = .33, random_state = 44)"
      ],
      "execution_count": 14,
      "outputs": []
    },
    {
      "cell_type": "code",
      "metadata": {
        "colab": {
          "base_uri": "https://localhost:8080/"
        },
        "id": "DfotllmtEtjQ",
        "outputId": "0d607bf1-775b-48ff-a070-f92375c60523"
      },
      "source": [
        "print(X_train, y_test)"
      ],
      "execution_count": 15,
      "outputs": [
        {
          "output_type": "stream",
          "name": "stdout",
          "text": [
            "          id    age  gender  height  ...  gluc  smoke  alco  active\n",
            "53014  75620  20483       1     161  ...     1      0     0       1\n",
            "51881  73983  19453       1     146  ...     2      0     0       1\n",
            "15        24  16782       2     172  ...     1      0     0       0\n",
            "28039  40092  18316       1     162  ...     1      0     0       1\n",
            "60099  85807  21705       1     170  ...     1      0     0       1\n",
            "...      ...    ...     ...     ...  ...   ...    ...   ...     ...\n",
            "53123  75778  20424       1     164  ...     1      0     0       1\n",
            "49723  70990  22642       1     172  ...     1      0     0       1\n",
            "25773  36782  21825       1     160  ...     1      0     0       1\n",
            "69027  98602  21473       2     178  ...     1      0     0       0\n",
            "14100  20118  22852       1     153  ...     2      0     0       1\n",
            "\n",
            "[46900 rows x 12 columns] 52583    1\n",
            "14811    0\n",
            "36574    0\n",
            "69135    0\n",
            "15320    1\n",
            "        ..\n",
            "3033     1\n",
            "28168    0\n",
            "45277    0\n",
            "40982    0\n",
            "58357    1\n",
            "Name: cardio, Length: 23100, dtype: int64\n"
          ]
        }
      ]
    },
    {
      "cell_type": "code",
      "metadata": {
        "id": "5fcYCbZ0E4Yu",
        "colab": {
          "base_uri": "https://localhost:8080/"
        },
        "outputId": "7720bd90-8023-4c28-d224-70e3995716f0"
      },
      "source": [
        "group = [1, 3, 5, 7, 9, 11, 13, 15, 17,19,21, 23, 25, 27, 29, 31]\n",
        "error = []\n",
        "\n",
        "for i in group:\n",
        "  neigh = KNeighborsClassifier(n_neighbors = i)\n",
        "  neigh.fit(X_train, y_train)  \n",
        "  print(neigh.score(X_test, y_test))\n",
        "  error.append(neigh.score(X_test, y_test))\n",
        "  "
      ],
      "execution_count": 16,
      "outputs": [
        {
          "output_type": "stream",
          "name": "stdout",
          "text": [
            "0.5448484848484848\n",
            "0.556060606060606\n",
            "0.5556709956709956\n",
            "0.5647619047619048\n",
            "0.5722510822510822\n",
            "0.5733333333333334\n",
            "0.5761038961038961\n",
            "0.5787878787878787\n",
            "0.5774458874458874\n",
            "0.5787012987012987\n",
            "0.5783982683982684\n",
            "0.5804329004329004\n",
            "0.5826406926406926\n",
            "0.5818614718614719\n",
            "0.5843290043290044\n",
            "0.5835497835497836\n"
          ]
        }
      ]
    },
    {
      "cell_type": "code",
      "metadata": {
        "colab": {
          "base_uri": "https://localhost:8080/",
          "height": 282
        },
        "id": "gxpqD1drHDnZ",
        "outputId": "c2c8f545-11d5-489c-85b1-41ba52756be8"
      },
      "source": [
        "plt.plot(group, error) ## this is accuracy"
      ],
      "execution_count": 17,
      "outputs": [
        {
          "output_type": "execute_result",
          "data": {
            "text/plain": [
              "[<matplotlib.lines.Line2D at 0x7f00bdbd7550>]"
            ]
          },
          "metadata": {},
          "execution_count": 17
        },
        {
          "output_type": "display_data",
          "data": {
            "image/png": "[encoded data removed]",
            "text/plain": [
              "<Figure size 432x288 with 1 Axes>"
            ]
          },
          "metadata": {
            "needs_background": "light"
          }
        }
      ]
    }
  ]
}