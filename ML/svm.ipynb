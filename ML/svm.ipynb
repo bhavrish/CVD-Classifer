{
 "cells": [
  {
   "cell_type": "code",
   "execution_count": 1,
   "id": "4646d4ac",
   "metadata": {},
   "outputs": [],
   "source": [
    "import pandas as pd\n",
    "import matplotlib.pyplot as plt\n",
    "from sklearn.cluster import KMeans\n",
    "import csv\n",
    "from sklearn import metrics"
   ]
  },
  {
   "cell_type": "code",
   "execution_count": 2,
   "id": "42ede83d",
   "metadata": {},
   "outputs": [
    {
     "name": "stdout",
     "output_type": "stream",
     "text": [
      "   Unnamed: 0  id    age  gender  height  weight  ap_hi  ap_lo  cholesterol  \\\n",
      "0           1   1  20228       1     156    85.0    140     90            3   \n",
      "1           2   2  18857       1     165    64.0    130     70            3   \n",
      "2           6   9  22113       1     157    93.0    130     80            3   \n",
      "3          22  32  23046       1     158    90.0    145     85            2   \n",
      "4          24  35  16608       1     170    68.0    150     90            3   \n",
      "\n",
      "   gluc  smoke  alco  active  cardio  \n",
      "0     1      0     0       1       1  \n",
      "1     1      0     0       0       1  \n",
      "2     1      0     0       1       0  \n",
      "3     2      0     0       1       1  \n",
      "4     1      0     0       1       1  \n"
     ]
    }
   ],
   "source": [
    "# read in data\n",
    "df = pd.read_csv('../Data/Cluster0', delimiter=',')\n",
    "print(df.head())"
   ]
  },
  {
   "cell_type": "code",
   "execution_count": 3,
   "id": "5074ebb7",
   "metadata": {},
   "outputs": [
    {
     "data": {
      "text/html": [
       "<div>\n",
       "<style scoped>\n",
       "    .dataframe tbody tr th:only-of-type {\n",
       "        vertical-align: middle;\n",
       "    }\n",
       "\n",
       "    .dataframe tbody tr th {\n",
       "        vertical-align: top;\n",
       "    }\n",
       "\n",
       "    .dataframe thead th {\n",
       "        text-align: right;\n",
       "    }\n",
       "</style>\n",
       "<table border=\"1\" class=\"dataframe\">\n",
       "  <thead>\n",
       "    <tr style=\"text-align: right;\">\n",
       "      <th></th>\n",
       "      <th>age</th>\n",
       "      <th>gender</th>\n",
       "      <th>height</th>\n",
       "      <th>weight</th>\n",
       "      <th>ap_hi</th>\n",
       "      <th>ap_lo</th>\n",
       "      <th>cholesterol</th>\n",
       "      <th>gluc</th>\n",
       "      <th>smoke</th>\n",
       "      <th>alco</th>\n",
       "      <th>active</th>\n",
       "    </tr>\n",
       "  </thead>\n",
       "  <tbody>\n",
       "    <tr>\n",
       "      <th>0</th>\n",
       "      <td>20228</td>\n",
       "      <td>1</td>\n",
       "      <td>156</td>\n",
       "      <td>85.0</td>\n",
       "      <td>140</td>\n",
       "      <td>90</td>\n",
       "      <td>3</td>\n",
       "      <td>1</td>\n",
       "      <td>0</td>\n",
       "      <td>0</td>\n",
       "      <td>1</td>\n",
       "    </tr>\n",
       "    <tr>\n",
       "      <th>1</th>\n",
       "      <td>18857</td>\n",
       "      <td>1</td>\n",
       "      <td>165</td>\n",
       "      <td>64.0</td>\n",
       "      <td>130</td>\n",
       "      <td>70</td>\n",
       "      <td>3</td>\n",
       "      <td>1</td>\n",
       "      <td>0</td>\n",
       "      <td>0</td>\n",
       "      <td>0</td>\n",
       "    </tr>\n",
       "    <tr>\n",
       "      <th>2</th>\n",
       "      <td>22113</td>\n",
       "      <td>1</td>\n",
       "      <td>157</td>\n",
       "      <td>93.0</td>\n",
       "      <td>130</td>\n",
       "      <td>80</td>\n",
       "      <td>3</td>\n",
       "      <td>1</td>\n",
       "      <td>0</td>\n",
       "      <td>0</td>\n",
       "      <td>1</td>\n",
       "    </tr>\n",
       "    <tr>\n",
       "      <th>3</th>\n",
       "      <td>23046</td>\n",
       "      <td>1</td>\n",
       "      <td>158</td>\n",
       "      <td>90.0</td>\n",
       "      <td>145</td>\n",
       "      <td>85</td>\n",
       "      <td>2</td>\n",
       "      <td>2</td>\n",
       "      <td>0</td>\n",
       "      <td>0</td>\n",
       "      <td>1</td>\n",
       "    </tr>\n",
       "    <tr>\n",
       "      <th>4</th>\n",
       "      <td>16608</td>\n",
       "      <td>1</td>\n",
       "      <td>170</td>\n",
       "      <td>68.0</td>\n",
       "      <td>150</td>\n",
       "      <td>90</td>\n",
       "      <td>3</td>\n",
       "      <td>1</td>\n",
       "      <td>0</td>\n",
       "      <td>0</td>\n",
       "      <td>1</td>\n",
       "    </tr>\n",
       "  </tbody>\n",
       "</table>\n",
       "</div>"
      ],
      "text/plain": [
       "     age  gender  height  weight  ap_hi  ap_lo  cholesterol  gluc  smoke  \\\n",
       "0  20228       1     156    85.0    140     90            3     1      0   \n",
       "1  18857       1     165    64.0    130     70            3     1      0   \n",
       "2  22113       1     157    93.0    130     80            3     1      0   \n",
       "3  23046       1     158    90.0    145     85            2     2      0   \n",
       "4  16608       1     170    68.0    150     90            3     1      0   \n",
       "\n",
       "   alco  active  \n",
       "0     0       1  \n",
       "1     0       0  \n",
       "2     0       1  \n",
       "3     0       1  \n",
       "4     0       1  "
      ]
     },
     "execution_count": 3,
     "metadata": {},
     "output_type": "execute_result"
    }
   ],
   "source": [
    "df_feat = df.iloc[:,2:-1] # eventhing but last column\n",
    "target = df.iloc[:,-1] #last column\n",
    "\n",
    "df_feat.head() # age in days"
   ]
  },
  {
   "cell_type": "code",
   "execution_count": 4,
   "id": "645836a0",
   "metadata": {},
   "outputs": [
    {
     "name": "stdout",
     "output_type": "stream",
     "text": [
      "[[-0.23486806 -0.33946557 -0.64100667 ... -0.02396628  0.\n",
      "   0.26118986]\n",
      " [-0.96390798 -0.33946557  0.62270947 ... -0.02396628  0.\n",
      "  -3.82863252]\n",
      " [ 0.76749536 -0.33946557 -0.50059377 ... -0.02396628  0.\n",
      "   0.26118986]\n",
      " ...\n",
      " [-0.03226834 -0.33946557 -0.21976796 ... -0.02396628  0.\n",
      "   0.26118986]\n",
      " [ 1.02699316 -0.33946557 -0.36018086 ... -0.02396628  0.\n",
      "   0.26118986]\n",
      " [-0.06895963 -0.33946557  1.32477399 ... -0.02396628  0.\n",
      "   0.26118986]]\n"
     ]
    }
   ],
   "source": [
    "from sklearn.preprocessing import StandardScaler\n",
    "# standardize: mean = 0, std = 1\n",
    "scaler = StandardScaler()\n",
    "scaled_features = scaler.fit_transform(df_feat)\n",
    "scaled_features.shape # np array\n",
    "print(scaled_features)"
   ]
  },
  {
   "cell_type": "code",
   "execution_count": 5,
   "id": "5d48cec7",
   "metadata": {},
   "outputs": [],
   "source": [
    "from sklearn.model_selection import train_test_split\n",
    "\n",
    "x_train, x_test, y_train, y_test = train_test_split(scaled_features, target, train_size=0.8)"
   ]
  },
  {
   "cell_type": "code",
   "execution_count": null,
   "id": "3e996acd",
   "metadata": {},
   "outputs": [],
   "source": [
    "from sklearn import svm\n",
    "\n",
    "# Train SVM model with linear kernel\n",
    "# degree\n",
    "\n",
    "\n",
    "for i in range(1,20):\n",
    "    svmModel = svm.SVC(kernel='poly', degree=i)\n",
    "    svmModel.fit(x_train, y_train)\n",
    "    \n",
    "    y_predictions = svmModel.predict(x_test)\n",
    "\n",
    "    print(\"Accuracy:\", metrics.accuracy_score(y_test, y_predictions))"
   ]
  },
  {
   "cell_type": "code",
   "execution_count": null,
   "id": "7e02a80d",
   "metadata": {},
   "outputs": [],
   "source": [
    "# Run on test dataset\n",
    "y_predictions = svmModel.predict(x_test)\n",
    "\n",
    "print(\"Accuracy:\", metrics.accuracy_score(y_test, y_predictions))"
   ]
  },
  {
   "cell_type": "code",
   "execution_count": null,
   "id": "7a6e674a",
   "metadata": {},
   "outputs": [],
   "source": []
  }
 ],
 "metadata": {
  "kernelspec": {
   "display_name": "Python 3",
   "language": "python",
   "name": "python3"
  },
  "language_info": {
   "codemirror_mode": {
    "name": "ipython",
    "version": 3
   },
   "file_extension": ".py",
   "mimetype": "text/x-python",
   "name": "python",
   "nbconvert_exporter": "python",
   "pygments_lexer": "ipython3",
   "version": "3.8.8"
  }
 },
 "nbformat": 4,
 "nbformat_minor": 5
}
