{
  "nbformat": 4,
  "nbformat_minor": 0,
  "metadata": {
    "colab": {
      "name": "knn.ipynb",
      "provenance": [],
      "authorship_tag": "ABX9TyN2B5P8LMbCKWXm1uHAWQnd",
      "include_colab_link": true
    },
    "kernelspec": {
      "name": "python3",
      "display_name": "Python 3"
    },
    "language_info": {
      "name": "python"
    }
  },
  "cells": [
    {
      "cell_type": "markdown",
      "metadata": {
        "id": "view-in-github",
        "colab_type": "text"
      },
      "source": [
        "<a href=\"https://colab.research.google.com/github/bhavrish/CVD-Classifer/blob/main/knn.ipynb\" target=\"_parent\"><img src=\"https://colab.research.google.com/assets/colab-badge.svg\" alt=\"Open In Colab\"/></a>"
      ]
    },
    {
      "cell_type": "code",
      "metadata": {
        "id": "VTIOYj8OCjWT"
      },
      "source": [
        "from sklearn.neighbors import NearestNeighbors\n",
        "from sklearn.model_selection import train_test_split\n",
        "from sklearn.neighbors import KNeighborsClassifier\n",
        "import pandas as pd\n",
        "import matplotlib.pyplot as plt\n"
      ],
      "execution_count": null,
      "outputs": []
    },
    {
      "cell_type": "code",
      "metadata": {
        "colab": {
          "base_uri": "https://localhost:8080/",
          "height": 206
        },
        "id": "ISB7tGxYCsm8",
        "outputId": "22a76301-0944-47fe-bb15-184817d19b68"
      },
      "source": [
        "df = pd.read_csv('Cluster0')\n",
        "df.head()"
      ],
      "execution_count": null,
      "outputs": [
        {
          "output_type": "execute_result",
          "data": {
            "text/html": [
              "<div>\n",
              "<style scoped>\n",
              "    .dataframe tbody tr th:only-of-type {\n",
              "        vertical-align: middle;\n",
              "    }\n",
              "\n",
              "    .dataframe tbody tr th {\n",
              "        vertical-align: top;\n",
              "    }\n",
              "\n",
              "    .dataframe thead th {\n",
              "        text-align: right;\n",
              "    }\n",
              "</style>\n",
              "<table border=\"1\" class=\"dataframe\">\n",
              "  <thead>\n",
              "    <tr style=\"text-align: right;\">\n",
              "      <th></th>\n",
              "      <th>Unnamed: 0</th>\n",
              "      <th>id</th>\n",
              "      <th>age</th>\n",
              "      <th>gender</th>\n",
              "      <th>height</th>\n",
              "      <th>weight</th>\n",
              "      <th>ap_hi</th>\n",
              "      <th>ap_lo</th>\n",
              "      <th>cholesterol</th>\n",
              "      <th>gluc</th>\n",
              "      <th>smoke</th>\n",
              "      <th>alco</th>\n",
              "      <th>active</th>\n",
              "      <th>cardio</th>\n",
              "    </tr>\n",
              "  </thead>\n",
              "  <tbody>\n",
              "    <tr>\n",
              "      <th>0</th>\n",
              "      <td>1</td>\n",
              "      <td>1</td>\n",
              "      <td>20228</td>\n",
              "      <td>1</td>\n",
              "      <td>156</td>\n",
              "      <td>85.0</td>\n",
              "      <td>140</td>\n",
              "      <td>90</td>\n",
              "      <td>3</td>\n",
              "      <td>1</td>\n",
              "      <td>0</td>\n",
              "      <td>0</td>\n",
              "      <td>1</td>\n",
              "      <td>1</td>\n",
              "    </tr>\n",
              "    <tr>\n",
              "      <th>1</th>\n",
              "      <td>2</td>\n",
              "      <td>2</td>\n",
              "      <td>18857</td>\n",
              "      <td>1</td>\n",
              "      <td>165</td>\n",
              "      <td>64.0</td>\n",
              "      <td>130</td>\n",
              "      <td>70</td>\n",
              "      <td>3</td>\n",
              "      <td>1</td>\n",
              "      <td>0</td>\n",
              "      <td>0</td>\n",
              "      <td>0</td>\n",
              "      <td>1</td>\n",
              "    </tr>\n",
              "    <tr>\n",
              "      <th>2</th>\n",
              "      <td>6</td>\n",
              "      <td>9</td>\n",
              "      <td>22113</td>\n",
              "      <td>1</td>\n",
              "      <td>157</td>\n",
              "      <td>93.0</td>\n",
              "      <td>130</td>\n",
              "      <td>80</td>\n",
              "      <td>3</td>\n",
              "      <td>1</td>\n",
              "      <td>0</td>\n",
              "      <td>0</td>\n",
              "      <td>1</td>\n",
              "      <td>0</td>\n",
              "    </tr>\n",
              "    <tr>\n",
              "      <th>3</th>\n",
              "      <td>22</td>\n",
              "      <td>32</td>\n",
              "      <td>23046</td>\n",
              "      <td>1</td>\n",
              "      <td>158</td>\n",
              "      <td>90.0</td>\n",
              "      <td>145</td>\n",
              "      <td>85</td>\n",
              "      <td>2</td>\n",
              "      <td>2</td>\n",
              "      <td>0</td>\n",
              "      <td>0</td>\n",
              "      <td>1</td>\n",
              "      <td>1</td>\n",
              "    </tr>\n",
              "    <tr>\n",
              "      <th>4</th>\n",
              "      <td>24</td>\n",
              "      <td>35</td>\n",
              "      <td>16608</td>\n",
              "      <td>1</td>\n",
              "      <td>170</td>\n",
              "      <td>68.0</td>\n",
              "      <td>150</td>\n",
              "      <td>90</td>\n",
              "      <td>3</td>\n",
              "      <td>1</td>\n",
              "      <td>0</td>\n",
              "      <td>0</td>\n",
              "      <td>1</td>\n",
              "      <td>1</td>\n",
              "    </tr>\n",
              "  </tbody>\n",
              "</table>\n",
              "</div>"
            ],
            "text/plain": [
              "   Unnamed: 0  id    age  gender  height  ...  gluc  smoke  alco  active  cardio\n",
              "0           1   1  20228       1     156  ...     1      0     0       1       1\n",
              "1           2   2  18857       1     165  ...     1      0     0       0       1\n",
              "2           6   9  22113       1     157  ...     1      0     0       1       0\n",
              "3          22  32  23046       1     158  ...     2      0     0       1       1\n",
              "4          24  35  16608       1     170  ...     1      0     0       1       1\n",
              "\n",
              "[5 rows x 14 columns]"
            ]
          },
          "metadata": {},
          "execution_count": 8
        }
      ]
    },
    {
      "cell_type": "code",
      "metadata": {
        "id": "ZfLdVg-AD5pK"
      },
      "source": [
        "df_feat = df.iloc[:,0:-1]"
      ],
      "execution_count": null,
      "outputs": []
    },
    {
      "cell_type": "code",
      "metadata": {
        "id": "nB9g2eOOEKbc"
      },
      "source": [
        "df_targ = df.iloc[:, -1]"
      ],
      "execution_count": null,
      "outputs": []
    },
    {
      "cell_type": "code",
      "metadata": {
        "id": "vEtz6n9JERbV"
      },
      "source": [
        "X_train, X_test, y_train, y_test = train_test_split(df_feat, df_targ, test_size = .33, random_state = 44)"
      ],
      "execution_count": null,
      "outputs": []
    },
    {
      "cell_type": "code",
      "metadata": {
        "colab": {
          "base_uri": "https://localhost:8080/"
        },
        "id": "DfotllmtEtjQ",
        "outputId": "57127849-98a1-4eca-ebcf-38a192393d16"
      },
      "source": [
        "print(X_train, y_test)"
      ],
      "execution_count": null,
      "outputs": [
        {
          "output_type": "stream",
          "name": "stdout",
          "text": [
            "      Unnamed: 0     id    age  gender  ...  gluc  smoke  alco  active\n",
            "275         2644   3725  19484       1  ...     1      0     0       1\n",
            "1132       10956  15678  19817       1  ...     1      0     0       1\n",
            "6340       63825  91125  21311       1  ...     1      0     0       1\n",
            "6138       61713  88101  16035       1  ...     1      0     0       1\n",
            "1848       18562  26507  21911       1  ...     1      0     0       1\n",
            "...          ...    ...    ...     ...  ...   ...    ...   ...     ...\n",
            "571         5523   7855  19692       1  ...     1      0     0       1\n",
            "1197       11665  16668  20558       1  ...     2      0     0       1\n",
            "2801       28123  40208  23241       1  ...     1      0     0       1\n",
            "3491       35214  50308  22688       1  ...     1      0     0       1\n",
            "5908       59408  84822  23421       1  ...     1      0     0       1\n",
            "\n",
            "[4668 rows x 13 columns] 2857    0\n",
            "3224    0\n",
            "3795    1\n",
            "6308    1\n",
            "846     1\n",
            "       ..\n",
            "6196    1\n",
            "4619    1\n",
            "1245    0\n",
            "1365    0\n",
            "151     1\n",
            "Name: cardio, Length: 2300, dtype: int64\n"
          ]
        }
      ]
    },
    {
      "cell_type": "code",
      "metadata": {
        "id": "5fcYCbZ0E4Yu"
      },
      "source": [
        "group = [1, 3, 5, 7, 9, 11, 13, 15, 17,19,21]\n",
        "error = []\n",
        "\n",
        "for i in group:\n",
        "  neigh = KNeighborsClassifier(n_neighbors = i)\n",
        "  neigh.fit(X_train, y_train)  \n",
        "  error.append(neigh.score(X_test, y_test))"
      ],
      "execution_count": null,
      "outputs": []
    },
    {
      "cell_type": "code",
      "metadata": {
        "colab": {
          "base_uri": "https://localhost:8080/",
          "height": 283
        },
        "id": "gxpqD1drHDnZ",
        "outputId": "9a705ab6-d9cd-4354-ceb0-a49bde7eba04"
      },
      "source": [
        "plt.plot(group, error) ## this is accuracy"
      ],
      "execution_count": null,
      "outputs": [
        {
          "output_type": "execute_result",
          "data": {
            "text/plain": [
              "[<matplotlib.lines.Line2D at 0x7f5b779199d0>]"
            ]
          },
          "metadata": {},
          "execution_count": 35
        },
        {
          "output_type": "display_data",
          "data": {
            "image/png": "[encoded data removed]",
            "text/plain": [
              "<Figure size 432x288 with 1 Axes>"
            ]
          },
          "metadata": {
            "needs_background": "light"
          }
        }
      ]
    }
  ]
}