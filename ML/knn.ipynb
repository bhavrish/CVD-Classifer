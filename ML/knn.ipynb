{
  "cells": [
    {
      "cell_type": "markdown",
      "metadata": {
        "id": "view-in-github",
        "colab_type": "text"
      },
      "source": [
        "<a href=\"https://colab.research.google.com/github/bhavrish/CVD-Classifer/blob/main/ML/knn.ipynb\" target=\"_parent\"><img src=\"https://colab.research.google.com/assets/colab-badge.svg\" alt=\"Open In Colab\"/></a>"
      ]
    },
    {
      "cell_type": "code",
      "execution_count": 36,
      "metadata": {
        "id": "VTIOYj8OCjWT"
      },
      "outputs": [],
      "source": [
        "from sklearn.neighbors import NearestNeighbors\n",
        "from sklearn.model_selection import train_test_split\n",
        "from sklearn.neighbors import KNeighborsClassifier\n",
        "import pandas as pd\n",
        "import matplotlib.pyplot as plt\n",
        "import math\n",
        "from sklearn.metrics import classification_report\n",
        "from sklearn import metrics\n",
        "from sklearn.model_selection import cross_validate"
      ]
    },
    {
      "cell_type": "code",
      "execution_count": 37,
      "metadata": {
        "colab": {
          "base_uri": "https://localhost:8080/",
          "height": 206
        },
        "id": "ISB7tGxYCsm8",
        "outputId": "4eab2e94-74d7-4bbf-f35e-c33523ac3e02"
      },
      "outputs": [
        {
          "output_type": "execute_result",
          "data": {
            "text/html": [
              "<div>\n",
              "<style scoped>\n",
              "    .dataframe tbody tr th:only-of-type {\n",
              "        vertical-align: middle;\n",
              "    }\n",
              "\n",
              "    .dataframe tbody tr th {\n",
              "        vertical-align: top;\n",
              "    }\n",
              "\n",
              "    .dataframe thead th {\n",
              "        text-align: right;\n",
              "    }\n",
              "</style>\n",
              "<table border=\"1\" class=\"dataframe\">\n",
              "  <thead>\n",
              "    <tr style=\"text-align: right;\">\n",
              "      <th></th>\n",
              "      <th>Unnamed: 0</th>\n",
              "      <th>id</th>\n",
              "      <th>age</th>\n",
              "      <th>gender</th>\n",
              "      <th>height</th>\n",
              "      <th>weight</th>\n",
              "      <th>ap_hi</th>\n",
              "      <th>ap_lo</th>\n",
              "      <th>cholesterol</th>\n",
              "      <th>gluc</th>\n",
              "      <th>smoke</th>\n",
              "      <th>alco</th>\n",
              "      <th>active</th>\n",
              "      <th>cardio</th>\n",
              "    </tr>\n",
              "  </thead>\n",
              "  <tbody>\n",
              "    <tr>\n",
              "      <th>0</th>\n",
              "      <td>1</td>\n",
              "      <td>1</td>\n",
              "      <td>20228</td>\n",
              "      <td>1</td>\n",
              "      <td>156</td>\n",
              "      <td>85.0</td>\n",
              "      <td>140</td>\n",
              "      <td>90</td>\n",
              "      <td>3</td>\n",
              "      <td>1</td>\n",
              "      <td>0</td>\n",
              "      <td>0</td>\n",
              "      <td>1</td>\n",
              "      <td>1</td>\n",
              "    </tr>\n",
              "    <tr>\n",
              "      <th>1</th>\n",
              "      <td>3</td>\n",
              "      <td>3</td>\n",
              "      <td>17623</td>\n",
              "      <td>2</td>\n",
              "      <td>169</td>\n",
              "      <td>82.0</td>\n",
              "      <td>150</td>\n",
              "      <td>100</td>\n",
              "      <td>1</td>\n",
              "      <td>1</td>\n",
              "      <td>0</td>\n",
              "      <td>0</td>\n",
              "      <td>1</td>\n",
              "      <td>1</td>\n",
              "    </tr>\n",
              "    <tr>\n",
              "      <th>2</th>\n",
              "      <td>6</td>\n",
              "      <td>9</td>\n",
              "      <td>22113</td>\n",
              "      <td>1</td>\n",
              "      <td>157</td>\n",
              "      <td>93.0</td>\n",
              "      <td>130</td>\n",
              "      <td>80</td>\n",
              "      <td>3</td>\n",
              "      <td>1</td>\n",
              "      <td>0</td>\n",
              "      <td>0</td>\n",
              "      <td>1</td>\n",
              "      <td>0</td>\n",
              "    </tr>\n",
              "    <tr>\n",
              "      <th>3</th>\n",
              "      <td>22</td>\n",
              "      <td>32</td>\n",
              "      <td>23046</td>\n",
              "      <td>1</td>\n",
              "      <td>158</td>\n",
              "      <td>90.0</td>\n",
              "      <td>145</td>\n",
              "      <td>85</td>\n",
              "      <td>2</td>\n",
              "      <td>2</td>\n",
              "      <td>0</td>\n",
              "      <td>0</td>\n",
              "      <td>1</td>\n",
              "      <td>1</td>\n",
              "    </tr>\n",
              "    <tr>\n",
              "      <th>4</th>\n",
              "      <td>24</td>\n",
              "      <td>35</td>\n",
              "      <td>16608</td>\n",
              "      <td>1</td>\n",
              "      <td>170</td>\n",
              "      <td>68.0</td>\n",
              "      <td>150</td>\n",
              "      <td>90</td>\n",
              "      <td>3</td>\n",
              "      <td>1</td>\n",
              "      <td>0</td>\n",
              "      <td>0</td>\n",
              "      <td>1</td>\n",
              "      <td>1</td>\n",
              "    </tr>\n",
              "  </tbody>\n",
              "</table>\n",
              "</div>"
            ],
            "text/plain": [
              "   Unnamed: 0  id    age  gender  height  ...  gluc  smoke  alco  active  cardio\n",
              "0           1   1  20228       1     156  ...     1      0     0       1       1\n",
              "1           3   3  17623       2     169  ...     1      0     0       1       1\n",
              "2           6   9  22113       1     157  ...     1      0     0       1       0\n",
              "3          22  32  23046       1     158  ...     2      0     0       1       1\n",
              "4          24  35  16608       1     170  ...     1      0     0       1       1\n",
              "\n",
              "[5 rows x 14 columns]"
            ]
          },
          "metadata": {},
          "execution_count": 37
        }
      ],
      "source": [
        "df = pd.read_csv('./Cluster0')\n",
        "df.head()"
      ]
    },
    {
      "cell_type": "markdown",
      "metadata": {
        "id": "kV_wYQdUOcRv"
      },
      "source": [
        "Lets Do Some Feature Engineering: blood_pressure = ap_hi / ap_lo https://www.mayoclinic.org/diseases-conditions/high-blood-pressure/expert-answers/pulse-pressure/faq-20058189"
      ]
    },
    {
      "cell_type": "code",
      "execution_count": 38,
      "metadata": {
        "id": "svRctgCsPRSn"
      },
      "outputs": [],
      "source": [
        "df['blood_pressure'] = df[\"ap_hi\"] / df[\"ap_lo\"]\n",
        "df.drop([\"ap_hi\", \"ap_lo\"], axis= 1)\n",
        "df = df[df['blood_pressure'] != math.inf]"
      ]
    },
    {
      "cell_type": "code",
      "execution_count": 39,
      "metadata": {
        "colab": {
          "base_uri": "https://localhost:8080/"
        },
        "id": "LnXCBN0sOAFP",
        "outputId": "b0cfd451-25bb-46e3-89a8-5cb814429a98"
      },
      "outputs": [
        {
          "output_type": "stream",
          "name": "stdout",
          "text": [
            "[[-0.05928695 -0.77547563  0.38796378 ...  0.          1.\n",
            "   1.        ]\n",
            " [-1.24011186  1.11866411  0.1909375  ...  0.          1.\n",
            "   1.        ]\n",
            " [ 0.79516793 -0.62977258  0.9133672  ...  0.          1.\n",
            "   0.        ]\n",
            " ...\n",
            " [ 0.32419784  0.53585188  0.05958665 ...  0.          1.\n",
            "   1.        ]\n",
            " [ 1.01637429 -0.48406952  3.0806563  ...  0.          1.\n",
            "   1.        ]\n",
            " [ 0.9393147   0.24444577 -0.46581677 ...  0.          0.\n",
            "   1.        ]]\n"
          ]
        }
      ],
      "source": [
        "from sklearn.compose import ColumnTransformer\n",
        "from sklearn.preprocessing import StandardScaler\n",
        "\n",
        "ct = ColumnTransformer([\n",
        "    ('nonBinaryTransformer', StandardScaler(), ['age', 'height', 'weight', \"blood_pressure\", 'cholesterol', 'gluc'])\n",
        "], remainder='passthrough')\n",
        "\n",
        "scaled_features = ct.fit_transform(df)\n",
        "print(scaled_features)"
      ]
    },
    {
      "cell_type": "code",
      "execution_count": 40,
      "metadata": {
        "id": "ZfLdVg-AD5pK"
      },
      "outputs": [],
      "source": [
        "df_feat = df.drop([\"cardio\", \"Unnamed: 0\", \"id\"], axis = 1)"
      ]
    },
    {
      "cell_type": "code",
      "execution_count": 41,
      "metadata": {
        "colab": {
          "base_uri": "https://localhost:8080/",
          "height": 206
        },
        "id": "l88-EerITxdX",
        "outputId": "3870ed37-a0cd-4b58-badf-fd15f0c49ccd"
      },
      "outputs": [
        {
          "output_type": "execute_result",
          "data": {
            "text/html": [
              "<div>\n",
              "<style scoped>\n",
              "    .dataframe tbody tr th:only-of-type {\n",
              "        vertical-align: middle;\n",
              "    }\n",
              "\n",
              "    .dataframe tbody tr th {\n",
              "        vertical-align: top;\n",
              "    }\n",
              "\n",
              "    .dataframe thead th {\n",
              "        text-align: right;\n",
              "    }\n",
              "</style>\n",
              "<table border=\"1\" class=\"dataframe\">\n",
              "  <thead>\n",
              "    <tr style=\"text-align: right;\">\n",
              "      <th></th>\n",
              "      <th>age</th>\n",
              "      <th>gender</th>\n",
              "      <th>height</th>\n",
              "      <th>weight</th>\n",
              "      <th>ap_hi</th>\n",
              "      <th>ap_lo</th>\n",
              "      <th>cholesterol</th>\n",
              "      <th>gluc</th>\n",
              "      <th>smoke</th>\n",
              "      <th>alco</th>\n",
              "      <th>active</th>\n",
              "      <th>blood_pressure</th>\n",
              "    </tr>\n",
              "  </thead>\n",
              "  <tbody>\n",
              "    <tr>\n",
              "      <th>0</th>\n",
              "      <td>20228</td>\n",
              "      <td>1</td>\n",
              "      <td>156</td>\n",
              "      <td>85.0</td>\n",
              "      <td>140</td>\n",
              "      <td>90</td>\n",
              "      <td>3</td>\n",
              "      <td>1</td>\n",
              "      <td>0</td>\n",
              "      <td>0</td>\n",
              "      <td>1</td>\n",
              "      <td>1.555556</td>\n",
              "    </tr>\n",
              "    <tr>\n",
              "      <th>1</th>\n",
              "      <td>17623</td>\n",
              "      <td>2</td>\n",
              "      <td>169</td>\n",
              "      <td>82.0</td>\n",
              "      <td>150</td>\n",
              "      <td>100</td>\n",
              "      <td>1</td>\n",
              "      <td>1</td>\n",
              "      <td>0</td>\n",
              "      <td>0</td>\n",
              "      <td>1</td>\n",
              "      <td>1.500000</td>\n",
              "    </tr>\n",
              "    <tr>\n",
              "      <th>2</th>\n",
              "      <td>22113</td>\n",
              "      <td>1</td>\n",
              "      <td>157</td>\n",
              "      <td>93.0</td>\n",
              "      <td>130</td>\n",
              "      <td>80</td>\n",
              "      <td>3</td>\n",
              "      <td>1</td>\n",
              "      <td>0</td>\n",
              "      <td>0</td>\n",
              "      <td>1</td>\n",
              "      <td>1.625000</td>\n",
              "    </tr>\n",
              "    <tr>\n",
              "      <th>3</th>\n",
              "      <td>23046</td>\n",
              "      <td>1</td>\n",
              "      <td>158</td>\n",
              "      <td>90.0</td>\n",
              "      <td>145</td>\n",
              "      <td>85</td>\n",
              "      <td>2</td>\n",
              "      <td>2</td>\n",
              "      <td>0</td>\n",
              "      <td>0</td>\n",
              "      <td>1</td>\n",
              "      <td>1.705882</td>\n",
              "    </tr>\n",
              "    <tr>\n",
              "      <th>4</th>\n",
              "      <td>16608</td>\n",
              "      <td>1</td>\n",
              "      <td>170</td>\n",
              "      <td>68.0</td>\n",
              "      <td>150</td>\n",
              "      <td>90</td>\n",
              "      <td>3</td>\n",
              "      <td>1</td>\n",
              "      <td>0</td>\n",
              "      <td>0</td>\n",
              "      <td>1</td>\n",
              "      <td>1.666667</td>\n",
              "    </tr>\n",
              "  </tbody>\n",
              "</table>\n",
              "</div>"
            ],
            "text/plain": [
              "     age  gender  height  weight  ...  smoke  alco  active  blood_pressure\n",
              "0  20228       1     156    85.0  ...      0     0       1        1.555556\n",
              "1  17623       2     169    82.0  ...      0     0       1        1.500000\n",
              "2  22113       1     157    93.0  ...      0     0       1        1.625000\n",
              "3  23046       1     158    90.0  ...      0     0       1        1.705882\n",
              "4  16608       1     170    68.0  ...      0     0       1        1.666667\n",
              "\n",
              "[5 rows x 12 columns]"
            ]
          },
          "metadata": {},
          "execution_count": 41
        }
      ],
      "source": [
        "df_feat.head()"
      ]
    },
    {
      "cell_type": "code",
      "execution_count": 42,
      "metadata": {
        "colab": {
          "base_uri": "https://localhost:8080/"
        },
        "id": "nB9g2eOOEKbc",
        "outputId": "2169669d-a845-4801-f8fe-275543066a26"
      },
      "outputs": [
        {
          "output_type": "execute_result",
          "data": {
            "text/plain": [
              "0        1\n",
              "1        1\n",
              "2        0\n",
              "3        1\n",
              "4        1\n",
              "        ..\n",
              "13411    1\n",
              "13412    1\n",
              "13413    1\n",
              "13414    1\n",
              "13415    1\n",
              "Name: cardio, Length: 13416, dtype: int64"
            ]
          },
          "metadata": {},
          "execution_count": 42
        }
      ],
      "source": [
        "df_targ = df.loc[:, \"cardio\"]\n",
        "df_targ"
      ]
    },
    {
      "cell_type": "code",
      "execution_count": 43,
      "metadata": {
        "id": "vEtz6n9JERbV"
      },
      "outputs": [],
      "source": [
        "X_train, X_test, y_train, y_test = train_test_split(df_feat, df_targ, test_size = .33, random_state = 0)"
      ]
    },
    {
      "cell_type": "code",
      "execution_count": 44,
      "metadata": {
        "colab": {
          "base_uri": "https://localhost:8080/"
        },
        "id": "DfotllmtEtjQ",
        "outputId": "ba01841a-1cbb-4aee-d856-46075257e906"
      },
      "outputs": [
        {
          "output_type": "stream",
          "name": "stdout",
          "text": [
            "         age  gender  height  weight  ...  smoke  alco  active  blood_pressure\n",
            "13271  21967       1     159    80.0  ...      0     0       1        1.750000\n",
            "6643   20957       1     171    79.0  ...      0     0       1        1.555556\n",
            "5991   19851       1     163    99.0  ...      0     0       1        1.750000\n",
            "4351   20418       1     162   100.0  ...      0     0       0        1.444444\n",
            "10467  21321       1     168    79.0  ...      0     0       1        1.750000\n",
            "...      ...     ...     ...     ...  ...    ...   ...     ...             ...\n",
            "13123  20581       1     159    77.0  ...      0     0       0        1.777778\n",
            "3264   22510       1     161    78.0  ...      0     0       1        1.555556\n",
            "9845   15623       1     145    60.0  ...      0     0       1        1.666667\n",
            "10799  23493       1     170    81.0  ...      0     0       1        1.444444\n",
            "2732   16789       1     170    68.0  ...      0     0       1        1.400000\n",
            "\n",
            "[8988 rows x 12 columns] 13271    1\n",
            "6643     1\n",
            "5991     1\n",
            "4351     1\n",
            "10467    1\n",
            "        ..\n",
            "13123    1\n",
            "3264     1\n",
            "9845     1\n",
            "10799    1\n",
            "2732     1\n",
            "Name: cardio, Length: 8988, dtype: int64\n"
          ]
        }
      ],
      "source": [
        "print(X_train, y_train)"
      ]
    },
    {
      "cell_type": "code",
      "execution_count": 45,
      "metadata": {
        "colab": {
          "base_uri": "https://localhost:8080/"
        },
        "id": "5fcYCbZ0E4Yu",
        "outputId": "084dab4c-8ff7-4a6c-e357-f6d5e8f1551c"
      },
      "outputs": [
        {
          "output_type": "stream",
          "name": "stdout",
          "text": [
            "0.7134146341463414\n",
            "0.7678410117434508\n",
            "0.7877145438121048\n",
            "0.7956187895212286\n",
            "0.8012646793134598\n",
            "0.802393857271906\n",
            "0.8048780487804879\n",
            "0.8080397470641373\n",
            "0.8100722673893406\n",
            "0.8107497741644083\n",
            "0.8112014453477868\n",
            "0.8121047877145439\n",
            "0.8121047877145439\n",
            "0.8125564588979223\n",
            "0.8127822944896116\n",
            "0.8125564588979223\n"
          ]
        }
      ],
      "source": [
        "group = [1, 3, 5, 7, 9, 11, 13, 15, 17,19,21, 23, 25, 27, 29, 31]\n",
        "accuracies = []\n",
        "\n",
        "for i in group:\n",
        "    neigh = KNeighborsClassifier(n_neighbors = i, metric= \"manhattan\", weights= \"uniform\")\n",
        "    neigh.fit(X_train, y_train)  \n",
        "    print(neigh.score(X_test, y_test))\n",
        "    accuracies.append(neigh.score(X_test, y_test))\n",
        "  "
      ]
    },
    {
      "cell_type": "code",
      "execution_count": 46,
      "metadata": {
        "colab": {
          "base_uri": "https://localhost:8080/",
          "height": 282
        },
        "id": "gxpqD1drHDnZ",
        "outputId": "75e4fffa-8cf5-42dc-fbbe-f1badce8d184"
      },
      "outputs": [
        {
          "output_type": "execute_result",
          "data": {
            "text/plain": [
              "[<matplotlib.lines.Line2D at 0x7f000a59f490>]"
            ]
          },
          "metadata": {},
          "execution_count": 46
        },
        {
          "output_type": "display_data",
          "data": {
            "image/png": "[encoded data removed]",
            "text/plain": [
              "<Figure size 432x288 with 1 Axes>"
            ]
          },
          "metadata": {
            "needs_background": "light"
          }
        }
      ],
      "source": [
        "plt.plot(group, accuracies)"
      ]
    },
    {
      "cell_type": "code",
      "execution_count": 47,
      "metadata": {
        "id": "yZ-GyJ2oUvbc"
      },
      "outputs": [],
      "source": [
        "from sklearn.model_selection import GridSearchCV\n",
        "grid_params = {\n",
        "    \"n_neighbors\" : [1, 3, 5, 7, 9, 11, 13, 15, 17,19,21, 23, 25, 27, 29, 31],\n",
        "    \"metric\" : [\"euclidean\", \"manhattan\"]\n",
        "}\n"
      ]
    },
    {
      "cell_type": "code",
      "execution_count": 48,
      "metadata": {
        "id": "k9RVSoLiVK4G"
      },
      "outputs": [],
      "source": [
        "gs = GridSearchCV(KNeighborsClassifier(), grid_params, verbose= 1, cv =3, n_jobs= -1)\n"
      ]
    },
    {
      "cell_type": "code",
      "execution_count": 49,
      "metadata": {
        "colab": {
          "base_uri": "https://localhost:8080/"
        },
        "id": "9axu0yTtWA3t",
        "outputId": "1863c4bd-1a57-4631-cabc-ad498fddfe51"
      },
      "outputs": [
        {
          "output_type": "stream",
          "name": "stdout",
          "text": [
            "Fitting 3 folds for each of 32 candidates, totalling 96 fits\n"
          ]
        }
      ],
      "source": [
        "gs_results = gs.fit(X_train, y_train)\n",
        "predict = gs.predict(X_test)"
      ]
    },
    {
      "cell_type": "code",
      "execution_count": 50,
      "metadata": {
        "id": "Dz-ycNgKXVdN"
      },
      "outputs": [],
      "source": [
        "predict = gs.predict(X_test)"
      ]
    },
    {
      "cell_type": "code",
      "execution_count": 51,
      "metadata": {
        "colab": {
          "base_uri": "https://localhost:8080/"
        },
        "id": "TZfZMf3-Wfv0",
        "outputId": "7be351cd-ecab-4b9b-fc2a-90eb67ab2cae"
      },
      "outputs": [
        {
          "output_type": "execute_result",
          "data": {
            "text/plain": [
              "{'metric': 'manhattan', 'n_neighbors': 31}"
            ]
          },
          "metadata": {},
          "execution_count": 51
        }
      ],
      "source": [
        "gs.best_params_"
      ]
    },
    {
      "cell_type": "code",
      "execution_count": 52,
      "metadata": {
        "colab": {
          "base_uri": "https://localhost:8080/"
        },
        "id": "FayT6e7vXJSP",
        "outputId": "36dc492a-c34b-4cdf-fd01-c47c65687da9"
      },
      "outputs": [
        {
          "output_type": "stream",
          "name": "stdout",
          "text": [
            "Accuracy: 0.8125564588979223\n"
          ]
        }
      ],
      "source": [
        "print(\"Accuracy:\", metrics.accuracy_score(y_test, predict))\n",
        "#print(classification_report(y_test, grid_predictions))"
      ]
    },
    {
      "cell_type": "markdown",
      "metadata": {
        "id": "5vgsX6CE2sf7"
      },
      "source": [
        "Try cross validation!"
      ]
    },
    {
      "cell_type": "code",
      "execution_count": 53,
      "metadata": {
        "colab": {
          "base_uri": "https://localhost:8080/"
        },
        "id": "zNu5WCCv2dgY",
        "outputId": "065a7738-0bdd-4807-d20a-440988812a12"
      },
      "outputs": [
        {
          "output_type": "execute_result",
          "data": {
            "text/plain": [
              "{'estimator': [KNeighborsClassifier(metric='manhattan', n_neighbors=29),\n",
              "  KNeighborsClassifier(metric='manhattan', n_neighbors=29),\n",
              "  KNeighborsClassifier(metric='manhattan', n_neighbors=29),\n",
              "  KNeighborsClassifier(metric='manhattan', n_neighbors=29),\n",
              "  KNeighborsClassifier(metric='manhattan', n_neighbors=29)],\n",
              " 'fit_time': array([0.03300381, 0.0229733 , 0.01971745, 0.02097034, 0.02042198]),\n",
              " 'score_time': array([0.12982178, 0.13418818, 0.11851859, 0.13858604, 0.11764669]),\n",
              " 'test_score': array([0.81110283, 0.81103243, 0.81140514, 0.81103243, 0.81140514]),\n",
              " 'train_score': array([0.81149832, 0.81160906, 0.81132954, 0.81123637, 0.81123637])}"
            ]
          },
          "metadata": {},
          "execution_count": 53
        }
      ],
      "source": [
        "kn = KNeighborsClassifier(n_neighbors=29, metric= \"manhattan\")\n",
        "scores = cross_validate(kn, df_feat, df_targ, cv = 5, return_train_score= True, return_estimator= True)\n",
        "scores"
      ]
    },
    {
      "cell_type": "markdown",
      "metadata": {
        "id": "YYUS9NsS6hvB"
      },
      "source": [
        "Cross Validation on another cluster"
      ]
    },
    {
      "cell_type": "code",
      "execution_count": 54,
      "metadata": {
        "colab": {
          "base_uri": "https://localhost:8080/",
          "height": 206
        },
        "id": "zi2Ibig_4qqh",
        "outputId": "a229ed67-478f-4179-da0b-5080c83e1ba1"
      },
      "outputs": [
        {
          "output_type": "execute_result",
          "data": {
            "text/html": [
              "<div>\n",
              "<style scoped>\n",
              "    .dataframe tbody tr th:only-of-type {\n",
              "        vertical-align: middle;\n",
              "    }\n",
              "\n",
              "    .dataframe tbody tr th {\n",
              "        vertical-align: top;\n",
              "    }\n",
              "\n",
              "    .dataframe thead th {\n",
              "        text-align: right;\n",
              "    }\n",
              "</style>\n",
              "<table border=\"1\" class=\"dataframe\">\n",
              "  <thead>\n",
              "    <tr style=\"text-align: right;\">\n",
              "      <th></th>\n",
              "      <th>Unnamed: 0</th>\n",
              "      <th>id</th>\n",
              "      <th>age</th>\n",
              "      <th>gender</th>\n",
              "      <th>height</th>\n",
              "      <th>weight</th>\n",
              "      <th>ap_hi</th>\n",
              "      <th>ap_lo</th>\n",
              "      <th>cholesterol</th>\n",
              "      <th>gluc</th>\n",
              "      <th>smoke</th>\n",
              "      <th>alco</th>\n",
              "      <th>active</th>\n",
              "      <th>cardio</th>\n",
              "    </tr>\n",
              "  </thead>\n",
              "  <tbody>\n",
              "    <tr>\n",
              "      <th>0</th>\n",
              "      <td>5</td>\n",
              "      <td>8</td>\n",
              "      <td>21914</td>\n",
              "      <td>1</td>\n",
              "      <td>151</td>\n",
              "      <td>67.0</td>\n",
              "      <td>120</td>\n",
              "      <td>80</td>\n",
              "      <td>2</td>\n",
              "      <td>2</td>\n",
              "      <td>0</td>\n",
              "      <td>0</td>\n",
              "      <td>0</td>\n",
              "      <td>0</td>\n",
              "    </tr>\n",
              "    <tr>\n",
              "      <th>1</th>\n",
              "      <td>7</td>\n",
              "      <td>12</td>\n",
              "      <td>22584</td>\n",
              "      <td>2</td>\n",
              "      <td>178</td>\n",
              "      <td>95.0</td>\n",
              "      <td>130</td>\n",
              "      <td>90</td>\n",
              "      <td>3</td>\n",
              "      <td>3</td>\n",
              "      <td>0</td>\n",
              "      <td>0</td>\n",
              "      <td>1</td>\n",
              "      <td>1</td>\n",
              "    </tr>\n",
              "    <tr>\n",
              "      <th>2</th>\n",
              "      <td>17</td>\n",
              "      <td>27</td>\n",
              "      <td>16747</td>\n",
              "      <td>1</td>\n",
              "      <td>158</td>\n",
              "      <td>52.0</td>\n",
              "      <td>110</td>\n",
              "      <td>70</td>\n",
              "      <td>1</td>\n",
              "      <td>3</td>\n",
              "      <td>0</td>\n",
              "      <td>0</td>\n",
              "      <td>1</td>\n",
              "      <td>0</td>\n",
              "    </tr>\n",
              "    <tr>\n",
              "      <th>3</th>\n",
              "      <td>29</td>\n",
              "      <td>40</td>\n",
              "      <td>21057</td>\n",
              "      <td>2</td>\n",
              "      <td>169</td>\n",
              "      <td>74.0</td>\n",
              "      <td>130</td>\n",
              "      <td>70</td>\n",
              "      <td>1</td>\n",
              "      <td>3</td>\n",
              "      <td>0</td>\n",
              "      <td>0</td>\n",
              "      <td>0</td>\n",
              "      <td>0</td>\n",
              "    </tr>\n",
              "    <tr>\n",
              "      <th>4</th>\n",
              "      <td>53</td>\n",
              "      <td>68</td>\n",
              "      <td>14507</td>\n",
              "      <td>1</td>\n",
              "      <td>165</td>\n",
              "      <td>77.0</td>\n",
              "      <td>135</td>\n",
              "      <td>90</td>\n",
              "      <td>3</td>\n",
              "      <td>3</td>\n",
              "      <td>0</td>\n",
              "      <td>0</td>\n",
              "      <td>1</td>\n",
              "      <td>1</td>\n",
              "    </tr>\n",
              "  </tbody>\n",
              "</table>\n",
              "</div>"
            ],
            "text/plain": [
              "   Unnamed: 0  id    age  gender  height  ...  gluc  smoke  alco  active  cardio\n",
              "0           5   8  21914       1     151  ...     2      0     0       0       0\n",
              "1           7  12  22584       2     178  ...     3      0     0       1       1\n",
              "2          17  27  16747       1     158  ...     3      0     0       1       0\n",
              "3          29  40  21057       2     169  ...     3      0     0       0       0\n",
              "4          53  68  14507       1     165  ...     3      0     0       1       1\n",
              "\n",
              "[5 rows x 14 columns]"
            ]
          },
          "metadata": {},
          "execution_count": 54
        }
      ],
      "source": [
        "df1 = pd.read_csv(\"./Cluster1\")\n",
        "df1.head()"
      ]
    },
    {
      "cell_type": "code",
      "execution_count": 55,
      "metadata": {
        "colab": {
          "base_uri": "https://localhost:8080/",
          "height": 206
        },
        "id": "51gIcLYc4_S_",
        "outputId": "03148a0a-8607-4aa6-da43-cffe016fbbef"
      },
      "outputs": [
        {
          "output_type": "execute_result",
          "data": {
            "text/html": [
              "<div>\n",
              "<style scoped>\n",
              "    .dataframe tbody tr th:only-of-type {\n",
              "        vertical-align: middle;\n",
              "    }\n",
              "\n",
              "    .dataframe tbody tr th {\n",
              "        vertical-align: top;\n",
              "    }\n",
              "\n",
              "    .dataframe thead th {\n",
              "        text-align: right;\n",
              "    }\n",
              "</style>\n",
              "<table border=\"1\" class=\"dataframe\">\n",
              "  <thead>\n",
              "    <tr style=\"text-align: right;\">\n",
              "      <th></th>\n",
              "      <th>Unnamed: 0</th>\n",
              "      <th>id</th>\n",
              "      <th>age</th>\n",
              "      <th>gender</th>\n",
              "      <th>height</th>\n",
              "      <th>weight</th>\n",
              "      <th>ap_hi</th>\n",
              "      <th>ap_lo</th>\n",
              "      <th>cholesterol</th>\n",
              "      <th>gluc</th>\n",
              "      <th>smoke</th>\n",
              "      <th>alco</th>\n",
              "      <th>active</th>\n",
              "      <th>cardio</th>\n",
              "      <th>blood_pressure</th>\n",
              "    </tr>\n",
              "  </thead>\n",
              "  <tbody>\n",
              "    <tr>\n",
              "      <th>0</th>\n",
              "      <td>5</td>\n",
              "      <td>8</td>\n",
              "      <td>21914</td>\n",
              "      <td>1</td>\n",
              "      <td>151</td>\n",
              "      <td>67.0</td>\n",
              "      <td>120</td>\n",
              "      <td>80</td>\n",
              "      <td>2</td>\n",
              "      <td>2</td>\n",
              "      <td>0</td>\n",
              "      <td>0</td>\n",
              "      <td>0</td>\n",
              "      <td>0</td>\n",
              "      <td>1.500000</td>\n",
              "    </tr>\n",
              "    <tr>\n",
              "      <th>1</th>\n",
              "      <td>7</td>\n",
              "      <td>12</td>\n",
              "      <td>22584</td>\n",
              "      <td>2</td>\n",
              "      <td>178</td>\n",
              "      <td>95.0</td>\n",
              "      <td>130</td>\n",
              "      <td>90</td>\n",
              "      <td>3</td>\n",
              "      <td>3</td>\n",
              "      <td>0</td>\n",
              "      <td>0</td>\n",
              "      <td>1</td>\n",
              "      <td>1</td>\n",
              "      <td>1.444444</td>\n",
              "    </tr>\n",
              "    <tr>\n",
              "      <th>2</th>\n",
              "      <td>17</td>\n",
              "      <td>27</td>\n",
              "      <td>16747</td>\n",
              "      <td>1</td>\n",
              "      <td>158</td>\n",
              "      <td>52.0</td>\n",
              "      <td>110</td>\n",
              "      <td>70</td>\n",
              "      <td>1</td>\n",
              "      <td>3</td>\n",
              "      <td>0</td>\n",
              "      <td>0</td>\n",
              "      <td>1</td>\n",
              "      <td>0</td>\n",
              "      <td>1.571429</td>\n",
              "    </tr>\n",
              "    <tr>\n",
              "      <th>3</th>\n",
              "      <td>29</td>\n",
              "      <td>40</td>\n",
              "      <td>21057</td>\n",
              "      <td>2</td>\n",
              "      <td>169</td>\n",
              "      <td>74.0</td>\n",
              "      <td>130</td>\n",
              "      <td>70</td>\n",
              "      <td>1</td>\n",
              "      <td>3</td>\n",
              "      <td>0</td>\n",
              "      <td>0</td>\n",
              "      <td>0</td>\n",
              "      <td>0</td>\n",
              "      <td>1.857143</td>\n",
              "    </tr>\n",
              "    <tr>\n",
              "      <th>4</th>\n",
              "      <td>53</td>\n",
              "      <td>68</td>\n",
              "      <td>14507</td>\n",
              "      <td>1</td>\n",
              "      <td>165</td>\n",
              "      <td>77.0</td>\n",
              "      <td>135</td>\n",
              "      <td>90</td>\n",
              "      <td>3</td>\n",
              "      <td>3</td>\n",
              "      <td>0</td>\n",
              "      <td>0</td>\n",
              "      <td>1</td>\n",
              "      <td>1</td>\n",
              "      <td>1.500000</td>\n",
              "    </tr>\n",
              "  </tbody>\n",
              "</table>\n",
              "</div>"
            ],
            "text/plain": [
              "   Unnamed: 0  id    age  gender  ...  alco  active  cardio  blood_pressure\n",
              "0           5   8  21914       1  ...     0       0       0        1.500000\n",
              "1           7  12  22584       2  ...     0       1       1        1.444444\n",
              "2          17  27  16747       1  ...     0       1       0        1.571429\n",
              "3          29  40  21057       2  ...     0       0       0        1.857143\n",
              "4          53  68  14507       1  ...     0       1       1        1.500000\n",
              "\n",
              "[5 rows x 15 columns]"
            ]
          },
          "metadata": {},
          "execution_count": 55
        }
      ],
      "source": [
        "df1['blood_pressure'] = df1[\"ap_hi\"] / df1[\"ap_lo\"]\n",
        "df1.drop([\"ap_hi\", \"ap_lo\"], axis= 1)\n",
        "df1 = df1[df1['blood_pressure'] != math.inf]\n",
        "df1.head()"
      ]
    },
    {
      "cell_type": "code",
      "execution_count": 56,
      "metadata": {
        "colab": {
          "base_uri": "https://localhost:8080/"
        },
        "id": "XX_S5Nc_5NSd",
        "outputId": "46c71c7e-c734-4093-b600-e32a9052c1cb"
      },
      "outputs": [
        {
          "output_type": "execute_result",
          "data": {
            "text/plain": [
              "0    0\n",
              "1    1\n",
              "2    0\n",
              "3    0\n",
              "4    1\n",
              "Name: cardio, dtype: int64"
            ]
          },
          "metadata": {},
          "execution_count": 56
        }
      ],
      "source": [
        "df1_targ = df1.loc[:, \"cardio\"]\n",
        "df1_targ.head()"
      ]
    },
    {
      "cell_type": "code",
      "execution_count": 57,
      "metadata": {
        "colab": {
          "base_uri": "https://localhost:8080/",
          "height": 206
        },
        "id": "zs3-DjM_44rJ",
        "outputId": "4f8ca436-b59f-4d45-9167-5cbcc1111165"
      },
      "outputs": [
        {
          "output_type": "execute_result",
          "data": {
            "text/html": [
              "<div>\n",
              "<style scoped>\n",
              "    .dataframe tbody tr th:only-of-type {\n",
              "        vertical-align: middle;\n",
              "    }\n",
              "\n",
              "    .dataframe tbody tr th {\n",
              "        vertical-align: top;\n",
              "    }\n",
              "\n",
              "    .dataframe thead th {\n",
              "        text-align: right;\n",
              "    }\n",
              "</style>\n",
              "<table border=\"1\" class=\"dataframe\">\n",
              "  <thead>\n",
              "    <tr style=\"text-align: right;\">\n",
              "      <th></th>\n",
              "      <th>Unnamed: 0</th>\n",
              "      <th>id</th>\n",
              "      <th>age</th>\n",
              "      <th>gender</th>\n",
              "      <th>height</th>\n",
              "      <th>weight</th>\n",
              "      <th>ap_hi</th>\n",
              "      <th>ap_lo</th>\n",
              "      <th>cholesterol</th>\n",
              "      <th>gluc</th>\n",
              "      <th>smoke</th>\n",
              "      <th>alco</th>\n",
              "      <th>active</th>\n",
              "      <th>blood_pressure</th>\n",
              "    </tr>\n",
              "  </thead>\n",
              "  <tbody>\n",
              "    <tr>\n",
              "      <th>0</th>\n",
              "      <td>5</td>\n",
              "      <td>8</td>\n",
              "      <td>21914</td>\n",
              "      <td>1</td>\n",
              "      <td>151</td>\n",
              "      <td>67.0</td>\n",
              "      <td>120</td>\n",
              "      <td>80</td>\n",
              "      <td>2</td>\n",
              "      <td>2</td>\n",
              "      <td>0</td>\n",
              "      <td>0</td>\n",
              "      <td>0</td>\n",
              "      <td>1.500000</td>\n",
              "    </tr>\n",
              "    <tr>\n",
              "      <th>1</th>\n",
              "      <td>7</td>\n",
              "      <td>12</td>\n",
              "      <td>22584</td>\n",
              "      <td>2</td>\n",
              "      <td>178</td>\n",
              "      <td>95.0</td>\n",
              "      <td>130</td>\n",
              "      <td>90</td>\n",
              "      <td>3</td>\n",
              "      <td>3</td>\n",
              "      <td>0</td>\n",
              "      <td>0</td>\n",
              "      <td>1</td>\n",
              "      <td>1.444444</td>\n",
              "    </tr>\n",
              "    <tr>\n",
              "      <th>2</th>\n",
              "      <td>17</td>\n",
              "      <td>27</td>\n",
              "      <td>16747</td>\n",
              "      <td>1</td>\n",
              "      <td>158</td>\n",
              "      <td>52.0</td>\n",
              "      <td>110</td>\n",
              "      <td>70</td>\n",
              "      <td>1</td>\n",
              "      <td>3</td>\n",
              "      <td>0</td>\n",
              "      <td>0</td>\n",
              "      <td>1</td>\n",
              "      <td>1.571429</td>\n",
              "    </tr>\n",
              "    <tr>\n",
              "      <th>3</th>\n",
              "      <td>29</td>\n",
              "      <td>40</td>\n",
              "      <td>21057</td>\n",
              "      <td>2</td>\n",
              "      <td>169</td>\n",
              "      <td>74.0</td>\n",
              "      <td>130</td>\n",
              "      <td>70</td>\n",
              "      <td>1</td>\n",
              "      <td>3</td>\n",
              "      <td>0</td>\n",
              "      <td>0</td>\n",
              "      <td>0</td>\n",
              "      <td>1.857143</td>\n",
              "    </tr>\n",
              "    <tr>\n",
              "      <th>4</th>\n",
              "      <td>53</td>\n",
              "      <td>68</td>\n",
              "      <td>14507</td>\n",
              "      <td>1</td>\n",
              "      <td>165</td>\n",
              "      <td>77.0</td>\n",
              "      <td>135</td>\n",
              "      <td>90</td>\n",
              "      <td>3</td>\n",
              "      <td>3</td>\n",
              "      <td>0</td>\n",
              "      <td>0</td>\n",
              "      <td>1</td>\n",
              "      <td>1.500000</td>\n",
              "    </tr>\n",
              "  </tbody>\n",
              "</table>\n",
              "</div>"
            ],
            "text/plain": [
              "   Unnamed: 0  id    age  gender  ...  smoke  alco  active  blood_pressure\n",
              "0           5   8  21914       1  ...      0     0       0        1.500000\n",
              "1           7  12  22584       2  ...      0     0       1        1.444444\n",
              "2          17  27  16747       1  ...      0     0       1        1.571429\n",
              "3          29  40  21057       2  ...      0     0       0        1.857143\n",
              "4          53  68  14507       1  ...      0     0       1        1.500000\n",
              "\n",
              "[5 rows x 14 columns]"
            ]
          },
          "metadata": {},
          "execution_count": 57
        }
      ],
      "source": [
        "df1_feat = df1.drop(\"cardio\", axis = 1)\n",
        "df1_feat.head()"
      ]
    },
    {
      "cell_type": "code",
      "execution_count": 58,
      "metadata": {
        "colab": {
          "base_uri": "https://localhost:8080/"
        },
        "id": "Pjc_Lrrc9DCz",
        "outputId": "b6ea910e-a70b-4ea0-9db9-4d515d2fd69e"
      },
      "outputs": [
        {
          "output_type": "execute_result",
          "data": {
            "text/plain": [
              "{'estimator': [KNeighborsClassifier(metric='manhattan', n_neighbors=29),\n",
              "  KNeighborsClassifier(metric='manhattan', n_neighbors=29),\n",
              "  KNeighborsClassifier(metric='manhattan', n_neighbors=29),\n",
              "  KNeighborsClassifier(metric='manhattan', n_neighbors=29),\n",
              "  KNeighborsClassifier(metric='manhattan', n_neighbors=29)],\n",
              " 'fit_time': array([0.01419067, 0.01156902, 0.01022172, 0.01010895, 0.00992012]),\n",
              " 'score_time': array([0.04784155, 0.05923533, 0.05048084, 0.05428624, 0.04789495]),\n",
              " 'test_score': array([0.6092437 , 0.52773109, 0.51680672, 0.54499579, 0.62489487]),\n",
              " 'train_score': array([0.64417823, 0.64459857, 0.65279529, 0.64719479, 0.6480353 ])}"
            ]
          },
          "metadata": {},
          "execution_count": 58
        }
      ],
      "source": [
        "kn = KNeighborsClassifier(n_neighbors=29, metric= \"manhattan\")\n",
        "scores = cross_validate(kn, df1_feat, df1_targ, cv = 5, return_train_score= True, return_estimator= True)\n",
        "scores"
      ]
    },
    {
      "cell_type": "code",
      "execution_count": 59,
      "metadata": {
        "colab": {
          "base_uri": "https://localhost:8080/"
        },
        "id": "YCFlpJ3g5Yux",
        "outputId": "ce707ba8-b644-4de3-86ac-05a37cc901d5"
      },
      "outputs": [
        {
          "output_type": "execute_result",
          "data": {
            "text/plain": [
              "{'estimator': [KNeighborsClassifier(metric='manhattan', n_neighbors=29),\n",
              "  KNeighborsClassifier(metric='manhattan', n_neighbors=29),\n",
              "  KNeighborsClassifier(metric='manhattan', n_neighbors=29),\n",
              "  KNeighborsClassifier(metric='manhattan', n_neighbors=29),\n",
              "  KNeighborsClassifier(metric='manhattan', n_neighbors=29)],\n",
              " 'fit_time': array([0.01252866, 0.01025701, 0.00987148, 0.00994396, 0.01023769]),\n",
              " 'score_time': array([0.05208898, 0.05133295, 0.0509541 , 0.06559539, 0.05982614]),\n",
              " 'test_score': array([0.74094708, 0.61294766, 0.59132907, 0.63957362, 0.76915114]),\n",
              " 'train_score': array([0.7650895 , 0.76477952, 0.76869224, 0.76683794, 0.76655052])}"
            ]
          },
          "metadata": {},
          "execution_count": 59
        }
      ],
      "source": [
        "kn = KNeighborsClassifier(n_neighbors=29, metric= \"manhattan\")\n",
        "scores = cross_validate(kn, df1_feat, df1_targ, cv = 5, scoring = \"f1\", return_train_score= True, return_estimator= True)\n",
        "scores"
      ]
    },
    {
      "cell_type": "markdown",
      "metadata": {
        "id": "AcTK32zaAFuJ"
      },
      "source": [
        "Find Accuracy for all clusters"
      ]
    },
    {
      "cell_type": "code",
      "execution_count": 60,
      "metadata": {
        "colab": {
          "base_uri": "https://localhost:8080/"
        },
        "id": "hziThlprDwNy",
        "outputId": "952d54ea-150e-4137-824d-1155da2817ee"
      },
      "outputs": [
        {
          "output_type": "execute_result",
          "data": {
            "text/plain": [
              "{'metric': ['euclidean', 'manhattan'],\n",
              " 'n_neighbors': [1, 3, 5, 7, 9, 11, 13, 15, 17, 19, 21, 23, 25, 27, 29, 31]}"
            ]
          },
          "metadata": {},
          "execution_count": 60
        }
      ],
      "source": [
        "grid_params"
      ]
    },
    {
      "cell_type": "code",
      "execution_count": 61,
      "metadata": {
        "colab": {
          "base_uri": "https://localhost:8080/"
        },
        "id": "_cZuHpckDALT",
        "outputId": "06115791-4100-4d6f-a0b0-7afc8ed88c8f"
      },
      "outputs": [
        {
          "output_type": "stream",
          "name": "stdout",
          "text": [
            "Fitting 3 folds for each of 32 candidates, totalling 96 fits\n"
          ]
        },
        {
          "output_type": "execute_result",
          "data": {
            "text/plain": [
              "{'metric': 'manhattan', 'n_neighbors': 31}"
            ]
          },
          "metadata": {},
          "execution_count": 61
        }
      ],
      "source": [
        "gs = GridSearchCV(KNeighborsClassifier(), grid_params, verbose= 1, cv =3, n_jobs= -1)\n",
        "gs.fit(X_train, y_train)\n",
        "gs.best_params_"
      ]
    },
    {
      "cell_type": "code",
      "execution_count": 63,
      "metadata": {
        "colab": {
          "base_uri": "https://localhost:8080/"
        },
        "id": "AcXPG2Nd-4N-",
        "outputId": "453ef9d4-772e-42f0-af5a-4be2f876eff2"
      },
      "outputs": [
        {
          "output_type": "stream",
          "name": "stdout",
          "text": [
            "Fitting 3 folds for each of 32 candidates, totalling 96 fits\n",
            "Fitting 3 folds for each of 32 candidates, totalling 96 fits\n",
            "Fitting 3 folds for each of 32 candidates, totalling 96 fits\n",
            "Fitting 3 folds for each of 32 candidates, totalling 96 fits\n",
            "Fitting 3 folds for each of 32 candidates, totalling 96 fits\n",
            "Fitting 3 folds for each of 32 candidates, totalling 96 fits\n"
          ]
        }
      ],
      "source": [
        "Clusters = [\"Cluster0\", \"Cluster1\", \"Cluster2\", \"Cluster3\", \"Cluster4\", \"Cluster5\"]\n",
        "knx = KNeighborsClassifier(n_neighbors=29, metric= \"manhattan\")\n",
        "accuracyDict = {}\n",
        "numEstimatorsDict = {}\n",
        "\n",
        "for clust in Clusters:\n",
        "    # Preprocessing\n",
        "    path_k = \"./\" + clust\n",
        "    df = pd.read_csv(path_k, delimiter=',')\n",
        "    df['blood_pressure'] = df[\"ap_hi\"] / df[\"ap_lo\"]\n",
        "    df.drop([\"ap_hi\", \"ap_lo\"], axis= 1)\n",
        "    df = df[df['blood_pressure'] != math.inf]\n",
        "    df_targ = df.loc[:, \"cardio\"]\n",
        "    df_feat = df.drop(\"cardio\", axis = 1)\n",
        "    \n",
        "    # Train model\n",
        "    X_train, X_test, y_train, y_test = train_test_split(df_feat, df_targ, test_size = .33, random_state = 0)\n",
        "    gs = GridSearchCV(knx, grid_params, verbose= 1, cv =3, n_jobs= -1)\n",
        "    gs.fit(X_train, y_train)\n",
        "    knx = KNeighborsClassifier(n_neighbors= gs.best_params_['n_neighbors'], metric= gs.best_params_['metric'])\n",
        "    knx.fit(X_train, y_train)\n",
        "    \n",
        "    # Store accuracies\n",
        "    y_pred = knx.predict(X_test)\n",
        "    accuracyDict[clust] = metrics.accuracy_score(y_test, y_pred)\n",
        "\n",
        "    # Store best # of estimtators\n",
        "    numEstimatorsDict[clust] = gs.best_params_"
      ]
    },
    {
      "cell_type": "code",
      "execution_count": 64,
      "metadata": {
        "colab": {
          "base_uri": "https://localhost:8080/"
        },
        "id": "FFfhGBY1AhCw",
        "outputId": "2722aa5b-6d00-4470-80ba-288eca15f577"
      },
      "outputs": [
        {
          "output_type": "stream",
          "name": "stdout",
          "text": [
            "{'Cluster0': 0.8125564588979223, 'Cluster1': 0.60825267447784, 'Cluster2': 0.5347280334728034, 'Cluster3': 0.5174721189591078, 'Cluster4': 0.5765525722484116, 'Cluster5': 0.6701897942948062}\n",
            "{'Cluster0': {'metric': 'euclidean', 'n_neighbors': 23}, 'Cluster1': {'metric': 'manhattan', 'n_neighbors': 27}, 'Cluster2': {'metric': 'euclidean', 'n_neighbors': 23}, 'Cluster3': {'metric': 'euclidean', 'n_neighbors': 19}, 'Cluster4': {'metric': 'manhattan', 'n_neighbors': 29}, 'Cluster5': {'metric': 'manhattan', 'n_neighbors': 31}}\n"
          ]
        }
      ],
      "source": [
        "print(accuracyDict)\n",
        "print(numEstimatorsDict)"
      ]
    },
    {
      "cell_type": "code",
      "execution_count": null,
      "metadata": {
        "id": "GmojQZrYmjq6"
      },
      "outputs": [],
      "source": [
        ""
      ]
    }
  ],
  "metadata": {
    "colab": {
      "name": "knn.ipynb",
      "provenance": [],
      "include_colab_link": true
    },
    "kernelspec": {
      "display_name": "Python 3",
      "language": "python",
      "name": "python3"
    },
    "language_info": {
      "codemirror_mode": {
        "name": "ipython",
        "version": 3
      },
      "file_extension": ".py",
      "mimetype": "text/x-python",
      "name": "python",
      "nbconvert_exporter": "python",
      "pygments_lexer": "ipython3",
      "version": "3.8.8"
    }
  },
  "nbformat": 4,
  "nbformat_minor": 0
}