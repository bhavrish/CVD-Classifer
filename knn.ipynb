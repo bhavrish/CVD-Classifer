{
  "nbformat": 4,
  "nbformat_minor": 0,
  "metadata": {
    "colab": {
      "name": "knn.ipynb",
      "provenance": [],
      "authorship_tag": "ABX9TyN8yfisAoJWFFEHrfu0eExT",
      "include_colab_link": true
    },
    "kernelspec": {
      "name": "python3",
      "display_name": "Python 3"
    },
    "language_info": {
      "name": "python"
    }
  },
  "cells": [
    {
      "cell_type": "markdown",
      "metadata": {
        "id": "view-in-github",
        "colab_type": "text"
      },
      "source": [
        "<a href=\"https://colab.research.google.com/github/bhavrish/CVD-Classifer/blob/main/knn.ipynb\" target=\"_parent\"><img src=\"https://colab.research.google.com/assets/colab-badge.svg\" alt=\"Open In Colab\"/></a>"
      ]
    },
    {
      "cell_type": "code",
      "metadata": {
        "id": "VTIOYj8OCjWT"
      },
      "source": [
        "from sklearn.neighbors import NearestNeighbors\n",
        "from sklearn.model_selection import train_test_split\n",
        "from sklearn.neighbors import KNeighborsClassifier\n",
        "import pandas as pd\n",
        "import matplotlib.pyplot as plt\n",
        "import math\n",
        "from sklearn.metrics import classification_report\n",
        "from sklearn import metrics\n",
        "from sklearn.model_selection import cross_validate"
      ],
      "execution_count": 23,
      "outputs": []
    },
    {
      "cell_type": "code",
      "metadata": {
        "colab": {
          "base_uri": "https://localhost:8080/",
          "height": 204
        },
        "id": "ISB7tGxYCsm8",
        "outputId": "69895965-79c5-465d-d1c9-c864dc832c0f"
      },
      "source": [
        "df = pd.read_csv('Cluster0')\n",
        "df.head()"
      ],
      "execution_count": 2,
      "outputs": [
        {
          "output_type": "execute_result",
          "data": {
            "text/html": [
              "<div>\n",
              "<style scoped>\n",
              "    .dataframe tbody tr th:only-of-type {\n",
              "        vertical-align: middle;\n",
              "    }\n",
              "\n",
              "    .dataframe tbody tr th {\n",
              "        vertical-align: top;\n",
              "    }\n",
              "\n",
              "    .dataframe thead th {\n",
              "        text-align: right;\n",
              "    }\n",
              "</style>\n",
              "<table border=\"1\" class=\"dataframe\">\n",
              "  <thead>\n",
              "    <tr style=\"text-align: right;\">\n",
              "      <th></th>\n",
              "      <th>Unnamed: 0</th>\n",
              "      <th>id</th>\n",
              "      <th>age</th>\n",
              "      <th>gender</th>\n",
              "      <th>height</th>\n",
              "      <th>weight</th>\n",
              "      <th>ap_hi</th>\n",
              "      <th>ap_lo</th>\n",
              "      <th>cholesterol</th>\n",
              "      <th>gluc</th>\n",
              "      <th>smoke</th>\n",
              "      <th>alco</th>\n",
              "      <th>active</th>\n",
              "      <th>cardio</th>\n",
              "    </tr>\n",
              "  </thead>\n",
              "  <tbody>\n",
              "    <tr>\n",
              "      <th>0</th>\n",
              "      <td>1</td>\n",
              "      <td>1</td>\n",
              "      <td>20228</td>\n",
              "      <td>1</td>\n",
              "      <td>156</td>\n",
              "      <td>85.0</td>\n",
              "      <td>140</td>\n",
              "      <td>90</td>\n",
              "      <td>3</td>\n",
              "      <td>1</td>\n",
              "      <td>0</td>\n",
              "      <td>0</td>\n",
              "      <td>1</td>\n",
              "      <td>1</td>\n",
              "    </tr>\n",
              "    <tr>\n",
              "      <th>1</th>\n",
              "      <td>2</td>\n",
              "      <td>2</td>\n",
              "      <td>18857</td>\n",
              "      <td>1</td>\n",
              "      <td>165</td>\n",
              "      <td>64.0</td>\n",
              "      <td>130</td>\n",
              "      <td>70</td>\n",
              "      <td>3</td>\n",
              "      <td>1</td>\n",
              "      <td>0</td>\n",
              "      <td>0</td>\n",
              "      <td>0</td>\n",
              "      <td>1</td>\n",
              "    </tr>\n",
              "    <tr>\n",
              "      <th>2</th>\n",
              "      <td>6</td>\n",
              "      <td>9</td>\n",
              "      <td>22113</td>\n",
              "      <td>1</td>\n",
              "      <td>157</td>\n",
              "      <td>93.0</td>\n",
              "      <td>130</td>\n",
              "      <td>80</td>\n",
              "      <td>3</td>\n",
              "      <td>1</td>\n",
              "      <td>0</td>\n",
              "      <td>0</td>\n",
              "      <td>1</td>\n",
              "      <td>0</td>\n",
              "    </tr>\n",
              "    <tr>\n",
              "      <th>3</th>\n",
              "      <td>22</td>\n",
              "      <td>32</td>\n",
              "      <td>23046</td>\n",
              "      <td>1</td>\n",
              "      <td>158</td>\n",
              "      <td>90.0</td>\n",
              "      <td>145</td>\n",
              "      <td>85</td>\n",
              "      <td>2</td>\n",
              "      <td>2</td>\n",
              "      <td>0</td>\n",
              "      <td>0</td>\n",
              "      <td>1</td>\n",
              "      <td>1</td>\n",
              "    </tr>\n",
              "    <tr>\n",
              "      <th>4</th>\n",
              "      <td>24</td>\n",
              "      <td>35</td>\n",
              "      <td>16608</td>\n",
              "      <td>1</td>\n",
              "      <td>170</td>\n",
              "      <td>68.0</td>\n",
              "      <td>150</td>\n",
              "      <td>90</td>\n",
              "      <td>3</td>\n",
              "      <td>1</td>\n",
              "      <td>0</td>\n",
              "      <td>0</td>\n",
              "      <td>1</td>\n",
              "      <td>1</td>\n",
              "    </tr>\n",
              "  </tbody>\n",
              "</table>\n",
              "</div>"
            ],
            "text/plain": [
              "   Unnamed: 0  id    age  gender  height  ...  gluc  smoke  alco  active  cardio\n",
              "0           1   1  20228       1     156  ...     1      0     0       1       1\n",
              "1           2   2  18857       1     165  ...     1      0     0       0       1\n",
              "2           6   9  22113       1     157  ...     1      0     0       1       0\n",
              "3          22  32  23046       1     158  ...     2      0     0       1       1\n",
              "4          24  35  16608       1     170  ...     1      0     0       1       1\n",
              "\n",
              "[5 rows x 14 columns]"
            ]
          },
          "metadata": {},
          "execution_count": 2
        }
      ]
    },
    {
      "cell_type": "markdown",
      "metadata": {
        "id": "kV_wYQdUOcRv"
      },
      "source": [
        "Lets Do Some Feature Engineering: blood_pressure = ap_hi / ap_lo https://www.mayoclinic.org/diseases-conditions/high-blood-pressure/expert-answers/pulse-pressure/faq-20058189"
      ]
    },
    {
      "cell_type": "code",
      "metadata": {
        "colab": {
          "base_uri": "https://localhost:8080/",
          "height": 419
        },
        "id": "svRctgCsPRSn",
        "outputId": "3b4bb797-0168-4e77-f95d-7735e9a08145"
      },
      "source": [
        "df['blood_pressure'] = df[\"ap_hi\"] / df[\"ap_lo\"]\n",
        "df.drop([\"ap_hi\", \"ap_lo\"], axis= 1)\n",
        "df = df[df['blood_pressure'] != math.inf]"
      ],
      "execution_count": 3,
      "outputs": [
        {
          "output_type": "execute_result",
          "data": {
            "text/html": [
              "<div>\n",
              "<style scoped>\n",
              "    .dataframe tbody tr th:only-of-type {\n",
              "        vertical-align: middle;\n",
              "    }\n",
              "\n",
              "    .dataframe tbody tr th {\n",
              "        vertical-align: top;\n",
              "    }\n",
              "\n",
              "    .dataframe thead th {\n",
              "        text-align: right;\n",
              "    }\n",
              "</style>\n",
              "<table border=\"1\" class=\"dataframe\">\n",
              "  <thead>\n",
              "    <tr style=\"text-align: right;\">\n",
              "      <th></th>\n",
              "      <th>Unnamed: 0</th>\n",
              "      <th>id</th>\n",
              "      <th>age</th>\n",
              "      <th>gender</th>\n",
              "      <th>height</th>\n",
              "      <th>weight</th>\n",
              "      <th>cholesterol</th>\n",
              "      <th>gluc</th>\n",
              "      <th>smoke</th>\n",
              "      <th>alco</th>\n",
              "      <th>active</th>\n",
              "      <th>cardio</th>\n",
              "      <th>blood_pressure</th>\n",
              "    </tr>\n",
              "  </thead>\n",
              "  <tbody>\n",
              "    <tr>\n",
              "      <th>0</th>\n",
              "      <td>1</td>\n",
              "      <td>1</td>\n",
              "      <td>20228</td>\n",
              "      <td>1</td>\n",
              "      <td>156</td>\n",
              "      <td>85.0</td>\n",
              "      <td>3</td>\n",
              "      <td>1</td>\n",
              "      <td>0</td>\n",
              "      <td>0</td>\n",
              "      <td>1</td>\n",
              "      <td>1</td>\n",
              "      <td>1.555556</td>\n",
              "    </tr>\n",
              "    <tr>\n",
              "      <th>1</th>\n",
              "      <td>2</td>\n",
              "      <td>2</td>\n",
              "      <td>18857</td>\n",
              "      <td>1</td>\n",
              "      <td>165</td>\n",
              "      <td>64.0</td>\n",
              "      <td>3</td>\n",
              "      <td>1</td>\n",
              "      <td>0</td>\n",
              "      <td>0</td>\n",
              "      <td>0</td>\n",
              "      <td>1</td>\n",
              "      <td>1.857143</td>\n",
              "    </tr>\n",
              "    <tr>\n",
              "      <th>2</th>\n",
              "      <td>6</td>\n",
              "      <td>9</td>\n",
              "      <td>22113</td>\n",
              "      <td>1</td>\n",
              "      <td>157</td>\n",
              "      <td>93.0</td>\n",
              "      <td>3</td>\n",
              "      <td>1</td>\n",
              "      <td>0</td>\n",
              "      <td>0</td>\n",
              "      <td>1</td>\n",
              "      <td>0</td>\n",
              "      <td>1.625000</td>\n",
              "    </tr>\n",
              "    <tr>\n",
              "      <th>3</th>\n",
              "      <td>22</td>\n",
              "      <td>32</td>\n",
              "      <td>23046</td>\n",
              "      <td>1</td>\n",
              "      <td>158</td>\n",
              "      <td>90.0</td>\n",
              "      <td>2</td>\n",
              "      <td>2</td>\n",
              "      <td>0</td>\n",
              "      <td>0</td>\n",
              "      <td>1</td>\n",
              "      <td>1</td>\n",
              "      <td>1.705882</td>\n",
              "    </tr>\n",
              "    <tr>\n",
              "      <th>4</th>\n",
              "      <td>24</td>\n",
              "      <td>35</td>\n",
              "      <td>16608</td>\n",
              "      <td>1</td>\n",
              "      <td>170</td>\n",
              "      <td>68.0</td>\n",
              "      <td>3</td>\n",
              "      <td>1</td>\n",
              "      <td>0</td>\n",
              "      <td>0</td>\n",
              "      <td>1</td>\n",
              "      <td>1</td>\n",
              "      <td>1.666667</td>\n",
              "    </tr>\n",
              "    <tr>\n",
              "      <th>...</th>\n",
              "      <td>...</td>\n",
              "      <td>...</td>\n",
              "      <td>...</td>\n",
              "      <td>...</td>\n",
              "      <td>...</td>\n",
              "      <td>...</td>\n",
              "      <td>...</td>\n",
              "      <td>...</td>\n",
              "      <td>...</td>\n",
              "      <td>...</td>\n",
              "      <td>...</td>\n",
              "      <td>...</td>\n",
              "      <td>...</td>\n",
              "    </tr>\n",
              "    <tr>\n",
              "      <th>6963</th>\n",
              "      <td>69976</td>\n",
              "      <td>99964</td>\n",
              "      <td>21699</td>\n",
              "      <td>1</td>\n",
              "      <td>163</td>\n",
              "      <td>65.0</td>\n",
              "      <td>2</td>\n",
              "      <td>2</td>\n",
              "      <td>0</td>\n",
              "      <td>0</td>\n",
              "      <td>1</td>\n",
              "      <td>0</td>\n",
              "      <td>1.500000</td>\n",
              "    </tr>\n",
              "    <tr>\n",
              "      <th>6964</th>\n",
              "      <td>69979</td>\n",
              "      <td>99969</td>\n",
              "      <td>22423</td>\n",
              "      <td>1</td>\n",
              "      <td>163</td>\n",
              "      <td>74.0</td>\n",
              "      <td>2</td>\n",
              "      <td>2</td>\n",
              "      <td>0</td>\n",
              "      <td>0</td>\n",
              "      <td>1</td>\n",
              "      <td>1</td>\n",
              "      <td>1.600000</td>\n",
              "    </tr>\n",
              "    <tr>\n",
              "      <th>6965</th>\n",
              "      <td>69991</td>\n",
              "      <td>99988</td>\n",
              "      <td>20609</td>\n",
              "      <td>1</td>\n",
              "      <td>159</td>\n",
              "      <td>72.0</td>\n",
              "      <td>2</td>\n",
              "      <td>2</td>\n",
              "      <td>0</td>\n",
              "      <td>0</td>\n",
              "      <td>1</td>\n",
              "      <td>0</td>\n",
              "      <td>1.444444</td>\n",
              "    </tr>\n",
              "    <tr>\n",
              "      <th>6966</th>\n",
              "      <td>69996</td>\n",
              "      <td>99995</td>\n",
              "      <td>22601</td>\n",
              "      <td>1</td>\n",
              "      <td>158</td>\n",
              "      <td>126.0</td>\n",
              "      <td>2</td>\n",
              "      <td>2</td>\n",
              "      <td>0</td>\n",
              "      <td>0</td>\n",
              "      <td>1</td>\n",
              "      <td>1</td>\n",
              "      <td>1.555556</td>\n",
              "    </tr>\n",
              "    <tr>\n",
              "      <th>6967</th>\n",
              "      <td>69999</td>\n",
              "      <td>99999</td>\n",
              "      <td>20540</td>\n",
              "      <td>1</td>\n",
              "      <td>170</td>\n",
              "      <td>72.0</td>\n",
              "      <td>2</td>\n",
              "      <td>1</td>\n",
              "      <td>0</td>\n",
              "      <td>0</td>\n",
              "      <td>1</td>\n",
              "      <td>0</td>\n",
              "      <td>1.500000</td>\n",
              "    </tr>\n",
              "  </tbody>\n",
              "</table>\n",
              "<p>6968 rows × 13 columns</p>\n",
              "</div>"
            ],
            "text/plain": [
              "      Unnamed: 0     id    age  gender  ...  alco  active  cardio  blood_pressure\n",
              "0              1      1  20228       1  ...     0       1       1        1.555556\n",
              "1              2      2  18857       1  ...     0       0       1        1.857143\n",
              "2              6      9  22113       1  ...     0       1       0        1.625000\n",
              "3             22     32  23046       1  ...     0       1       1        1.705882\n",
              "4             24     35  16608       1  ...     0       1       1        1.666667\n",
              "...          ...    ...    ...     ...  ...   ...     ...     ...             ...\n",
              "6963       69976  99964  21699       1  ...     0       1       0        1.500000\n",
              "6964       69979  99969  22423       1  ...     0       1       1        1.600000\n",
              "6965       69991  99988  20609       1  ...     0       1       0        1.444444\n",
              "6966       69996  99995  22601       1  ...     0       1       1        1.555556\n",
              "6967       69999  99999  20540       1  ...     0       1       0        1.500000\n",
              "\n",
              "[6968 rows x 13 columns]"
            ]
          },
          "metadata": {},
          "execution_count": 3
        }
      ]
    },
    {
      "cell_type": "code",
      "metadata": {
        "colab": {
          "base_uri": "https://localhost:8080/"
        },
        "id": "LnXCBN0sOAFP",
        "outputId": "89001fed-be85-45cf-8103-ebd9170de9ee"
      },
      "source": [
        "\n",
        "from sklearn.compose import ColumnTransformer\n",
        "from sklearn.preprocessing import StandardScaler\n",
        "\n",
        "ct = ColumnTransformer([\n",
        "    ('nonBinaryTransformer', StandardScaler(), ['age', 'height', 'weight', \"blood_pressure\", 'cholesterol', 'gluc'])\n",
        "], remainder='passthrough')\n",
        "\n",
        "scaled_features = ct.fit_transform(df)\n",
        "print(scaled_features)"
      ],
      "execution_count": 5,
      "outputs": [
        {
          "output_type": "stream",
          "name": "stdout",
          "text": [
            "[[-0.23543807 -0.64091245  0.53476609 ...  0.          1.\n",
            "   1.        ]\n",
            " [-0.9646783   0.6225903  -0.84239725 ...  0.          0.\n",
            "   1.        ]\n",
            " [ 0.76720076 -0.50052326  1.05939974 ...  0.          1.\n",
            "   0.        ]\n",
            " ...\n",
            " [-0.03278269 -0.21974487 -0.3177636  ...  0.          1.\n",
            "   0.        ]\n",
            " [ 1.02676985 -0.36013406  3.22351354 ...  0.          1.\n",
            "   1.        ]\n",
            " [-0.06948406  1.32453628 -0.3177636  ...  0.          1.\n",
            "   0.        ]]\n"
          ]
        }
      ]
    },
    {
      "cell_type": "code",
      "metadata": {
        "id": "ZfLdVg-AD5pK"
      },
      "source": [
        "df_feat = df.drop(\"cardio\", axis = 1)"
      ],
      "execution_count": 6,
      "outputs": []
    },
    {
      "cell_type": "code",
      "metadata": {
        "colab": {
          "base_uri": "https://localhost:8080/",
          "height": 204
        },
        "id": "l88-EerITxdX",
        "outputId": "e71c3b67-fb6b-4f99-d9bb-0dac20d0351a"
      },
      "source": [
        "df_feat.head()"
      ],
      "execution_count": 7,
      "outputs": [
        {
          "output_type": "execute_result",
          "data": {
            "text/html": [
              "<div>\n",
              "<style scoped>\n",
              "    .dataframe tbody tr th:only-of-type {\n",
              "        vertical-align: middle;\n",
              "    }\n",
              "\n",
              "    .dataframe tbody tr th {\n",
              "        vertical-align: top;\n",
              "    }\n",
              "\n",
              "    .dataframe thead th {\n",
              "        text-align: right;\n",
              "    }\n",
              "</style>\n",
              "<table border=\"1\" class=\"dataframe\">\n",
              "  <thead>\n",
              "    <tr style=\"text-align: right;\">\n",
              "      <th></th>\n",
              "      <th>Unnamed: 0</th>\n",
              "      <th>id</th>\n",
              "      <th>age</th>\n",
              "      <th>gender</th>\n",
              "      <th>height</th>\n",
              "      <th>weight</th>\n",
              "      <th>ap_hi</th>\n",
              "      <th>ap_lo</th>\n",
              "      <th>cholesterol</th>\n",
              "      <th>gluc</th>\n",
              "      <th>smoke</th>\n",
              "      <th>alco</th>\n",
              "      <th>active</th>\n",
              "      <th>blood_pressure</th>\n",
              "    </tr>\n",
              "  </thead>\n",
              "  <tbody>\n",
              "    <tr>\n",
              "      <th>0</th>\n",
              "      <td>1</td>\n",
              "      <td>1</td>\n",
              "      <td>20228</td>\n",
              "      <td>1</td>\n",
              "      <td>156</td>\n",
              "      <td>85.0</td>\n",
              "      <td>140</td>\n",
              "      <td>90</td>\n",
              "      <td>3</td>\n",
              "      <td>1</td>\n",
              "      <td>0</td>\n",
              "      <td>0</td>\n",
              "      <td>1</td>\n",
              "      <td>1.555556</td>\n",
              "    </tr>\n",
              "    <tr>\n",
              "      <th>1</th>\n",
              "      <td>2</td>\n",
              "      <td>2</td>\n",
              "      <td>18857</td>\n",
              "      <td>1</td>\n",
              "      <td>165</td>\n",
              "      <td>64.0</td>\n",
              "      <td>130</td>\n",
              "      <td>70</td>\n",
              "      <td>3</td>\n",
              "      <td>1</td>\n",
              "      <td>0</td>\n",
              "      <td>0</td>\n",
              "      <td>0</td>\n",
              "      <td>1.857143</td>\n",
              "    </tr>\n",
              "    <tr>\n",
              "      <th>2</th>\n",
              "      <td>6</td>\n",
              "      <td>9</td>\n",
              "      <td>22113</td>\n",
              "      <td>1</td>\n",
              "      <td>157</td>\n",
              "      <td>93.0</td>\n",
              "      <td>130</td>\n",
              "      <td>80</td>\n",
              "      <td>3</td>\n",
              "      <td>1</td>\n",
              "      <td>0</td>\n",
              "      <td>0</td>\n",
              "      <td>1</td>\n",
              "      <td>1.625000</td>\n",
              "    </tr>\n",
              "    <tr>\n",
              "      <th>3</th>\n",
              "      <td>22</td>\n",
              "      <td>32</td>\n",
              "      <td>23046</td>\n",
              "      <td>1</td>\n",
              "      <td>158</td>\n",
              "      <td>90.0</td>\n",
              "      <td>145</td>\n",
              "      <td>85</td>\n",
              "      <td>2</td>\n",
              "      <td>2</td>\n",
              "      <td>0</td>\n",
              "      <td>0</td>\n",
              "      <td>1</td>\n",
              "      <td>1.705882</td>\n",
              "    </tr>\n",
              "    <tr>\n",
              "      <th>4</th>\n",
              "      <td>24</td>\n",
              "      <td>35</td>\n",
              "      <td>16608</td>\n",
              "      <td>1</td>\n",
              "      <td>170</td>\n",
              "      <td>68.0</td>\n",
              "      <td>150</td>\n",
              "      <td>90</td>\n",
              "      <td>3</td>\n",
              "      <td>1</td>\n",
              "      <td>0</td>\n",
              "      <td>0</td>\n",
              "      <td>1</td>\n",
              "      <td>1.666667</td>\n",
              "    </tr>\n",
              "  </tbody>\n",
              "</table>\n",
              "</div>"
            ],
            "text/plain": [
              "   Unnamed: 0  id    age  gender  ...  smoke  alco  active  blood_pressure\n",
              "0           1   1  20228       1  ...      0     0       1        1.555556\n",
              "1           2   2  18857       1  ...      0     0       0        1.857143\n",
              "2           6   9  22113       1  ...      0     0       1        1.625000\n",
              "3          22  32  23046       1  ...      0     0       1        1.705882\n",
              "4          24  35  16608       1  ...      0     0       1        1.666667\n",
              "\n",
              "[5 rows x 14 columns]"
            ]
          },
          "metadata": {},
          "execution_count": 7
        }
      ]
    },
    {
      "cell_type": "code",
      "metadata": {
        "id": "nB9g2eOOEKbc",
        "colab": {
          "base_uri": "https://localhost:8080/"
        },
        "outputId": "6fd0bcd1-3610-49d0-a528-b9e99aeccf62"
      },
      "source": [
        "df_targ = df.loc[:, \"cardio\"]\n",
        "df_targ"
      ],
      "execution_count": 8,
      "outputs": [
        {
          "output_type": "execute_result",
          "data": {
            "text/plain": [
              "0       1\n",
              "1       1\n",
              "2       0\n",
              "3       1\n",
              "4       1\n",
              "       ..\n",
              "6963    0\n",
              "6964    1\n",
              "6965    0\n",
              "6966    1\n",
              "6967    0\n",
              "Name: cardio, Length: 6965, dtype: int64"
            ]
          },
          "metadata": {},
          "execution_count": 8
        }
      ]
    },
    {
      "cell_type": "code",
      "metadata": {
        "id": "vEtz6n9JERbV"
      },
      "source": [
        "X_train, X_test, y_train, y_test = train_test_split(df_feat, df_targ, test_size = .33, random_state = 44)"
      ],
      "execution_count": 9,
      "outputs": []
    },
    {
      "cell_type": "code",
      "metadata": {
        "colab": {
          "base_uri": "https://localhost:8080/"
        },
        "id": "DfotllmtEtjQ",
        "outputId": "0c13aad7-6bd9-4992-8d4e-71d45d8d9827"
      },
      "source": [
        "print(X_train, y_train)"
      ],
      "execution_count": 10,
      "outputs": [
        {
          "output_type": "stream",
          "name": "stdout",
          "text": [
            "      Unnamed: 0     id    age  gender  ...  smoke  alco  active  blood_pressure\n",
            "1132       10956  15678  19817       1  ...      0     0       1        1.714286\n",
            "6659       66929  95550  21877       1  ...      0     0       1        1.700000\n",
            "4464       45154  64485  23403       1  ...      0     0       1        1.555556\n",
            "1849       18570  26518  23136       1  ...      0     0       1        1.666667\n",
            "6455       64945  92697  20403       1  ...      0     0       1        1.555556\n",
            "...          ...    ...    ...     ...  ...    ...   ...     ...             ...\n",
            "571         5523   7855  19692       1  ...      0     0       1        1.750000\n",
            "1197       11665  16668  20558       1  ...      0     0       1        1.600000\n",
            "2803       28161  40257  19002       1  ...      0     0       1        1.444444\n",
            "3493       35229  50327  19061       1  ...      0     0       1        1.375000\n",
            "5911       59432  84857  17632       1  ...      0     0       1        1.555556\n",
            "\n",
            "[4666 rows x 14 columns] 1132    1\n",
            "6659    1\n",
            "4464    1\n",
            "1849    1\n",
            "6455    1\n",
            "       ..\n",
            "571     0\n",
            "1197    1\n",
            "2803    0\n",
            "3493    0\n",
            "5911    1\n",
            "Name: cardio, Length: 4666, dtype: int64\n"
          ]
        }
      ]
    },
    {
      "cell_type": "code",
      "metadata": {
        "id": "5fcYCbZ0E4Yu",
        "colab": {
          "base_uri": "https://localhost:8080/"
        },
        "outputId": "a8a522c3-deaf-49b8-d55b-24954525a487"
      },
      "source": [
        "group = [1, 3, 5, 7, 9, 11, 13, 15, 17,19,21, 23, 25, 27, 29, 31]\n",
        "error = []\n",
        "\n",
        "for i in group:\n",
        "  neigh = KNeighborsClassifier(n_neighbors = i, metric= \"manhattan\", weights= \"uniform\")\n",
        "  neigh.fit(X_train, y_train)  \n",
        "  print(neigh.score(X_test, y_test))\n",
        "  error.append(neigh.score(X_test, y_test))\n",
        "  "
      ],
      "execution_count": 11,
      "outputs": [
        {
          "output_type": "stream",
          "name": "stdout",
          "text": [
            "0.6124401913875598\n",
            "0.6489778164419313\n",
            "0.6668116572422792\n",
            "0.6781209221400609\n",
            "0.6837755545889517\n",
            "0.6942148760330579\n",
            "0.6963897346672466\n",
            "0.7050891692040018\n",
            "0.7033492822966507\n",
            "0.7016093953892997\n",
            "0.706394084384515\n",
            "0.7081339712918661\n",
            "0.7107438016528925\n",
            "0.7142235754675946\n",
            "0.7133536320139191\n",
            "0.7155284906481079\n"
          ]
        }
      ]
    },
    {
      "cell_type": "code",
      "metadata": {
        "colab": {
          "base_uri": "https://localhost:8080/",
          "height": 285
        },
        "id": "gxpqD1drHDnZ",
        "outputId": "35a67335-0461-47a3-f6fa-48b104cfb674"
      },
      "source": [
        "plt.plot(group, error) ## this is accuracy"
      ],
      "execution_count": 12,
      "outputs": [
        {
          "output_type": "execute_result",
          "data": {
            "text/plain": [
              "[<matplotlib.lines.Line2D at 0x7f4fc01079d0>]"
            ]
          },
          "metadata": {},
          "execution_count": 12
        },
        {
          "output_type": "display_data",
          "data": {
            "image/png": "[encoded data removed]",
            "text/plain": [
              "<Figure size 432x288 with 1 Axes>"
            ]
          },
          "metadata": {
            "needs_background": "light"
          }
        }
      ]
    },
    {
      "cell_type": "code",
      "metadata": {
        "id": "yZ-GyJ2oUvbc"
      },
      "source": [
        "from sklearn.model_selection import GridSearchCV\n",
        "grid_params = {\n",
        "    \"n_neighbors\" : [1, 3, 5, 7, 9, 11, 13, 15, 17,19,21, 23, 25, 27, 29, 31],\n",
        "    \"metric\" : [\"euclidean\", \"manhattan\"]\n",
        "}\n"
      ],
      "execution_count": 64,
      "outputs": []
    },
    {
      "cell_type": "code",
      "metadata": {
        "id": "k9RVSoLiVK4G"
      },
      "source": [
        "gs = GridSearchCV(KNeighborsClassifier(), grid_params, verbose= 1, cv =3, n_jobs= -1)\n"
      ],
      "execution_count": 14,
      "outputs": []
    },
    {
      "cell_type": "code",
      "metadata": {
        "colab": {
          "base_uri": "https://localhost:8080/"
        },
        "id": "9axu0yTtWA3t",
        "outputId": "c72b04b6-68b3-4ccb-8c78-9afc337cebc2"
      },
      "source": [
        "gs_results = gs.fit(X_train, y_train)\n",
        "predict = gs.predict(X_test)"
      ],
      "execution_count": 70,
      "outputs": [
        {
          "output_type": "stream",
          "name": "stdout",
          "text": [
            "Fitting 3 folds for each of 32 candidates, totalling 96 fits\n"
          ]
        }
      ]
    },
    {
      "cell_type": "code",
      "metadata": {
        "id": "Dz-ycNgKXVdN"
      },
      "source": [
        "predict = gs.predict(X_test)"
      ],
      "execution_count": 59,
      "outputs": []
    },
    {
      "cell_type": "code",
      "metadata": {
        "colab": {
          "base_uri": "https://localhost:8080/"
        },
        "id": "TZfZMf3-Wfv0",
        "outputId": "43f787e4-6838-4208-a750-b047473f3dd2"
      },
      "source": [
        "gs.best_params_"
      ],
      "execution_count": 17,
      "outputs": [
        {
          "output_type": "execute_result",
          "data": {
            "text/plain": [
              "{'metric': 'manhattan', 'n_neighbors': 29, 'weights': 'uniform'}"
            ]
          },
          "metadata": {},
          "execution_count": 17
        }
      ]
    },
    {
      "cell_type": "code",
      "metadata": {
        "colab": {
          "base_uri": "https://localhost:8080/"
        },
        "id": "FayT6e7vXJSP",
        "outputId": "bf7a6f6c-6afa-43a8-e612-b278173e4fde"
      },
      "source": [
        "print(\"Accuracy:\", metrics.accuracy_score(y_test, predict))\n",
        "#print(classification_report(y_test, grid_predictions))"
      ],
      "execution_count": 20,
      "outputs": [
        {
          "output_type": "stream",
          "name": "stdout",
          "text": [
            "Accuracy: 0.7133536320139191\n"
          ]
        }
      ]
    },
    {
      "cell_type": "markdown",
      "metadata": {
        "id": "5vgsX6CE2sf7"
      },
      "source": [
        "Try cross validation!\n"
      ]
    },
    {
      "cell_type": "code",
      "metadata": {
        "colab": {
          "base_uri": "https://localhost:8080/"
        },
        "id": "zNu5WCCv2dgY",
        "outputId": "705b1be7-ac85-40cf-ad5b-b7c9a93b1deb"
      },
      "source": [
        "kn = KNeighborsClassifier(n_neighbors=29, metric= \"manhattan\")\n",
        "scores = cross_validate(kn, df_feat, df_targ, cv = 5, return_train_score= True, return_estimator= True)\n",
        "scores"
      ],
      "execution_count": 26,
      "outputs": [
        {
          "output_type": "execute_result",
          "data": {
            "text/plain": [
              "{'estimator': [KNeighborsClassifier(metric='manhattan', n_neighbors=29),\n",
              "  KNeighborsClassifier(metric='manhattan', n_neighbors=29),\n",
              "  KNeighborsClassifier(metric='manhattan', n_neighbors=29),\n",
              "  KNeighborsClassifier(metric='manhattan', n_neighbors=29),\n",
              "  KNeighborsClassifier(metric='manhattan', n_neighbors=29)],\n",
              " 'fit_time': array([0.01733804, 0.01160431, 0.01260781, 0.01140022, 0.01129937]),\n",
              " 'score_time': array([0.05701661, 0.06062222, 0.05807972, 0.05876899, 0.05579352]),\n",
              " 'test_score': array([0.30007179, 0.71356784, 0.71356784, 0.68485284, 0.66475233]),\n",
              " 'train_score': array([0.71823403, 0.71482412, 0.71500359, 0.71392678, 0.71500359])}"
            ]
          },
          "metadata": {},
          "execution_count": 26
        }
      ]
    },
    {
      "cell_type": "markdown",
      "metadata": {
        "id": "YYUS9NsS6hvB"
      },
      "source": [
        "Cross Validation on another cluster"
      ]
    },
    {
      "cell_type": "code",
      "metadata": {
        "colab": {
          "base_uri": "https://localhost:8080/",
          "height": 204
        },
        "id": "zi2Ibig_4qqh",
        "outputId": "c71e20e6-1253-4f37-d352-844b84272d05"
      },
      "source": [
        "df1 = pd.read_csv(\"Cluster1\")\n",
        "df1.head()"
      ],
      "execution_count": 39,
      "outputs": [
        {
          "output_type": "execute_result",
          "data": {
            "text/html": [
              "<div>\n",
              "<style scoped>\n",
              "    .dataframe tbody tr th:only-of-type {\n",
              "        vertical-align: middle;\n",
              "    }\n",
              "\n",
              "    .dataframe tbody tr th {\n",
              "        vertical-align: top;\n",
              "    }\n",
              "\n",
              "    .dataframe thead th {\n",
              "        text-align: right;\n",
              "    }\n",
              "</style>\n",
              "<table border=\"1\" class=\"dataframe\">\n",
              "  <thead>\n",
              "    <tr style=\"text-align: right;\">\n",
              "      <th></th>\n",
              "      <th>Unnamed: 0</th>\n",
              "      <th>id</th>\n",
              "      <th>age</th>\n",
              "      <th>gender</th>\n",
              "      <th>height</th>\n",
              "      <th>weight</th>\n",
              "      <th>ap_hi</th>\n",
              "      <th>ap_lo</th>\n",
              "      <th>cholesterol</th>\n",
              "      <th>gluc</th>\n",
              "      <th>smoke</th>\n",
              "      <th>alco</th>\n",
              "      <th>active</th>\n",
              "      <th>cardio</th>\n",
              "    </tr>\n",
              "  </thead>\n",
              "  <tbody>\n",
              "    <tr>\n",
              "      <th>0</th>\n",
              "      <td>8</td>\n",
              "      <td>13</td>\n",
              "      <td>17668</td>\n",
              "      <td>1</td>\n",
              "      <td>158</td>\n",
              "      <td>71.0</td>\n",
              "      <td>110</td>\n",
              "      <td>70</td>\n",
              "      <td>1</td>\n",
              "      <td>1</td>\n",
              "      <td>0</td>\n",
              "      <td>0</td>\n",
              "      <td>1</td>\n",
              "      <td>0</td>\n",
              "    </tr>\n",
              "    <tr>\n",
              "      <th>1</th>\n",
              "      <td>25</td>\n",
              "      <td>36</td>\n",
              "      <td>14453</td>\n",
              "      <td>1</td>\n",
              "      <td>153</td>\n",
              "      <td>65.0</td>\n",
              "      <td>130</td>\n",
              "      <td>100</td>\n",
              "      <td>2</td>\n",
              "      <td>1</td>\n",
              "      <td>0</td>\n",
              "      <td>0</td>\n",
              "      <td>1</td>\n",
              "      <td>0</td>\n",
              "    </tr>\n",
              "    <tr>\n",
              "      <th>2</th>\n",
              "      <td>27</td>\n",
              "      <td>38</td>\n",
              "      <td>18085</td>\n",
              "      <td>1</td>\n",
              "      <td>159</td>\n",
              "      <td>78.0</td>\n",
              "      <td>120</td>\n",
              "      <td>80</td>\n",
              "      <td>1</td>\n",
              "      <td>1</td>\n",
              "      <td>0</td>\n",
              "      <td>0</td>\n",
              "      <td>1</td>\n",
              "      <td>0</td>\n",
              "    </tr>\n",
              "    <tr>\n",
              "      <th>3</th>\n",
              "      <td>32</td>\n",
              "      <td>44</td>\n",
              "      <td>14605</td>\n",
              "      <td>1</td>\n",
              "      <td>159</td>\n",
              "      <td>60.0</td>\n",
              "      <td>110</td>\n",
              "      <td>70</td>\n",
              "      <td>1</td>\n",
              "      <td>1</td>\n",
              "      <td>0</td>\n",
              "      <td>0</td>\n",
              "      <td>1</td>\n",
              "      <td>0</td>\n",
              "    </tr>\n",
              "    <tr>\n",
              "      <th>4</th>\n",
              "      <td>37</td>\n",
              "      <td>51</td>\n",
              "      <td>17976</td>\n",
              "      <td>1</td>\n",
              "      <td>164</td>\n",
              "      <td>70.0</td>\n",
              "      <td>130</td>\n",
              "      <td>90</td>\n",
              "      <td>1</td>\n",
              "      <td>1</td>\n",
              "      <td>0</td>\n",
              "      <td>0</td>\n",
              "      <td>1</td>\n",
              "      <td>0</td>\n",
              "    </tr>\n",
              "  </tbody>\n",
              "</table>\n",
              "</div>"
            ],
            "text/plain": [
              "   Unnamed: 0  id    age  gender  height  ...  gluc  smoke  alco  active  cardio\n",
              "0           8  13  17668       1     158  ...     1      0     0       1       0\n",
              "1          25  36  14453       1     153  ...     1      0     0       1       0\n",
              "2          27  38  18085       1     159  ...     1      0     0       1       0\n",
              "3          32  44  14605       1     159  ...     1      0     0       1       0\n",
              "4          37  51  17976       1     164  ...     1      0     0       1       0\n",
              "\n",
              "[5 rows x 14 columns]"
            ]
          },
          "metadata": {},
          "execution_count": 39
        }
      ]
    },
    {
      "cell_type": "code",
      "metadata": {
        "colab": {
          "base_uri": "https://localhost:8080/",
          "height": 204
        },
        "id": "51gIcLYc4_S_",
        "outputId": "35c8f659-4486-4b7e-fe39-1af3fab79ec4"
      },
      "source": [
        "df1['blood_pressure'] = df1[\"ap_hi\"] / df1[\"ap_lo\"]\n",
        "df1.drop([\"ap_hi\", \"ap_lo\"], axis= 1)\n",
        "df1 = df1[df1['blood_pressure'] != math.inf]\n",
        "df1.head()"
      ],
      "execution_count": 40,
      "outputs": [
        {
          "output_type": "execute_result",
          "data": {
            "text/html": [
              "<div>\n",
              "<style scoped>\n",
              "    .dataframe tbody tr th:only-of-type {\n",
              "        vertical-align: middle;\n",
              "    }\n",
              "\n",
              "    .dataframe tbody tr th {\n",
              "        vertical-align: top;\n",
              "    }\n",
              "\n",
              "    .dataframe thead th {\n",
              "        text-align: right;\n",
              "    }\n",
              "</style>\n",
              "<table border=\"1\" class=\"dataframe\">\n",
              "  <thead>\n",
              "    <tr style=\"text-align: right;\">\n",
              "      <th></th>\n",
              "      <th>Unnamed: 0</th>\n",
              "      <th>id</th>\n",
              "      <th>age</th>\n",
              "      <th>gender</th>\n",
              "      <th>height</th>\n",
              "      <th>weight</th>\n",
              "      <th>ap_hi</th>\n",
              "      <th>ap_lo</th>\n",
              "      <th>cholesterol</th>\n",
              "      <th>gluc</th>\n",
              "      <th>smoke</th>\n",
              "      <th>alco</th>\n",
              "      <th>active</th>\n",
              "      <th>cardio</th>\n",
              "      <th>blood_pressure</th>\n",
              "    </tr>\n",
              "  </thead>\n",
              "  <tbody>\n",
              "    <tr>\n",
              "      <th>0</th>\n",
              "      <td>8</td>\n",
              "      <td>13</td>\n",
              "      <td>17668</td>\n",
              "      <td>1</td>\n",
              "      <td>158</td>\n",
              "      <td>71.0</td>\n",
              "      <td>110</td>\n",
              "      <td>70</td>\n",
              "      <td>1</td>\n",
              "      <td>1</td>\n",
              "      <td>0</td>\n",
              "      <td>0</td>\n",
              "      <td>1</td>\n",
              "      <td>0</td>\n",
              "      <td>1.571429</td>\n",
              "    </tr>\n",
              "    <tr>\n",
              "      <th>1</th>\n",
              "      <td>25</td>\n",
              "      <td>36</td>\n",
              "      <td>14453</td>\n",
              "      <td>1</td>\n",
              "      <td>153</td>\n",
              "      <td>65.0</td>\n",
              "      <td>130</td>\n",
              "      <td>100</td>\n",
              "      <td>2</td>\n",
              "      <td>1</td>\n",
              "      <td>0</td>\n",
              "      <td>0</td>\n",
              "      <td>1</td>\n",
              "      <td>0</td>\n",
              "      <td>1.300000</td>\n",
              "    </tr>\n",
              "    <tr>\n",
              "      <th>2</th>\n",
              "      <td>27</td>\n",
              "      <td>38</td>\n",
              "      <td>18085</td>\n",
              "      <td>1</td>\n",
              "      <td>159</td>\n",
              "      <td>78.0</td>\n",
              "      <td>120</td>\n",
              "      <td>80</td>\n",
              "      <td>1</td>\n",
              "      <td>1</td>\n",
              "      <td>0</td>\n",
              "      <td>0</td>\n",
              "      <td>1</td>\n",
              "      <td>0</td>\n",
              "      <td>1.500000</td>\n",
              "    </tr>\n",
              "    <tr>\n",
              "      <th>3</th>\n",
              "      <td>32</td>\n",
              "      <td>44</td>\n",
              "      <td>14605</td>\n",
              "      <td>1</td>\n",
              "      <td>159</td>\n",
              "      <td>60.0</td>\n",
              "      <td>110</td>\n",
              "      <td>70</td>\n",
              "      <td>1</td>\n",
              "      <td>1</td>\n",
              "      <td>0</td>\n",
              "      <td>0</td>\n",
              "      <td>1</td>\n",
              "      <td>0</td>\n",
              "      <td>1.571429</td>\n",
              "    </tr>\n",
              "    <tr>\n",
              "      <th>4</th>\n",
              "      <td>37</td>\n",
              "      <td>51</td>\n",
              "      <td>17976</td>\n",
              "      <td>1</td>\n",
              "      <td>164</td>\n",
              "      <td>70.0</td>\n",
              "      <td>130</td>\n",
              "      <td>90</td>\n",
              "      <td>1</td>\n",
              "      <td>1</td>\n",
              "      <td>0</td>\n",
              "      <td>0</td>\n",
              "      <td>1</td>\n",
              "      <td>0</td>\n",
              "      <td>1.444444</td>\n",
              "    </tr>\n",
              "  </tbody>\n",
              "</table>\n",
              "</div>"
            ],
            "text/plain": [
              "   Unnamed: 0  id    age  gender  ...  alco  active  cardio  blood_pressure\n",
              "0           8  13  17668       1  ...     0       1       0        1.571429\n",
              "1          25  36  14453       1  ...     0       1       0        1.300000\n",
              "2          27  38  18085       1  ...     0       1       0        1.500000\n",
              "3          32  44  14605       1  ...     0       1       0        1.571429\n",
              "4          37  51  17976       1  ...     0       1       0        1.444444\n",
              "\n",
              "[5 rows x 15 columns]"
            ]
          },
          "metadata": {},
          "execution_count": 40
        }
      ]
    },
    {
      "cell_type": "code",
      "metadata": {
        "colab": {
          "base_uri": "https://localhost:8080/"
        },
        "id": "XX_S5Nc_5NSd",
        "outputId": "f571d853-6448-4e7f-d84f-a8fe896db4a2"
      },
      "source": [
        "df1_targ = df1.loc[:, \"cardio\"]\n",
        "df1_targ.head()"
      ],
      "execution_count": 41,
      "outputs": [
        {
          "output_type": "execute_result",
          "data": {
            "text/plain": [
              "0    0\n",
              "1    0\n",
              "2    0\n",
              "3    0\n",
              "4    0\n",
              "Name: cardio, dtype: int64"
            ]
          },
          "metadata": {},
          "execution_count": 41
        }
      ]
    },
    {
      "cell_type": "code",
      "metadata": {
        "colab": {
          "base_uri": "https://localhost:8080/",
          "height": 204
        },
        "id": "zs3-DjM_44rJ",
        "outputId": "37bee0fd-d81d-4879-ad66-23c603d1b457"
      },
      "source": [
        "df1_feat = df1.drop(\"cardio\", axis = 1)\n",
        "df1_feat.head()"
      ],
      "execution_count": 42,
      "outputs": [
        {
          "output_type": "execute_result",
          "data": {
            "text/html": [
              "<div>\n",
              "<style scoped>\n",
              "    .dataframe tbody tr th:only-of-type {\n",
              "        vertical-align: middle;\n",
              "    }\n",
              "\n",
              "    .dataframe tbody tr th {\n",
              "        vertical-align: top;\n",
              "    }\n",
              "\n",
              "    .dataframe thead th {\n",
              "        text-align: right;\n",
              "    }\n",
              "</style>\n",
              "<table border=\"1\" class=\"dataframe\">\n",
              "  <thead>\n",
              "    <tr style=\"text-align: right;\">\n",
              "      <th></th>\n",
              "      <th>Unnamed: 0</th>\n",
              "      <th>id</th>\n",
              "      <th>age</th>\n",
              "      <th>gender</th>\n",
              "      <th>height</th>\n",
              "      <th>weight</th>\n",
              "      <th>ap_hi</th>\n",
              "      <th>ap_lo</th>\n",
              "      <th>cholesterol</th>\n",
              "      <th>gluc</th>\n",
              "      <th>smoke</th>\n",
              "      <th>alco</th>\n",
              "      <th>active</th>\n",
              "      <th>blood_pressure</th>\n",
              "    </tr>\n",
              "  </thead>\n",
              "  <tbody>\n",
              "    <tr>\n",
              "      <th>0</th>\n",
              "      <td>8</td>\n",
              "      <td>13</td>\n",
              "      <td>17668</td>\n",
              "      <td>1</td>\n",
              "      <td>158</td>\n",
              "      <td>71.0</td>\n",
              "      <td>110</td>\n",
              "      <td>70</td>\n",
              "      <td>1</td>\n",
              "      <td>1</td>\n",
              "      <td>0</td>\n",
              "      <td>0</td>\n",
              "      <td>1</td>\n",
              "      <td>1.571429</td>\n",
              "    </tr>\n",
              "    <tr>\n",
              "      <th>1</th>\n",
              "      <td>25</td>\n",
              "      <td>36</td>\n",
              "      <td>14453</td>\n",
              "      <td>1</td>\n",
              "      <td>153</td>\n",
              "      <td>65.0</td>\n",
              "      <td>130</td>\n",
              "      <td>100</td>\n",
              "      <td>2</td>\n",
              "      <td>1</td>\n",
              "      <td>0</td>\n",
              "      <td>0</td>\n",
              "      <td>1</td>\n",
              "      <td>1.300000</td>\n",
              "    </tr>\n",
              "    <tr>\n",
              "      <th>2</th>\n",
              "      <td>27</td>\n",
              "      <td>38</td>\n",
              "      <td>18085</td>\n",
              "      <td>1</td>\n",
              "      <td>159</td>\n",
              "      <td>78.0</td>\n",
              "      <td>120</td>\n",
              "      <td>80</td>\n",
              "      <td>1</td>\n",
              "      <td>1</td>\n",
              "      <td>0</td>\n",
              "      <td>0</td>\n",
              "      <td>1</td>\n",
              "      <td>1.500000</td>\n",
              "    </tr>\n",
              "    <tr>\n",
              "      <th>3</th>\n",
              "      <td>32</td>\n",
              "      <td>44</td>\n",
              "      <td>14605</td>\n",
              "      <td>1</td>\n",
              "      <td>159</td>\n",
              "      <td>60.0</td>\n",
              "      <td>110</td>\n",
              "      <td>70</td>\n",
              "      <td>1</td>\n",
              "      <td>1</td>\n",
              "      <td>0</td>\n",
              "      <td>0</td>\n",
              "      <td>1</td>\n",
              "      <td>1.571429</td>\n",
              "    </tr>\n",
              "    <tr>\n",
              "      <th>4</th>\n",
              "      <td>37</td>\n",
              "      <td>51</td>\n",
              "      <td>17976</td>\n",
              "      <td>1</td>\n",
              "      <td>164</td>\n",
              "      <td>70.0</td>\n",
              "      <td>130</td>\n",
              "      <td>90</td>\n",
              "      <td>1</td>\n",
              "      <td>1</td>\n",
              "      <td>0</td>\n",
              "      <td>0</td>\n",
              "      <td>1</td>\n",
              "      <td>1.444444</td>\n",
              "    </tr>\n",
              "  </tbody>\n",
              "</table>\n",
              "</div>"
            ],
            "text/plain": [
              "   Unnamed: 0  id    age  gender  ...  smoke  alco  active  blood_pressure\n",
              "0           8  13  17668       1  ...      0     0       1        1.571429\n",
              "1          25  36  14453       1  ...      0     0       1        1.300000\n",
              "2          27  38  18085       1  ...      0     0       1        1.500000\n",
              "3          32  44  14605       1  ...      0     0       1        1.571429\n",
              "4          37  51  17976       1  ...      0     0       1        1.444444\n",
              "\n",
              "[5 rows x 14 columns]"
            ]
          },
          "metadata": {},
          "execution_count": 42
        }
      ]
    },
    {
      "cell_type": "code",
      "metadata": {
        "colab": {
          "base_uri": "https://localhost:8080/"
        },
        "id": "Pjc_Lrrc9DCz",
        "outputId": "0f7aa31c-5cb4-4126-a10f-a012eee8c83d"
      },
      "source": [
        "kn = KNeighborsClassifier(n_neighbors=29, metric= \"manhattan\")\n",
        "scores = cross_validate(kn, df1_feat, df1_targ, cv = 5, return_train_score= True, return_estimator= True)\n",
        "scores"
      ],
      "execution_count": 49,
      "outputs": [
        {
          "output_type": "execute_result",
          "data": {
            "text/plain": [
              "{'estimator': [KNeighborsClassifier(metric='manhattan', n_neighbors=29),\n",
              "  KNeighborsClassifier(metric='manhattan', n_neighbors=29),\n",
              "  KNeighborsClassifier(metric='manhattan', n_neighbors=29),\n",
              "  KNeighborsClassifier(metric='manhattan', n_neighbors=29),\n",
              "  KNeighborsClassifier(metric='manhattan', n_neighbors=29)],\n",
              " 'fit_time': array([0.02058721, 0.01949692, 0.01935291, 0.0187757 , 0.01846623]),\n",
              " 'score_time': array([0.09503174, 0.09881568, 0.09574556, 0.1092658 , 0.10028195]),\n",
              " 'test_score': array([0.30662625, 0.58510178, 0.48679082, 0.52576873, 0.69584055]),\n",
              " 'train_score': array([0.70200325, 0.70070384, 0.70124526, 0.70059556, 0.69965353])}"
            ]
          },
          "metadata": {},
          "execution_count": 49
        }
      ]
    },
    {
      "cell_type": "code",
      "metadata": {
        "colab": {
          "base_uri": "https://localhost:8080/"
        },
        "id": "YCFlpJ3g5Yux",
        "outputId": "dc585bab-e93b-49ab-93e1-edbfcefb6477"
      },
      "source": [
        "kn = KNeighborsClassifier(n_neighbors=29, metric= \"manhattan\")\n",
        "scores = cross_validate(kn, df1_feat, df1_targ, cv = 5, scoring = \"f1\", return_train_score= True, return_estimator= True)\n",
        "scores"
      ],
      "execution_count": 47,
      "outputs": [
        {
          "output_type": "execute_result",
          "data": {
            "text/plain": [
              "{'estimator': [KNeighborsClassifier(metric='manhattan', n_neighbors=29),\n",
              "  KNeighborsClassifier(metric='manhattan', n_neighbors=29),\n",
              "  KNeighborsClassifier(metric='manhattan', n_neighbors=29),\n",
              "  KNeighborsClassifier(metric='manhattan', n_neighbors=29),\n",
              "  KNeighborsClassifier(metric='manhattan', n_neighbors=29)],\n",
              " 'fit_time': array([0.02204943, 0.01861167, 0.01957846, 0.01944184, 0.01897526]),\n",
              " 'score_time': array([0.10040855, 0.09864354, 0.11419654, 0.10176086, 0.0933919 ]),\n",
              " 'test_score': array([0.4672213 , 0.36048064, 0.35702659, 0.35091879, 0.        ]),\n",
              " 'train_score': array([0.07959866, 0.08111702, 0.07571189, 0.07245891, 0.07471648])}"
            ]
          },
          "metadata": {},
          "execution_count": 47
        }
      ]
    },
    {
      "cell_type": "markdown",
      "metadata": {
        "id": "AcTK32zaAFuJ"
      },
      "source": [
        "Find Accuracy for all clusters"
      ]
    },
    {
      "cell_type": "code",
      "metadata": {
        "colab": {
          "base_uri": "https://localhost:8080/"
        },
        "id": "hziThlprDwNy",
        "outputId": "1100d85c-5c81-4f3f-c6a7-fd4b90d191ae"
      },
      "source": [
        "grid_params"
      ],
      "execution_count": 63,
      "outputs": [
        {
          "output_type": "execute_result",
          "data": {
            "text/plain": [
              "{'metric': ['euclidean', 'manhattan'],\n",
              " 'n_neighbors': [1, 3, 5, 7, 9, 11, 13, 15, 17, 19, 21, 23, 25, 27, 29, 31],\n",
              " 'weights': ['uniform', 'distance']}"
            ]
          },
          "metadata": {},
          "execution_count": 63
        }
      ]
    },
    {
      "cell_type": "code",
      "metadata": {
        "colab": {
          "base_uri": "https://localhost:8080/",
          "height": 180
        },
        "id": "_cZuHpckDALT",
        "outputId": "1e338374-6111-42fe-c82c-ab27ad2571c8"
      },
      "source": [
        "gs = GridSearchCV(KNeighborsClassifier(), grid_params, verbose= 1, cv =3, n_jobs= -1)\n",
        "gs.best_params_"
      ],
      "execution_count": 69,
      "outputs": [
        {
          "output_type": "error",
          "ename": "AttributeError",
          "evalue": "ignored",
          "traceback": [
            "\u001b[0;31m---------------------------------------------------------------------------\u001b[0m",
            "\u001b[0;31mAttributeError\u001b[0m                            Traceback (most recent call last)",
            "\u001b[0;32m<ipython-input-69-063957801d7f>\u001b[0m in \u001b[0;36m<module>\u001b[0;34m()\u001b[0m\n\u001b[1;32m      1\u001b[0m \u001b[0mgs\u001b[0m \u001b[0;34m=\u001b[0m \u001b[0mGridSearchCV\u001b[0m\u001b[0;34m(\u001b[0m\u001b[0mKNeighborsClassifier\u001b[0m\u001b[0;34m(\u001b[0m\u001b[0;34m)\u001b[0m\u001b[0;34m,\u001b[0m \u001b[0mgrid_params\u001b[0m\u001b[0;34m,\u001b[0m \u001b[0mverbose\u001b[0m\u001b[0;34m=\u001b[0m \u001b[0;36m1\u001b[0m\u001b[0;34m,\u001b[0m \u001b[0mcv\u001b[0m \u001b[0;34m=\u001b[0m\u001b[0;36m3\u001b[0m\u001b[0;34m,\u001b[0m \u001b[0mn_jobs\u001b[0m\u001b[0;34m=\u001b[0m \u001b[0;34m-\u001b[0m\u001b[0;36m1\u001b[0m\u001b[0;34m)\u001b[0m\u001b[0;34m\u001b[0m\u001b[0;34m\u001b[0m\u001b[0m\n\u001b[0;32m----> 2\u001b[0;31m \u001b[0mgs\u001b[0m\u001b[0;34m.\u001b[0m\u001b[0mbest_params_\u001b[0m\u001b[0;34m\u001b[0m\u001b[0;34m\u001b[0m\u001b[0m\n\u001b[0m",
            "\u001b[0;31mAttributeError\u001b[0m: 'GridSearchCV' object has no attribute 'best_params_'"
          ]
        }
      ]
    },
    {
      "cell_type": "code",
      "metadata": {
        "colab": {
          "base_uri": "https://localhost:8080/"
        },
        "id": "AcXPG2Nd-4N-",
        "outputId": "650914af-cb19-49e0-dde5-8fafb54e59e4"
      },
      "source": [
        "Clusters = [\"Cluster0\", \"Cluster1\", \"Cluster2\", \"Cluster3\", \"Cluster4\", \"Cluster5\", \"Cluster6\", \"Cluster7\", 'Cluster8']\n",
        "knx = KNeighborsClassifier(n_neighbors=29, metric= \"manhattan\")\n",
        "error = {}\n",
        "for clust in Clusters:\n",
        "  df = pd.read_csv(clust)\n",
        "  df['blood_pressure'] = df[\"ap_hi\"] / df[\"ap_lo\"]\n",
        "  df.drop([\"ap_hi\", \"ap_lo\"], axis= 1)\n",
        "  df = df[df['blood_pressure'] != math.inf]\n",
        "  df_targ = df.loc[:, \"cardio\"]\n",
        "  df_feat = df.drop(\"cardio\", axis = 1)\n",
        "  X_train, X_test, y_train, y_test = train_test_split(df_feat, df_targ, test_size = .33, random_state = 44)\n",
        "  gs = GridSearchCV(knx, grid_params, verbose= 1, cv =3, n_jobs= -1)\n",
        "  gs.fit(X_train, y_train)\n",
        "  knx = KNeighborsClassifier(n_neighbors= gs.best_params_['n_neighbors'], metric= gs.best_params_['metric'])\n",
        "  knx.fit(X_train, y_train)\n",
        "  error[clust] = knx.score(X_test, y_test)"
      ],
      "execution_count": 71,
      "outputs": [
        {
          "output_type": "stream",
          "name": "stdout",
          "text": [
            "Fitting 3 folds for each of 32 candidates, totalling 96 fits\n",
            "Fitting 3 folds for each of 32 candidates, totalling 96 fits\n",
            "Fitting 3 folds for each of 32 candidates, totalling 96 fits\n",
            "Fitting 3 folds for each of 32 candidates, totalling 96 fits\n",
            "Fitting 3 folds for each of 32 candidates, totalling 96 fits\n",
            "Fitting 3 folds for each of 32 candidates, totalling 96 fits\n",
            "Fitting 3 folds for each of 32 candidates, totalling 96 fits\n",
            "Fitting 3 folds for each of 32 candidates, totalling 96 fits\n",
            "Fitting 3 folds for each of 32 candidates, totalling 96 fits\n"
          ]
        }
      ]
    },
    {
      "cell_type": "code",
      "metadata": {
        "colab": {
          "base_uri": "https://localhost:8080/"
        },
        "id": "FFfhGBY1AhCw",
        "outputId": "5d65c229-869a-4bfd-9b40-26bf77e4c300"
      },
      "source": [
        "error"
      ],
      "execution_count": 72,
      "outputs": [
        {
          "output_type": "execute_result",
          "data": {
            "text/plain": [
              "{'Cluster0': 0.7133536320139191,\n",
              " 'Cluster1': 0.699475065616798,\n",
              " 'Cluster2': 0.5563798219584569,\n",
              " 'Cluster3': 0.6213942307692307,\n",
              " 'Cluster4': 0.8534201954397395,\n",
              " 'Cluster5': 0.5615763546798029,\n",
              " 'Cluster6': 0.5529793069060085,\n",
              " 'Cluster7': 0.5812973883740522,\n",
              " 'Cluster8': 0.5367903258864521}"
            ]
          },
          "metadata": {},
          "execution_count": 72
        }
      ]
    }
  ]
}