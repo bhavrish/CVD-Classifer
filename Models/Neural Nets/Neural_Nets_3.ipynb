{
  "nbformat": 4,
  "nbformat_minor": 0,
  "metadata": {
    "colab": {
      "name": "Neural Nets 3.ipynb",
      "provenance": [],
      "collapsed_sections": [],
      "authorship_tag": "ABX9TyPo1/DJK0SmOXknF4RoTve5",
      "include_colab_link": true
    },
    "kernelspec": {
      "name": "python3",
      "display_name": "Python 3"
    },
    "language_info": {
      "name": "python"
    }
  },
  "cells": [
    {
      "cell_type": "markdown",
      "metadata": {
        "id": "view-in-github",
        "colab_type": "text"
      },
      "source": [
        "<a href=\"https://colab.research.google.com/github/bhavrish/CVD-Classifer/blob/main/Neural_Nets_3.ipynb\" target=\"_parent\"><img src=\"https://colab.research.google.com/assets/colab-badge.svg\" alt=\"Open In Colab\"/></a>"
      ]
    },
    {
      "cell_type": "code",
      "metadata": {
        "id": "YMYjZwfI21-r"
      },
      "source": [
        "import keras\n",
        "import pandas as pd\n",
        "import matplotlib.pyplot as plt\n",
        "import math\n",
        "from sklearn.metrics import classification_report\n",
        "from sklearn import metrics\n",
        "from keras.wrappers.scikit_learn import KerasClassifier\n",
        "from sklearn.model_selection import cross_validate\n",
        "from sklearn.model_selection import GridSearchCV\n",
        "from sklearn.model_selection import train_test_split\n",
        "from sklearn.preprocessing import StandardScaler"
      ],
      "execution_count": 1,
      "outputs": []
    },
    {
      "cell_type": "code",
      "metadata": {
        "id": "ATRiOwHq2_Hz"
      },
      "source": [
        "grid_params = {\n",
        "    \"batch_size\": [10, 20, 50, 100, 200], \n",
        "    \"nb_epoch\": [100, 200, 300, 400, 500],\n",
        "    \"unit\": [2, 4, 8, 16, 32, 64, 128, 256]\n",
        "}"
      ],
      "execution_count": 2,
      "outputs": []
    },
    {
      "cell_type": "code",
      "metadata": {
        "id": "_Pr_cxG92_nl"
      },
      "source": [
        "# https://www.geeksforgeeks.org/hyperparameter-tuning-using-gridsearchcv-and-kerasclassifier/\n",
        "\n",
        "def nn_builder(unit):\n",
        "    # 3 hidden layers, 1 input layer, 1 output layer\n",
        "    model = keras.models.Sequential()\n",
        "    model.add(keras.layers.Dense(units=unit, activation='relu'))\n",
        "    model.add(keras.layers.Dense(units=unit, activation='relu'))\n",
        "    model.add(keras.layers.Dense(units=unit, activation='relu'))\n",
        "    model.add(keras.layers.Dense(units=1, activation='sigmoid'))\n",
        "    model.compile(optimizer = 'adam', loss = 'binary_crossentropy', metrics = ['accuracy'])\n",
        "    return model"
      ],
      "execution_count": 3,
      "outputs": []
    },
    {
      "cell_type": "code",
      "metadata": {
        "colab": {
          "base_uri": "https://localhost:8080/"
        },
        "id": "P951NISj3E5t",
        "outputId": "5ddccf4a-7612-4fc3-decc-428812ec7fe0"
      },
      "source": [
        "Clusters = [\"CLUSTER0\", \"CLUSTER1\", \"CLUSTER2\", \"CLUSTER3\", \"CLUSTER4\", \"CLUSTER5\"]\n",
        "accuracyDict = {}\n",
        "numEstimatorsDict = {}\n",
        "\n",
        "for clust in Clusters:\n",
        "    # Preprocessing\n",
        "    path_k = \"/content/\" + clust\n",
        "    df = pd.read_csv(path_k, delimiter=',')\n",
        "    df = df.iloc[:,2:] # drop original/new ids\n",
        "    df_feat = df.iloc[:,:-1] # everything but last column\n",
        "    y = df.iloc[:,-1] #last column\n",
        "    scaler = StandardScaler()\n",
        "    scaled_features = scaler.fit_transform(df_feat)\n",
        "    X = pd.DataFrame(scaled_features)\n",
        "    X_train, X_test, y_train, y_test = train_test_split(X, y, test_size=0.3, random_state=0)\n",
        "    \n",
        "    # Create model\n",
        "    NN = KerasClassifier(build_fn=nn_builder)\n",
        "    \n",
        "    # Train model\n",
        "    X_train, X_test, y_train, y_test = train_test_split(X, y, test_size=0.3, random_state=0)\n",
        "    gs = GridSearchCV(NN, grid_params, verbose= 1, cv= 3, n_jobs= -1)\n",
        "    gs.fit(X_train, y_train)\n",
        "\n",
        "    # Store accuracies\n",
        "    y_pred = gs.predict(X_test)\n",
        "    accuracyDict[clust] = metrics.accuracy_score(y_test, y_pred)\n",
        "\n",
        "    # Store best # of estimtators\n",
        "    numEstimatorsDict[clust] = gs.best_params_\n",
        "    \n",
        "print(accuracyDict)\n",
        "print(numEstimatorsDict)"
      ],
      "execution_count": 4,
      "outputs": [
        {
          "output_type": "stream",
          "name": "stdout",
          "text": [
            "Fitting 3 folds for each of 200 candidates, totalling 600 fits\n"
          ]
        },
        {
          "output_type": "stream",
          "name": "stderr",
          "text": [
            "/usr/local/lib/python3.7/dist-packages/ipykernel_launcher.py:18: DeprecationWarning: KerasClassifier is deprecated, use Sci-Keras (https://github.com/adriangb/scikeras) instead.\n"
          ]
        },
        {
          "output_type": "stream",
          "name": "stdout",
          "text": [
            "470/470 [==============================] - 2s 2ms/step - loss: 0.4842 - accuracy: 0.8102\n"
          ]
        },
        {
          "output_type": "stream",
          "name": "stderr",
          "text": [
            "/usr/local/lib/python3.7/dist-packages/ipykernel_launcher.py:18: DeprecationWarning: KerasClassifier is deprecated, use Sci-Keras (https://github.com/adriangb/scikeras) instead.\n"
          ]
        },
        {
          "output_type": "stream",
          "name": "stdout",
          "text": [
            "Fitting 3 folds for each of 200 candidates, totalling 600 fits\n",
            "84/84 [==============================] - 1s 2ms/step - loss: 0.6127 - accuracy: 0.6726\n"
          ]
        },
        {
          "output_type": "stream",
          "name": "stderr",
          "text": [
            "/usr/local/lib/python3.7/dist-packages/ipykernel_launcher.py:18: DeprecationWarning: KerasClassifier is deprecated, use Sci-Keras (https://github.com/adriangb/scikeras) instead.\n"
          ]
        },
        {
          "output_type": "stream",
          "name": "stdout",
          "text": [
            "Fitting 3 folds for each of 200 candidates, totalling 600 fits\n",
            "127/127 [==============================] - 1s 2ms/step - loss: 0.5335 - accuracy: 0.7549\n"
          ]
        },
        {
          "output_type": "stream",
          "name": "stderr",
          "text": [
            "/usr/local/lib/python3.7/dist-packages/ipykernel_launcher.py:18: DeprecationWarning: KerasClassifier is deprecated, use Sci-Keras (https://github.com/adriangb/scikeras) instead.\n"
          ]
        },
        {
          "output_type": "stream",
          "name": "stdout",
          "text": [
            "Fitting 3 folds for each of 200 candidates, totalling 600 fits\n",
            "286/286 [==============================] - 1s 3ms/step - loss: 0.5576 - accuracy: 0.7338\n"
          ]
        },
        {
          "output_type": "stream",
          "name": "stderr",
          "text": [
            "/usr/local/lib/python3.7/dist-packages/ipykernel_launcher.py:18: DeprecationWarning: KerasClassifier is deprecated, use Sci-Keras (https://github.com/adriangb/scikeras) instead.\n"
          ]
        },
        {
          "output_type": "stream",
          "name": "stdout",
          "text": [
            "Fitting 3 folds for each of 200 candidates, totalling 600 fits\n",
            "52/52 [==============================] - 1s 8ms/step - loss: 0.5898 - accuracy: 0.6947\n"
          ]
        },
        {
          "output_type": "stream",
          "name": "stderr",
          "text": [
            "/usr/local/lib/python3.7/dist-packages/ipykernel_launcher.py:18: DeprecationWarning: KerasClassifier is deprecated, use Sci-Keras (https://github.com/adriangb/scikeras) instead.\n"
          ]
        },
        {
          "output_type": "stream",
          "name": "stdout",
          "text": [
            "Fitting 3 folds for each of 200 candidates, totalling 600 fits\n",
            "934/934 [==============================] - 3s 3ms/step - loss: 0.5767 - accuracy: 0.6980\n",
            "{'CLUSTER0': 0.8131677018633541, 'CLUSTER1': 0.6879551820728291, 'CLUSTER2': 0.7476979742173112, 'CLUSTER3': 0.7563368765331153, 'CLUSTER4': 0.6886133032694476, 'CLUSTER5': 0.7052131516439555}\n",
            "{'CLUSTER0': {'batch_size': 20, 'nb_epoch': 500, 'unit': 128}, 'CLUSTER1': {'batch_size': 50, 'nb_epoch': 100, 'unit': 128}, 'CLUSTER2': {'batch_size': 20, 'nb_epoch': 100, 'unit': 128}, 'CLUSTER3': {'batch_size': 10, 'nb_epoch': 500, 'unit': 256}, 'CLUSTER4': {'batch_size': 200, 'nb_epoch': 100, 'unit': 256}, 'CLUSTER5': {'batch_size': 20, 'nb_epoch': 100, 'unit': 64}}\n"
          ]
        }
      ]
    }
  ]
}