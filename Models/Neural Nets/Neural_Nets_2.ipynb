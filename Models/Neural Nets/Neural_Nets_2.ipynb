{
  "nbformat": 4,
  "nbformat_minor": 0,
  "metadata": {
    "colab": {
      "name": "Neural Nets 2.ipynb",
      "provenance": [],
      "collapsed_sections": [],
      "authorship_tag": "ABX9TyOsiDl4yR554ZvaUdL0iHJR",
      "include_colab_link": true
    },
    "kernelspec": {
      "name": "python3",
      "display_name": "Python 3"
    },
    "language_info": {
      "name": "python"
    }
  },
  "cells": [
    {
      "cell_type": "markdown",
      "metadata": {
        "id": "view-in-github",
        "colab_type": "text"
      },
      "source": [
        "<a href=\"https://colab.research.google.com/github/bhavrish/CVD-Classifer/blob/main/Models/Neural%20Nets/Neural_Nets_2.ipynb\" target=\"_parent\"><img src=\"https://colab.research.google.com/assets/colab-badge.svg\" alt=\"Open In Colab\"/></a>"
      ]
    },
    {
      "cell_type": "code",
      "metadata": {
        "id": "YMYjZwfI21-r"
      },
      "source": [
        "import keras\n",
        "import pandas as pd\n",
        "import matplotlib.pyplot as plt\n",
        "import math\n",
        "from sklearn.metrics import classification_report\n",
        "from sklearn import metrics\n",
        "from keras.wrappers.scikit_learn import KerasClassifier\n",
        "from sklearn.model_selection import cross_validate\n",
        "from sklearn.model_selection import GridSearchCV\n",
        "from sklearn.model_selection import train_test_split\n",
        "from sklearn.preprocessing import StandardScaler"
      ],
      "execution_count": 1,
      "outputs": []
    },
    {
      "cell_type": "code",
      "metadata": {
        "id": "ATRiOwHq2_Hz"
      },
      "source": [
        "grid_params = {\n",
        "    \"batch_size\": [20, 25, 50, 100, 200], \n",
        "    \"nb_epoch\": [100, 200, 300, 400, 500],\n",
        "    \"unit\": [2, 4, 8, 16, 32, 64]\n",
        "}"
      ],
      "execution_count": null,
      "outputs": []
    },
    {
      "cell_type": "code",
      "metadata": {
        "id": "_Pr_cxG92_nl"
      },
      "source": [
        "# https://www.geeksforgeeks.org/hyperparameter-tuning-using-gridsearchcv-and-kerasclassifier/\n",
        "\n",
        "def nn_builder(unit):\n",
        "    # 2 hidden layers, 1 input layer, 1 output layer\n",
        "    model = keras.models.Sequential()\n",
        "    model.add(keras.layers.Dense(units=unit, activation='relu'))\n",
        "    model.add(keras.layers.Dense(units=unit, activation='relu'))\n",
        "    model.add(keras.layers.Dense(units=1, activation='sigmoid'))\n",
        "    model.compile(optimizer = 'adam', loss = 'binary_crossentropy', metrics = ['accuracy'])\n",
        "    return model"
      ],
      "execution_count": 2,
      "outputs": []
    },
    {
      "cell_type": "code",
      "metadata": {
        "colab": {
          "base_uri": "https://localhost:8080/"
        },
        "id": "P951NISj3E5t",
        "outputId": "e2690e59-3097-4f99-be7a-5b7c20c68be7"
      },
      "source": [
        "Clusters = [\"CLUSTER0\", \"CLUSTER1\", \"CLUSTER2\", \"CLUSTER3\", \"CLUSTER4\", \"CLUSTER5\"]\n",
        "accuracyDict = {}\n",
        "numEstimatorsDict = {}\n",
        "\n",
        "for clust in Clusters:\n",
        "    # Preprocessing\n",
        "    path_k = \"/content/\" + clust\n",
        "    df = pd.read_csv(path_k, delimiter=',')\n",
        "    df = df.iloc[:,2:] # drop original/new ids\n",
        "    df_feat = df.iloc[:,:-1] # everything but last column\n",
        "    y = df.iloc[:,-1] #last column\n",
        "    scaler = StandardScaler()\n",
        "    scaled_features = scaler.fit_transform(df_feat)\n",
        "    X = pd.DataFrame(scaled_features)\n",
        "    X_train, X_test, y_train, y_test = train_test_split(X, y, test_size=0.3, random_state=0)\n",
        "    \n",
        "    # Create model\n",
        "    NN = KerasClassifier(build_fn=nn_builder)\n",
        "    \n",
        "    # Train model\n",
        "    X_train, X_test, y_train, y_test = train_test_split(X, y, test_size=0.3, random_state=0)\n",
        "    gs = GridSearchCV(NN, grid_params, verbose= 1, cv= 3, n_jobs= -1)\n",
        "    gs.fit(X_train, y_train)\n",
        "\n",
        "    # Store accuracies\n",
        "    y_pred = gs.predict(X_test)\n",
        "    accuracyDict[clust] = metrics.accuracy_score(y_test, y_pred)\n",
        "\n",
        "    # Store best # of estimtators\n",
        "    numEstimatorsDict[clust] = gs.best_params_\n",
        "    \n",
        "print(accuracyDict)\n",
        "print(numEstimatorsDict)"
      ],
      "execution_count": null,
      "outputs": [
        {
          "output_type": "stream",
          "name": "stdout",
          "text": [
            "Fitting 3 folds for each of 150 candidates, totalling 450 fits\n"
          ]
        },
        {
          "output_type": "stream",
          "name": "stderr",
          "text": [
            "/usr/local/lib/python3.7/dist-packages/ipykernel_launcher.py:18: DeprecationWarning: KerasClassifier is deprecated, use Sci-Keras (https://github.com/adriangb/scikeras) instead.\n"
          ]
        },
        {
          "output_type": "stream",
          "name": "stdout",
          "text": [
            "94/94 [==============================] - 1s 1ms/step - loss: 0.5959 - accuracy: 0.7236\n"
          ]
        },
        {
          "output_type": "stream",
          "name": "stderr",
          "text": [
            "/usr/local/lib/python3.7/dist-packages/ipykernel_launcher.py:18: DeprecationWarning: KerasClassifier is deprecated, use Sci-Keras (https://github.com/adriangb/scikeras) instead.\n"
          ]
        },
        {
          "output_type": "stream",
          "name": "stdout",
          "text": [
            "Fitting 3 folds for each of 150 candidates, totalling 450 fits\n",
            "209/209 [==============================] - 1s 2ms/step - loss: 0.6235 - accuracy: 0.6582\n"
          ]
        },
        {
          "output_type": "stream",
          "name": "stderr",
          "text": [
            "/usr/local/lib/python3.7/dist-packages/ipykernel_launcher.py:18: DeprecationWarning: KerasClassifier is deprecated, use Sci-Keras (https://github.com/adriangb/scikeras) instead.\n"
          ]
        },
        {
          "output_type": "stream",
          "name": "stdout",
          "text": [
            "Fitting 3 folds for each of 150 candidates, totalling 450 fits\n",
            "127/127 [==============================] - 1s 2ms/step - loss: 0.5520 - accuracy: 0.7435\n"
          ]
        },
        {
          "output_type": "stream",
          "name": "stderr",
          "text": [
            "/usr/local/lib/python3.7/dist-packages/ipykernel_launcher.py:18: DeprecationWarning: KerasClassifier is deprecated, use Sci-Keras (https://github.com/adriangb/scikeras) instead.\n"
          ]
        },
        {
          "output_type": "stream",
          "name": "stdout",
          "text": [
            "Fitting 3 folds for each of 150 candidates, totalling 450 fits\n",
            "143/143 [==============================] - 1s 2ms/step - loss: 0.5673 - accuracy: 0.7261\n"
          ]
        },
        {
          "output_type": "stream",
          "name": "stderr",
          "text": [
            "/usr/local/lib/python3.7/dist-packages/ipykernel_launcher.py:18: DeprecationWarning: KerasClassifier is deprecated, use Sci-Keras (https://github.com/adriangb/scikeras) instead.\n"
          ]
        },
        {
          "output_type": "stream",
          "name": "stdout",
          "text": [
            "Fitting 3 folds for each of 150 candidates, totalling 450 fits\n",
            "207/207 [==============================] - 1s 2ms/step - loss: 0.5896 - accuracy: 0.6967\n"
          ]
        },
        {
          "output_type": "stream",
          "name": "stderr",
          "text": [
            "/usr/local/lib/python3.7/dist-packages/ipykernel_launcher.py:18: DeprecationWarning: KerasClassifier is deprecated, use Sci-Keras (https://github.com/adriangb/scikeras) instead.\n"
          ]
        },
        {
          "output_type": "stream",
          "name": "stdout",
          "text": [
            "Fitting 3 folds for each of 150 candidates, totalling 450 fits\n",
            "934/934 [==============================] - 2s 2ms/step - loss: 0.5768 - accuracy: 0.6986\n",
            "{'CLUSTER0': 0.8131677018633541, 'CLUSTER1': 0.6868347338935574, 'CLUSTER2': 0.7440147329650092, 'CLUSTER3': 0.7636958299264105, 'CLUSTER4': 0.6998872604284103, 'CLUSTER5': 0.704338042255282}\n",
            "{'CLUSTER0': {'batch_size': 100, 'nb_epoch': 400, 'unit': 16}, 'CLUSTER1': {'batch_size': 20, 'nb_epoch': 400, 'unit': 64}, 'CLUSTER2': {'batch_size': 20, 'nb_epoch': 200, 'unit': 64}, 'CLUSTER3': {'batch_size': 20, 'nb_epoch': 100, 'unit': 64}, 'CLUSTER4': {'batch_size': 50, 'nb_epoch': 400, 'unit': 64}, 'CLUSTER5': {'batch_size': 20, 'nb_epoch': 300, 'unit': 64}}\n"
          ]
        }
      ]
    },
    {
      "cell_type": "code",
      "source": [
        "# Save models\n",
        "\n",
        "from sklearn.pipeline import make_pipeline\n",
        "import pickle\n",
        "\n",
        "nn_best_clusters = [1, 3]\n",
        "best_epochs = [400, 100]\n",
        "\n",
        "pos = 0\n",
        "\n",
        "for k in nn_best_clusters:\n",
        "    inputPath = \"/content/Cluster\" + str(k)\n",
        "    outputPath = \"./Cluster_\" + str(k) + \"_NN_pipeline.pkl\"\n",
        "    \n",
        "    df = pd.read_csv(inputPath, delimiter=',')\n",
        "    df = df.iloc[:,2:] # drop original/new ids\n",
        "\n",
        "    X = df.iloc[:,:-1] # everything but last column\n",
        "    y = df.iloc[:,-1] #last column\n",
        "\n",
        "    scaler = StandardScaler()\n",
        "    scaled_features = scaler.fit_transform(X)\n",
        "    X = pd.DataFrame(scaled_features)\n",
        "\n",
        "    X_train, X_test, y_train, y_test = train_test_split(X, y, test_size=0.3, random_state=0)\n",
        "\n",
        "    NN = KerasClassifier(build_fn=nn_builder, batch_size=20, nb_epoch=best_epochs[pos], unit=64)\n",
        "    NN.fit(X_train, y_train)\n",
        "    \n",
        "    # Create pipeline\n",
        "    pipeline = make_pipeline(scaler, NN)\n",
        "    \n",
        "    # Write model to file\n",
        "    pickle.dump(pipeline, open(outputPath, 'wb')) "
      ],
      "metadata": {
        "id": "Qd-YJtisfNKi",
        "outputId": "3dfe7929-d4b4-4a0f-b97c-6ee8d0307c3b",
        "colab": {
          "base_uri": "https://localhost:8080/"
        }
      },
      "execution_count": 4,
      "outputs": [
        {
          "output_type": "stream",
          "name": "stderr",
          "text": [
            "/usr/local/lib/python3.7/dist-packages/ipykernel_launcher.py:27: DeprecationWarning: KerasClassifier is deprecated, use Sci-Keras (https://github.com/adriangb/scikeras) instead.\n"
          ]
        },
        {
          "output_type": "stream",
          "name": "stdout",
          "text": [
            "209/209 [==============================] - 3s 5ms/step - loss: 0.6149 - accuracy: 0.6685\n",
            "INFO:tensorflow:Assets written to: ram://11bc2ef2-11ce-4863-af93-c467566b86f2/assets\n"
          ]
        },
        {
          "output_type": "stream",
          "name": "stderr",
          "text": [
            "/usr/local/lib/python3.7/dist-packages/ipykernel_launcher.py:27: DeprecationWarning: KerasClassifier is deprecated, use Sci-Keras (https://github.com/adriangb/scikeras) instead.\n"
          ]
        },
        {
          "output_type": "stream",
          "name": "stdout",
          "text": [
            "143/143 [==============================] - 2s 4ms/step - loss: 0.5684 - accuracy: 0.7236\n",
            "INFO:tensorflow:Assets written to: ram://3b341273-bcf4-418f-852a-c3789a5aa673/assets\n"
          ]
        }
      ]
    }
  ]
}