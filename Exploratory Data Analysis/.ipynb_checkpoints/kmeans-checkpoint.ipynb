{
 "cells": [
  {
   "cell_type": "code",
   "execution_count": 1,
   "metadata": {
    "id": "6Zd0n-CNbOq-"
   },
   "outputs": [],
   "source": [
    "import pandas as pd\n",
    "import matplotlib.pyplot as plt\n",
    "from sklearn.cluster import KMeans\n",
    "import csv"
   ]
  },
  {
   "cell_type": "code",
   "execution_count": 2,
   "metadata": {
    "colab": {
     "base_uri": "https://localhost:8080/"
    },
    "id": "wU-RYpvobOrA",
    "outputId": "4c31680f-a197-4364-c018-2ec7ef261563"
   },
   "outputs": [
    {
     "name": "stdout",
     "output_type": "stream",
     "text": [
      "   id    age  gender  height  weight  ap_hi  ap_lo  cholesterol  gluc  smoke  \\\n",
      "0   0  18393       2     168    62.0    110     80            1     1      0   \n",
      "1   1  20228       1     156    85.0    140     90            3     1      0   \n",
      "2   2  18857       1     165    64.0    130     70            3     1      0   \n",
      "3   3  17623       2     169    82.0    150    100            1     1      0   \n",
      "4   4  17474       1     156    56.0    100     60            1     1      0   \n",
      "\n",
      "   alco  active  cardio  \n",
      "0     0       1       0  \n",
      "1     0       1       1  \n",
      "2     0       0       1  \n",
      "3     0       1       1  \n",
      "4     0       0       0  \n"
     ]
    }
   ],
   "source": [
    "# read in data\n",
    "df = pd.read_csv('../Data/cardio_train.csv', delimiter=';')\n",
    "print(df.head())"
   ]
  },
  {
   "cell_type": "code",
   "execution_count": 3,
   "metadata": {
    "colab": {
     "base_uri": "https://localhost:8080/",
     "height": 206
    },
    "id": "WCa79g8kbOrB",
    "outputId": "1ace11e7-ed56-43d2-d169-a7ded12a5fe0"
   },
   "outputs": [
    {
     "data": {
      "text/html": [
       "<div>\n",
       "<style scoped>\n",
       "    .dataframe tbody tr th:only-of-type {\n",
       "        vertical-align: middle;\n",
       "    }\n",
       "\n",
       "    .dataframe tbody tr th {\n",
       "        vertical-align: top;\n",
       "    }\n",
       "\n",
       "    .dataframe thead th {\n",
       "        text-align: right;\n",
       "    }\n",
       "</style>\n",
       "<table border=\"1\" class=\"dataframe\">\n",
       "  <thead>\n",
       "    <tr style=\"text-align: right;\">\n",
       "      <th></th>\n",
       "      <th>age</th>\n",
       "      <th>gender</th>\n",
       "      <th>height</th>\n",
       "      <th>weight</th>\n",
       "      <th>ap_hi</th>\n",
       "      <th>ap_lo</th>\n",
       "      <th>cholesterol</th>\n",
       "      <th>gluc</th>\n",
       "      <th>smoke</th>\n",
       "      <th>alco</th>\n",
       "      <th>active</th>\n",
       "    </tr>\n",
       "  </thead>\n",
       "  <tbody>\n",
       "    <tr>\n",
       "      <th>0</th>\n",
       "      <td>18393</td>\n",
       "      <td>2</td>\n",
       "      <td>168</td>\n",
       "      <td>62.0</td>\n",
       "      <td>110</td>\n",
       "      <td>80</td>\n",
       "      <td>1</td>\n",
       "      <td>1</td>\n",
       "      <td>0</td>\n",
       "      <td>0</td>\n",
       "      <td>1</td>\n",
       "    </tr>\n",
       "    <tr>\n",
       "      <th>1</th>\n",
       "      <td>20228</td>\n",
       "      <td>1</td>\n",
       "      <td>156</td>\n",
       "      <td>85.0</td>\n",
       "      <td>140</td>\n",
       "      <td>90</td>\n",
       "      <td>3</td>\n",
       "      <td>1</td>\n",
       "      <td>0</td>\n",
       "      <td>0</td>\n",
       "      <td>1</td>\n",
       "    </tr>\n",
       "    <tr>\n",
       "      <th>2</th>\n",
       "      <td>18857</td>\n",
       "      <td>1</td>\n",
       "      <td>165</td>\n",
       "      <td>64.0</td>\n",
       "      <td>130</td>\n",
       "      <td>70</td>\n",
       "      <td>3</td>\n",
       "      <td>1</td>\n",
       "      <td>0</td>\n",
       "      <td>0</td>\n",
       "      <td>0</td>\n",
       "    </tr>\n",
       "    <tr>\n",
       "      <th>3</th>\n",
       "      <td>17623</td>\n",
       "      <td>2</td>\n",
       "      <td>169</td>\n",
       "      <td>82.0</td>\n",
       "      <td>150</td>\n",
       "      <td>100</td>\n",
       "      <td>1</td>\n",
       "      <td>1</td>\n",
       "      <td>0</td>\n",
       "      <td>0</td>\n",
       "      <td>1</td>\n",
       "    </tr>\n",
       "    <tr>\n",
       "      <th>4</th>\n",
       "      <td>17474</td>\n",
       "      <td>1</td>\n",
       "      <td>156</td>\n",
       "      <td>56.0</td>\n",
       "      <td>100</td>\n",
       "      <td>60</td>\n",
       "      <td>1</td>\n",
       "      <td>1</td>\n",
       "      <td>0</td>\n",
       "      <td>0</td>\n",
       "      <td>0</td>\n",
       "    </tr>\n",
       "  </tbody>\n",
       "</table>\n",
       "</div>"
      ],
      "text/plain": [
       "     age  gender  height  weight  ap_hi  ap_lo  cholesterol  gluc  smoke  \\\n",
       "0  18393       2     168    62.0    110     80            1     1      0   \n",
       "1  20228       1     156    85.0    140     90            3     1      0   \n",
       "2  18857       1     165    64.0    130     70            3     1      0   \n",
       "3  17623       2     169    82.0    150    100            1     1      0   \n",
       "4  17474       1     156    56.0    100     60            1     1      0   \n",
       "\n",
       "   alco  active  \n",
       "0     0       1  \n",
       "1     0       1  \n",
       "2     0       0  \n",
       "3     0       1  \n",
       "4     0       0  "
      ]
     },
     "execution_count": 3,
     "metadata": {},
     "output_type": "execute_result"
    }
   ],
   "source": [
    "df_feat = df.iloc[:,1:-1] # eventhing but last column\n",
    "target = df.iloc[:,-1] #last column\n",
    "\n",
    "df_feat.head() # age in days"
   ]
  },
  {
   "cell_type": "code",
   "execution_count": 4,
   "metadata": {
    "colab": {
     "base_uri": "https://localhost:8080/"
    },
    "id": "0ddYqVUXbOrB",
    "outputId": "d4e49a60-12ad-4051-8a34-873b48496536"
   },
   "outputs": [
    {
     "name": "stdout",
     "output_type": "stream",
     "text": [
      "[[-0.43606151  1.36405487  0.44345206 ... -0.31087913 -0.23838436\n",
      "   0.49416711]\n",
      " [ 0.30768633 -0.73310834 -1.01816804 ... -0.31087913 -0.23838436\n",
      "   0.49416711]\n",
      " [-0.24799666 -0.73310834  0.07804703 ... -0.31087913 -0.23838436\n",
      "  -2.02360695]\n",
      " ...\n",
      " [-0.16328642  1.36405487  2.27047718 ... -0.31087913  4.19490608\n",
      "  -2.02360695]\n",
      " [ 1.20058905 -0.73310834 -0.16555632 ... -0.31087913 -0.23838436\n",
      "  -2.02360695]\n",
      " [ 0.43414373 -0.73310834  0.68705541 ... -0.31087913 -0.23838436\n",
      "   0.49416711]]\n"
     ]
    }
   ],
   "source": [
    "from sklearn.preprocessing import StandardScaler\n",
    "# standardize: mean = 0, std = 1\n",
    "scaler = StandardScaler()\n",
    "scaled_features = scaler.fit_transform(df_feat)\n",
    "scaled_features.shape # np array\n",
    "print(scaled_features)\n",
    "\n",
    "# citation: https://realpython.com/k-means-clustering-python/"
   ]
  },
  {
   "cell_type": "code",
   "execution_count": 5,
   "metadata": {},
   "outputs": [],
   "source": [
    "max_clusters = 20\n",
    "\n",
    "centers = [] # store centers\n",
    "errors = [] # SSE\n",
    "\n",
    "# store errors\n",
    "\n",
    "kmeans_kwargs = {\n",
    "    \"init\": \"random\",\n",
    "    \"n_init\": 10,\n",
    "    \"max_iter\": 300,\n",
    "    \"random_state\": 42,\n",
    "}\n",
    "\n",
    "for i in range(1,max_clusters+1):\n",
    "    kmeans = KMeans(n_clusters=i, **kmeans_kwargs)  \n",
    "    kmeans.fit(scaled_features)\n",
    "    centers.append(kmeans.cluster_centers_) # centers\n",
    "    errors.append(kmeans.inertia_) # errors\n",
    "    #print(kmeans.inertia_)\n",
    "\n",
    " "
   ]
  },
  {
   "cell_type": "code",
   "execution_count": 6,
   "metadata": {
    "colab": {
     "base_uri": "https://localhost:8080/",
     "height": 251
    },
    "id": "2lXMhINpbOrC",
    "outputId": "f44705aa-343f-43b3-d423-a1f852bd93d7"
   },
   "outputs": [
    {
     "data": {
      "image/png": "[encoded data removed]",
      "text/plain": [
       "<Figure size 864x432 with 1 Axes>"
      ]
     },
     "metadata": {},
     "output_type": "display_data"
    }
   ],
   "source": [
    "# plot results (N on error)\n",
    "plt.style.use(\"fivethirtyeight\")\n",
    "plt.figure(figsize=(12, 6))\n",
    "plt.plot(range(1, max_clusters+1), errors)\n",
    "plt.xticks(range(1, max_clusters+1))\n",
    "plt.xlabel(\"Number of Clusters\")\n",
    "plt.ylabel(\"Error (SSE)\")\n",
    "plt.show()"
   ]
  },
  {
   "cell_type": "code",
   "execution_count": 7,
   "metadata": {
    "id": "Lh_gEyFrbOrD"
   },
   "outputs": [],
   "source": [
    "from kneed import KneeLocator\n",
    "# find optimal number of clusters\n",
    "kl = KneeLocator(\n",
    "    range(1, max_clusters+1), errors, curve=\"convex\", direction=\"decreasing\"\n",
    ")\n",
    "\n",
    "opt_n = kl.elbow # 9 \n"
   ]
  },
  {
   "cell_type": "code",
   "execution_count": 8,
   "metadata": {
    "colab": {
     "base_uri": "https://localhost:8080/"
    },
    "id": "gM4_rtlbbOrD",
    "outputId": "27760021-040f-4b22-c8ee-0c0eb1530eef"
   },
   "outputs": [],
   "source": [
    "opt_n = 9\n",
    "# for optimal number of clusters opt_n = 9\n",
    "kmeans = KMeans(\n",
    "    init=\"random\",\n",
    "    n_clusters=opt_n,\n",
    "    n_init=10,\n",
    "    max_iter=300,\n",
    "    random_state=42\n",
    ")\n",
    "kmeans.fit(scaled_features)\n",
    "error = kmeans.inertia_\n",
    "labels = kmeans.labels_[:] # get labels # (70000,)\n",
    "# sum counts 1 to opt_n --> size of clusters"
   ]
  },
  {
   "cell_type": "code",
   "execution_count": 9,
   "metadata": {
    "colab": {
     "base_uri": "https://localhost:8080/",
     "height": 206
    },
    "id": "EeRXRVWIgex7",
    "outputId": "d8d4b694-54f6-4927-e3d5-d30a46fff4ab"
   },
   "outputs": [
    {
     "data": {
      "text/html": [
       "<div>\n",
       "<style scoped>\n",
       "    .dataframe tbody tr th:only-of-type {\n",
       "        vertical-align: middle;\n",
       "    }\n",
       "\n",
       "    .dataframe tbody tr th {\n",
       "        vertical-align: top;\n",
       "    }\n",
       "\n",
       "    .dataframe thead th {\n",
       "        text-align: right;\n",
       "    }\n",
       "</style>\n",
       "<table border=\"1\" class=\"dataframe\">\n",
       "  <thead>\n",
       "    <tr style=\"text-align: right;\">\n",
       "      <th></th>\n",
       "      <th>id</th>\n",
       "      <th>age</th>\n",
       "      <th>gender</th>\n",
       "      <th>height</th>\n",
       "      <th>weight</th>\n",
       "      <th>ap_hi</th>\n",
       "      <th>ap_lo</th>\n",
       "      <th>cholesterol</th>\n",
       "      <th>gluc</th>\n",
       "      <th>smoke</th>\n",
       "      <th>alco</th>\n",
       "      <th>active</th>\n",
       "      <th>cardio</th>\n",
       "      <th>label</th>\n",
       "    </tr>\n",
       "  </thead>\n",
       "  <tbody>\n",
       "    <tr>\n",
       "      <th>0</th>\n",
       "      <td>0</td>\n",
       "      <td>18393</td>\n",
       "      <td>2</td>\n",
       "      <td>168</td>\n",
       "      <td>62.0</td>\n",
       "      <td>110</td>\n",
       "      <td>80</td>\n",
       "      <td>1</td>\n",
       "      <td>1</td>\n",
       "      <td>0</td>\n",
       "      <td>0</td>\n",
       "      <td>1</td>\n",
       "      <td>0</td>\n",
       "      <td>7</td>\n",
       "    </tr>\n",
       "    <tr>\n",
       "      <th>1</th>\n",
       "      <td>1</td>\n",
       "      <td>20228</td>\n",
       "      <td>1</td>\n",
       "      <td>156</td>\n",
       "      <td>85.0</td>\n",
       "      <td>140</td>\n",
       "      <td>90</td>\n",
       "      <td>3</td>\n",
       "      <td>1</td>\n",
       "      <td>0</td>\n",
       "      <td>0</td>\n",
       "      <td>1</td>\n",
       "      <td>1</td>\n",
       "      <td>2</td>\n",
       "    </tr>\n",
       "    <tr>\n",
       "      <th>2</th>\n",
       "      <td>2</td>\n",
       "      <td>18857</td>\n",
       "      <td>1</td>\n",
       "      <td>165</td>\n",
       "      <td>64.0</td>\n",
       "      <td>130</td>\n",
       "      <td>70</td>\n",
       "      <td>3</td>\n",
       "      <td>1</td>\n",
       "      <td>0</td>\n",
       "      <td>0</td>\n",
       "      <td>0</td>\n",
       "      <td>1</td>\n",
       "      <td>2</td>\n",
       "    </tr>\n",
       "    <tr>\n",
       "      <th>3</th>\n",
       "      <td>3</td>\n",
       "      <td>17623</td>\n",
       "      <td>2</td>\n",
       "      <td>169</td>\n",
       "      <td>82.0</td>\n",
       "      <td>150</td>\n",
       "      <td>100</td>\n",
       "      <td>1</td>\n",
       "      <td>1</td>\n",
       "      <td>0</td>\n",
       "      <td>0</td>\n",
       "      <td>1</td>\n",
       "      <td>1</td>\n",
       "      <td>7</td>\n",
       "    </tr>\n",
       "    <tr>\n",
       "      <th>4</th>\n",
       "      <td>4</td>\n",
       "      <td>17474</td>\n",
       "      <td>1</td>\n",
       "      <td>156</td>\n",
       "      <td>56.0</td>\n",
       "      <td>100</td>\n",
       "      <td>60</td>\n",
       "      <td>1</td>\n",
       "      <td>1</td>\n",
       "      <td>0</td>\n",
       "      <td>0</td>\n",
       "      <td>0</td>\n",
       "      <td>0</td>\n",
       "      <td>0</td>\n",
       "    </tr>\n",
       "  </tbody>\n",
       "</table>\n",
       "</div>"
      ],
      "text/plain": [
       "   id    age  gender  height  weight  ap_hi  ap_lo  cholesterol  gluc  smoke  \\\n",
       "0   0  18393       2     168    62.0    110     80            1     1      0   \n",
       "1   1  20228       1     156    85.0    140     90            3     1      0   \n",
       "2   2  18857       1     165    64.0    130     70            3     1      0   \n",
       "3   3  17623       2     169    82.0    150    100            1     1      0   \n",
       "4   4  17474       1     156    56.0    100     60            1     1      0   \n",
       "\n",
       "   alco  active  cardio  label  \n",
       "0     0       1       0      7  \n",
       "1     0       1       1      2  \n",
       "2     0       0       1      2  \n",
       "3     0       1       1      7  \n",
       "4     0       0       0      0  "
      ]
     },
     "execution_count": 9,
     "metadata": {},
     "output_type": "execute_result"
    }
   ],
   "source": [
    "df['label'] = labels\n",
    "df.head()"
   ]
  },
  {
   "cell_type": "code",
   "execution_count": 10,
   "metadata": {
    "colab": {
     "base_uri": "https://localhost:8080/"
    },
    "id": "41LiMXZ-jLbr",
    "outputId": "0767a1a1-410c-4471-f644-9620a7223594"
   },
   "outputs": [
    {
     "name": "stdout",
     "output_type": "stream",
     "text": [
      "    id    age  gender  height  weight  ap_hi  ap_lo  cholesterol  gluc  smoke  \\\n",
      "4    4  17474       1     156    56.0    100     60            1     1      0   \n",
      "5    8  21914       1     151    67.0    120     80            2     2      0   \n",
      "9   14  19834       1     164    68.0    110     60            1     1      0   \n",
      "12  18  14791       2     165    60.0    120     80            1     1      0   \n",
      "15  24  16782       2     172   112.0    120     80            1     1      0   \n",
      "\n",
      "    alco  active  cardio  label  \n",
      "4      0       0       0      0  \n",
      "5      0       0       0      0  \n",
      "9      0       0       0      0  \n",
      "12     0       0       0      0  \n",
      "15     0       0       1      0  \n",
      "      id    age  gender  height  weight  ap_hi  ap_lo  cholesterol  gluc  \\\n",
      "14    23  14532       2     181    95.0    130     90            1     1   \n",
      "62    81  20330       2     187   115.0    130     90            1     1   \n",
      "99   134  17363       1     167    71.0    120     80            2     1   \n",
      "101  136  18718       1     167    80.0    190     90            2     1   \n",
      "107  142  14499       2     164    48.0    110     70            1     2   \n",
      "\n",
      "     smoke  alco  active  cardio  label  \n",
      "14       1     1       1       0      1  \n",
      "62       0     1       1       0      1  \n",
      "99       0     1       1       1      1  \n",
      "101      0     1       0       0      1  \n",
      "107      1     1       1       1      1  \n",
      "    id    age  gender  height  weight  ap_hi  ap_lo  cholesterol  gluc  smoke  \\\n",
      "1    1  20228       1     156    85.0    140     90            3     1      0   \n",
      "2    2  18857       1     165    64.0    130     70            3     1      0   \n",
      "6    9  22113       1     157    93.0    130     80            3     1      0   \n",
      "22  32  23046       1     158    90.0    145     85            2     2      0   \n",
      "24  35  16608       1     170    68.0    150     90            3     1      0   \n",
      "\n",
      "    alco  active  cardio  label  \n",
      "1      0       1       1      2  \n",
      "2      0       0       1      2  \n",
      "6      0       1       0      2  \n",
      "22     0       1       1      2  \n",
      "24     0       1       1      2  \n",
      "      id    age  gender  height  weight  ap_hi  ap_lo  cholesterol  gluc  \\\n",
      "228  314  17489       2     183    98.0    160   1100            1     2   \n",
      "241  334  21932       2     157    60.0    160   1000            2     1   \n",
      "260  357  18217       1     150    83.0    140    800            1     1   \n",
      "329  458  23407       1     176    63.0    160   1000            2     2   \n",
      "345  482  18704       1     154    81.0    140   1000            2     1   \n",
      "\n",
      "     smoke  alco  active  cardio  label  \n",
      "228      1     0       1       1      3  \n",
      "241      0     0       0       1      3  \n",
      "260      0     0       1       1      3  \n",
      "329      0     0       0       1      3  \n",
      "345      0     0       1       1      3  \n",
      "    id    age  gender  height  weight  ap_hi  ap_lo  cholesterol  gluc  smoke  \\\n",
      "10  15  22530       1     169    80.0    120     80            1     1      0   \n",
      "13  21  19809       1     158    78.0    110     70            1     1      0   \n",
      "21  31  21413       1     157    69.0    130     80            1     1      0   \n",
      "23  33  23376       2     156    45.0    110     60            1     1      0   \n",
      "26  37  19559       1     156    59.0    130     90            1     1      0   \n",
      "\n",
      "    alco  active  cardio  label  \n",
      "10     0       1       0      4  \n",
      "13     0       1       0      4  \n",
      "21     0       1       0      4  \n",
      "23     0       1       0      4  \n",
      "26     0       1       0      4  \n",
      "     id    age  gender  height  weight  ap_hi  ap_lo  cholesterol  gluc  \\\n",
      "7    12  22584       2     178    95.0    130     90            3     3   \n",
      "17   27  16747       1     158    52.0    110     70            1     3   \n",
      "29   40  21057       2     169    74.0    130     70            1     3   \n",
      "53   68  14507       1     165    77.0    135     90            3     3   \n",
      "87  119  19663       2     166    94.0    140     90            2     3   \n",
      "\n",
      "    smoke  alco  active  cardio  label  \n",
      "7       0     0       1       1      5  \n",
      "17      0     0       1       0      5  \n",
      "29      0     0       0       0      5  \n",
      "53      0     0       1       1      5  \n",
      "87      0     0       1       1      5  \n",
      "    id    age  gender  height  weight  ap_hi  ap_lo  cholesterol  gluc  smoke  \\\n",
      "19  29  21755       2     162    56.0    120     70            1     1      1   \n",
      "38  52  23388       2     162    72.0    130     80            1     1      1   \n",
      "58  73  15901       2     172    84.0    140     90            1     1      1   \n",
      "59  74  20431       1     164    64.0    180     90            1     1      1   \n",
      "67  90  22099       2     171    97.0    150    100            3     1      1   \n",
      "\n",
      "    alco  active  cardio  label  \n",
      "19     0       1       0      6  \n",
      "38     0       1       1      6  \n",
      "58     0       1       1      6  \n",
      "59     0       1       1      6  \n",
      "67     0       1       1      6  \n",
      "    id    age  gender  height  weight  ap_hi  ap_lo  cholesterol  gluc  smoke  \\\n",
      "0    0  18393       2     168    62.0    110     80            1     1      0   \n",
      "3    3  17623       2     169    82.0    150    100            1     1      0   \n",
      "11  16  18815       2     173    60.0    120     80            1     1      0   \n",
      "20  30  19778       2     163    83.0    120     80            1     1      0   \n",
      "28  39  14574       2     166    66.0    120     80            1     1      0   \n",
      "\n",
      "    alco  active  cardio  label  \n",
      "0      0       1       0      7  \n",
      "3      0       1       1      7  \n",
      "11     0       1       0      7  \n",
      "20     0       1       0      7  \n",
      "28     0       1       0      7  \n",
      "    id    age  gender  height  weight  ap_hi  ap_lo  cholesterol  gluc  smoke  \\\n",
      "8   13  17668       1     158    71.0    110     70            1     1      0   \n",
      "25  36  14453       1     153    65.0    130    100            2     1      0   \n",
      "27  38  18085       1     159    78.0    120     80            1     1      0   \n",
      "32  44  14605       1     159    60.0    110     70            1     1      0   \n",
      "37  51  17976       1     164    70.0    130     90            1     1      0   \n",
      "\n",
      "    alco  active  cardio  label  \n",
      "8      0       1       0      8  \n",
      "25     0       1       0      8  \n",
      "27     0       1       0      8  \n",
      "32     0       1       0      8  \n",
      "37     0       1       0      8  \n"
     ]
    }
   ],
   "source": [
    "csv_name = \"group\" + str(i)\n",
    "\n",
    "for i in range(9):\n",
    "    csv_name = \"Cluster\" + str(i)\n",
    "    dfx = df[df['label'] == i]\n",
    "    dfx.drop(labels = \"label\", axis = 1).to_csv(csv_name)\n",
    "    print(dfx.head())"
   ]
  },
  {
   "cell_type": "code",
   "execution_count": 11,
   "metadata": {
    "colab": {
     "base_uri": "https://localhost:8080/"
    },
    "id": "MBv-OdXobOrE",
    "outputId": "6e8a4b46-050d-4942-eb1a-2555fbdbded8"
   },
   "outputs": [
    {
     "name": "stdout",
     "output_type": "stream",
     "text": [
      "[10790.  3691.  6970.   928. 14787.  5040.  4084. 12158. 11552.]\n"
     ]
    }
   ],
   "source": [
    "import numpy as np\n",
    "# check size of clusters \n",
    "\n",
    "cluster_sizes = np.zeros(opt_n)\n",
    "for label in labels:\n",
    "    cluster_sizes[label]+=1\n",
    "\n",
    "print(cluster_sizes) # size of clusters decreasing [4,7,8,0]\n",
    "\n",
    "# FUNCTION: cluster_id by size (decreasing) [TODO]"
   ]
  },
  {
   "cell_type": "markdown",
   "metadata": {
    "id": "d9K_XTW1bOrE"
   },
   "source": [
    "Feature selection: ANOVA F-test\n",
    "\n",
    "Some ideas:\n",
    "- Establish a baseline performance with all features\n",
    "- Try separate feature selection method for each input type\n",
    "- Try wrapper method (e.g. RFE) agnostic to input type"
   ]
  },
  {
   "cell_type": "code",
   "execution_count": null,
   "metadata": {
    "id": "S0q3cTSWbOrF"
   },
   "outputs": [],
   "source": [
    "# visualize \n",
    "# FIND two dimensions (features) to visualize [TODO]\n",
    "# **most distinct/different between clusters (scientific way)\n",
    "\n",
    "# PLOT [TODO]\n",
    "\n",
    "# test: age on ap_lo (blood pressure)"
   ]
  },
  {
   "cell_type": "code",
   "execution_count": null,
   "metadata": {
    "id": "UFj-sEpPbOrF"
   },
   "outputs": [],
   "source": [
    "# pick three largest clusters (most data points) out of optimal sorting to train models on + general model\n",
    "# Note: may only be working on subset of data\n",
    "\n",
    "# separate top clusters into separate data frames [TODO]\n",
    "## interpret clusters [TODO] - feature summaries for each"
   ]
  },
  {
   "cell_type": "code",
   "execution_count": null,
   "metadata": {},
   "outputs": [],
   "source": [
    "# Save model\n",
    "\n",
    "import pickle\n",
    "\n",
    "outputPath = \"../Final Models/Kmeans.pkl\"\n",
    "\n",
    "# Write model to file\n",
    "pickle.dump(kmeans, open(outputPath, 'wb'))"
   ]
  },
  {
   "cell_type": "markdown",
   "metadata": {
    "id": "TBzblGSXbOrG"
   },
   "source": [
    "Models to try for binary classification\n",
    "- penalized logistic regression\n",
    "    - L1-norm (\"lasso\"), L2-norm (\"ridge\"), a combination of the two (\"elastic\"), or a penalty associated to groups of variables (\"group lasso\").\n",
    "- random forest"
   ]
  }
 ],
 "metadata": {
  "colab": {
   "name": "kmeans.ipynb",
   "provenance": []
  },
  "interpreter": {
   "hash": "2647ea34e536f865ab67ff9ddee7fd78773d956cec0cab53c79b32cd10da5d83"
  },
  "kernelspec": {
   "display_name": "Python 3",
   "language": "python",
   "name": "python3"
  },
  "language_info": {
   "codemirror_mode": {
    "name": "ipython",
    "version": 3
   },
   "file_extension": ".py",
   "mimetype": "text/x-python",
   "name": "python",
   "nbconvert_exporter": "python",
   "pygments_lexer": "ipython3",
   "version": "3.8.8"
  }
 },
 "nbformat": 4,
 "nbformat_minor": 1
}
