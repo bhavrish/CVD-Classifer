{
 "cells": [
  {
   "cell_type": "code",
   "execution_count": 1,
   "id": "a88b137f",
   "metadata": {},
   "outputs": [],
   "source": [
    "import pandas as pd\n",
    "import matplotlib.pyplot as plt\n",
    "import csv"
   ]
  },
  {
   "cell_type": "code",
   "execution_count": 3,
   "id": "7e7e7045",
   "metadata": {},
   "outputs": [],
   "source": [
    "df = pd.read_csv('../Data/cardio_train.csv', delimiter=';')"
   ]
  },
  {
   "cell_type": "code",
   "execution_count": 4,
   "id": "428a23cf",
   "metadata": {},
   "outputs": [],
   "source": [
    "df['age'] /= 365 # Convert age to years."
   ]
  },
  {
   "cell_type": "code",
   "execution_count": 5,
   "id": "574c8f04",
   "metadata": {},
   "outputs": [
    {
     "name": "stdout",
     "output_type": "stream",
     "text": [
      "<class 'pandas.core.frame.DataFrame'>\n",
      "RangeIndex: 70000 entries, 0 to 69999\n",
      "Data columns (total 13 columns):\n",
      " #   Column       Non-Null Count  Dtype  \n",
      "---  ------       --------------  -----  \n",
      " 0   id           70000 non-null  int64  \n",
      " 1   age          70000 non-null  float64\n",
      " 2   gender       70000 non-null  int64  \n",
      " 3   height       70000 non-null  int64  \n",
      " 4   weight       70000 non-null  float64\n",
      " 5   ap_hi        70000 non-null  int64  \n",
      " 6   ap_lo        70000 non-null  int64  \n",
      " 7   cholesterol  70000 non-null  int64  \n",
      " 8   gluc         70000 non-null  int64  \n",
      " 9   smoke        70000 non-null  int64  \n",
      " 10  alco         70000 non-null  int64  \n",
      " 11  active       70000 non-null  int64  \n",
      " 12  cardio       70000 non-null  int64  \n",
      "dtypes: float64(2), int64(11)\n",
      "memory usage: 6.9 MB\n",
      "None\n"
     ]
    }
   ],
   "source": [
    "print(df.info())"
   ]
  },
  {
   "cell_type": "code",
   "execution_count": 6,
   "id": "3ab56218",
   "metadata": {},
   "outputs": [
    {
     "name": "stdout",
     "output_type": "stream",
     "text": [
      "                   id       age    gender    height    weight     ap_hi  \\\n",
      "id           1.000000  0.003457  0.003502 -0.003038 -0.001830  0.003356   \n",
      "age          0.003457  1.000000 -0.022811 -0.081515  0.053684  0.020764   \n",
      "gender       0.003502 -0.022811  1.000000  0.499033  0.155406  0.006005   \n",
      "height      -0.003038 -0.081515  0.499033  1.000000  0.290968  0.005488   \n",
      "weight      -0.001830  0.053684  0.155406  0.290968  1.000000  0.030702   \n",
      "ap_hi        0.003356  0.020764  0.006005  0.005488  0.030702  1.000000   \n",
      "ap_lo       -0.002529  0.017647  0.015254  0.006150  0.043710  0.016086   \n",
      "cholesterol  0.006106  0.154424 -0.035821 -0.050226  0.141768  0.023778   \n",
      "gluc         0.002467  0.098703 -0.020491 -0.018595  0.106857  0.011841   \n",
      "smoke       -0.003699 -0.047633  0.338135  0.187989  0.067780 -0.000922   \n",
      "alco         0.001210 -0.029723  0.170966  0.094419  0.067113  0.001408   \n",
      "active       0.003755 -0.009927  0.005866 -0.006570 -0.016867 -0.000033   \n",
      "cardio       0.003799  0.238159  0.008109 -0.010821  0.181660  0.054475   \n",
      "\n",
      "                ap_lo  cholesterol      gluc     smoke      alco    active  \\\n",
      "id          -0.002529     0.006106  0.002467 -0.003699  0.001210  0.003755   \n",
      "age          0.017647     0.154424  0.098703 -0.047633 -0.029723 -0.009927   \n",
      "gender       0.015254    -0.035821 -0.020491  0.338135  0.170966  0.005866   \n",
      "height       0.006150    -0.050226 -0.018595  0.187989  0.094419 -0.006570   \n",
      "weight       0.043710     0.141768  0.106857  0.067780  0.067113 -0.016867   \n",
      "ap_hi        0.016086     0.023778  0.011841 -0.000922  0.001408 -0.000033   \n",
      "ap_lo        1.000000     0.024019  0.010806  0.005186  0.010601  0.004780   \n",
      "cholesterol  0.024019     1.000000  0.451578  0.010354  0.035760  0.009911   \n",
      "gluc         0.010806     0.451578  1.000000 -0.004756  0.011246 -0.006770   \n",
      "smoke        0.005186     0.010354 -0.004756  1.000000  0.340094  0.025858   \n",
      "alco         0.010601     0.035760  0.011246  0.340094  1.000000  0.025476   \n",
      "active       0.004780     0.009911 -0.006770  0.025858  0.025476  1.000000   \n",
      "cardio       0.065719     0.221147  0.089307 -0.015486 -0.007330 -0.035653   \n",
      "\n",
      "               cardio  \n",
      "id           0.003799  \n",
      "age          0.238159  \n",
      "gender       0.008109  \n",
      "height      -0.010821  \n",
      "weight       0.181660  \n",
      "ap_hi        0.054475  \n",
      "ap_lo        0.065719  \n",
      "cholesterol  0.221147  \n",
      "gluc         0.089307  \n",
      "smoke       -0.015486  \n",
      "alco        -0.007330  \n",
      "active      -0.035653  \n",
      "cardio       1.000000  \n"
     ]
    },
    {
     "data": {
      "image/png": "[encoded data removed]",
      "text/plain": [
       "<Figure size 288x288 with 1 Axes>"
      ]
     },
     "metadata": {
      "needs_background": "light"
     },
     "output_type": "display_data"
    }
   ],
   "source": [
    "print(df.corr())\n",
    "plt.matshow(df.corr())\n",
    "plt.show()"
   ]
  },
  {
   "cell_type": "code",
   "execution_count": null,
   "id": "ca28ab3c",
   "metadata": {},
   "outputs": [],
   "source": []
  }
 ],
 "metadata": {
  "kernelspec": {
   "display_name": "Python 3",
   "language": "python",
   "name": "python3"
  },
  "language_info": {
   "codemirror_mode": {
    "name": "ipython",
    "version": 3
   },
   "file_extension": ".py",
   "mimetype": "text/x-python",
   "name": "python",
   "nbconvert_exporter": "python",
   "pygments_lexer": "ipython3",
   "version": "3.8.8"
  }
 },
 "nbformat": 4,
 "nbformat_minor": 5
}
